{
 "cells": [
  {
   "cell_type": "code",
   "execution_count": 1,
   "metadata": {},
   "outputs": [],
   "source": [
    "# !pip install pandas\n",
    "# !pip install watermark\n",
    "# !pip install seaborn\n",
    "# !pip install biopython\n",
    "# !pip install sklearn\n",
    "import os\n",
    "import re \n",
    "# from Bio import SeqIO\n",
    "import seaborn as sns\n",
    "from sklearn.preprocessing import LabelEncoder\n",
    "from sklearn.preprocessing import OneHotEncoder\n",
    "import pandas as pd\n",
    "import numpy as np \n",
    "import watermark\n",
    "import random \n",
    "import math\n",
    "from tqdm.notebook import tqdm\n",
    "import matplotlib.pyplot as plt\n",
    "from IPython.core.interactiveshell import InteractiveShell\n",
    "InteractiveShell.ast_node_interactivity = 'all'"
   ]
  },
  {
   "cell_type": "code",
   "execution_count": 2,
   "metadata": {},
   "outputs": [
    {
     "name": "stdout",
     "output_type": "stream",
     "text": [
      "Last updated: 2021-05-04T23:11:25.376178+08:00\n",
      "\n",
      "Python implementation: CPython\n",
      "Python version       : 3.8.5\n",
      "IPython version      : 7.22.0\n",
      "\n",
      "Compiler    : MSC v.1916 64 bit (AMD64)\n",
      "OS          : Windows\n",
      "Release     : 10\n",
      "Machine     : AMD64\n",
      "Processor   : Intel64 Family 6 Model 142 Stepping 11, GenuineIntel\n",
      "CPU cores   : 8\n",
      "Architecture: 64bit\n",
      "\n",
      "re        : 2.2.1\n",
      "pandas    : 1.2.4\n",
      "matplotlib: 3.3.4\n",
      "numpy     : 1.20.1\n",
      "seaborn   : 0.11.1\n",
      "watermark : 2.2.0\n",
      "\n"
     ]
    }
   ],
   "source": [
    "%load_ext watermark\n",
    "%watermark\n",
    "%watermark --iversion"
   ]
  },
  {
   "cell_type": "markdown",
   "metadata": {},
   "source": [
    "## TODO\n",
    "- 把WAM模型包装为类？\n",
    "- 原来不对序列编码，发现运行速度贼慢，希望用numpy速度会快点  \n",
    "\n",
    "## Data Cleaning\n",
    "- train set contains 462 files,2831 introns, all suffies of file is \"TXT\",the letters are  lowercase  letters. The first line is \"LOCUS AB000381 35863 bp DNA PRI 14-MAY-1997\", gapped by lots of whitespace\n",
    "- test set contains 570 files,2071 introns,the suffixes of file contains \"TXT\"and \"txt\",and the letters are capital letters.The fist line in each file starts with like \">>ACU08131\"\n",
    "- 现在有一个问题，为什么提取的位点最后一个位点都是t开头的，而且几乎就没有gt donor site\n",
    "解决了，因为最后一个外显子没有donor site"
   ]
  },
  {
   "cell_type": "markdown",
   "metadata": {},
   "source": [
    "## 文件预处理\n",
    "创建文件夹（python中如果一个文件夹不存在，没法通过创建文件时同时创建文件）\n",
    "- 创建output文件夹用于保存得到的训练集和测试集的数据和分析结果\n",
    "- 创建predict文件夹用于保存预测的结果"
   ]
  },
  {
   "cell_type": "code",
   "execution_count": 3,
   "metadata": {},
   "outputs": [],
   "source": [
    "def mkdir(dirs):\n",
    "    if not os.path.exists(dirs):\n",
    "        os.makedirs(dirs)\n",
    "    else:\n",
    "        pass\n",
    "mkdir(\"output\")\n",
    "mkdir(\"predict\")"
   ]
  },
  {
   "cell_type": "markdown",
   "metadata": {},
   "source": [
    "一些全局变量设定"
   ]
  },
  {
   "cell_type": "code",
   "execution_count": 4,
   "metadata": {},
   "outputs": [],
   "source": [
    "left=3\n",
    "right=6\n",
    "signal_num = left+right\n",
    "bases=\"ACGT\"\n",
    "lower_bases=\"acgt\""
   ]
  },
  {
   "cell_type": "markdown",
   "metadata": {},
   "source": [
    "读取Training Set 和Testing Set文件夹，得到该文件夹下所有文件路径"
   ]
  },
  {
   "cell_type": "code",
   "execution_count": 5,
   "metadata": {
    "tags": []
   },
   "outputs": [
    {
     "data": {
      "application/vnd.jupyter.widget-view+json": {
       "model_id": "5a85f4d3ea9344ebb783e5e51a441ec1",
       "version_major": 2,
       "version_minor": 0
      },
      "text/plain": [
       "LOADING Training Set:   0%|          | 0/463 [00:00<?, ?it/s]"
      ]
     },
     "metadata": {},
     "output_type": "display_data"
    },
    {
     "name": "stdout",
     "output_type": "stream",
     "text": [
      "463 Files Loading Finished!\n",
      "\n"
     ]
    },
    {
     "data": {
      "application/vnd.jupyter.widget-view+json": {
       "model_id": "b152b6511ab24b2180e48bddc047e731",
       "version_major": 2,
       "version_minor": 0
      },
      "text/plain": [
       "LOADING Testing Set:   0%|          | 0/571 [00:00<?, ?it/s]"
      ]
     },
     "metadata": {},
     "output_type": "display_data"
    },
    {
     "name": "stdout",
     "output_type": "stream",
     "text": [
      "571 Files Loading Finished!\n",
      "\n"
     ]
    }
   ],
   "source": [
    "\n",
    "def loadFile(file_dir):\n",
    "    '''\n",
    "    Function: Read  All files in the Training Set Folder and Testing Set Folder\n",
    "    Parameter：file_dir\n",
    "    Output: file_path,locus_list\n",
    "    Attention: do not load non-fasta files!\n",
    "    '''\n",
    "    file_path = []\n",
    "    file_locus_list = []\n",
    "    count=0\n",
    "    all_file = tqdm(os.listdir(file_dir), desc=f'LOADING {file_dir}')\n",
    "    for file_name in all_file:\n",
    "        count+=1\n",
    "        suffix = re.findall(\"\\.(.+$)\",file_name)[-1].lower()\n",
    "        # or  suffix = file_name.split(\".\")[1].lower()\n",
    "        if suffix != \"txt\":\n",
    "            continue\n",
    "        path = f\"{file_dir}/{file_name}\"\n",
    "        file_path.append(path)\n",
    "    all_file.write(f\"{count} Files Loading Finished!\")\n",
    "    all_file.close()\n",
    "    print()\n",
    "    return file_path\n",
    "\n",
    "train_file_path =loadFile('Training Set')\n",
    "test_file_path =loadFile('Testing Set')\n",
    "# print(train_file_path)"
   ]
  },
  {
   "cell_type": "markdown",
   "metadata": {},
   "source": [
    "读取文件\n",
    "> 小插曲：尝试使用bipython的模块来加载，然而好像不太好用……还是用自己的函数吧\n",
    ">```python\n",
    "># for seq_record in SeqIO.parse('Testing Set/ACU08131.TXT', \"fasta\"):\n",
    ">#     print(seq_record.id)\n",
    "># #     print(type(seq_record.id))\n",
    "># #     print(seq_record.seq)\n",
    ">#     print(str(seq_record.seq))\n",
    ">```"
   ]
  },
  {
   "cell_type": "markdown",
   "metadata": {},
   "source": [
    " 读取每个文件，抽取每个文件的包含的信息，比如外显子数目和位置、donor site和acceptor site位置、抽取donor site 前left和后right的signal序列，对acceptor 抽取的是前right后left的signal 序列"
   ]
  },
  {
   "cell_type": "code",
   "execution_count": 6,
   "metadata": {
    "tags": []
   },
   "outputs": [
    {
     "name": "stdout",
     "output_type": "stream",
     "text": [
      "*********Extract Train Set donor signals**********\n"
     ]
    },
    {
     "data": {
      "application/vnd.jupyter.widget-view+json": {
       "model_id": "4373cfbefae24a60b0feb23b11a8fecc",
       "version_major": 2,
       "version_minor": 0
      },
      "text/plain": [
       "Train Progressing：:   0%|          | 0/462 [00:00<?, ?it/s]"
      ]
     },
     "metadata": {},
     "output_type": "display_data"
    },
    {
     "name": "stdout",
     "output_type": "stream",
     "text": [
      "Extract Folder Train info Finished!\n",
      "**********Extract Test Set donor signals**********\n"
     ]
    },
    {
     "data": {
      "application/vnd.jupyter.widget-view+json": {
       "model_id": "8cf053ccc22543ccabdd38abd5370499",
       "version_major": 2,
       "version_minor": 0
      },
      "text/plain": [
       "Test Progressing：:   0%|          | 0/570 [00:00<?, ?it/s]"
      ]
     },
     "metadata": {},
     "output_type": "display_data"
    },
    {
     "name": "stdout",
     "output_type": "stream",
     "text": [
      "Extract Folder Test info Finished!\n"
     ]
    }
   ],
   "source": [
    "def extract_donor_signal(file_path,folder):\n",
    "    '''\n",
    "    Parameter：train_file_path|test_file_path [set_folder]\n",
    "    Output:file_donor_positions,file_acceptor_positions,file_donor_signals,donor_signal_all\n",
    "    '''\n",
    "    print(f'Extract {folder} Set donor signals'.center(50, '*'))\n",
    "    donor_positions= [] #1\n",
    "    acceptor_positions= [] #1\n",
    "    donor_signals=[]  #1\n",
    "    acceptor_signals=[]   #1\n",
    "    all_donor_signal=[]  \n",
    "    all_acceptor_signal=[]\n",
    "    length_list = [] #1\n",
    "    seq_list = [] #1\n",
    "    exons = [] #1\n",
    "    locus =[]\n",
    "    files = tqdm(file_path, desc=f'{folder} Progressing：')\n",
    "    for file in files:\n",
    "        f = open(file)\n",
    "        #  first line: extract gene locus\n",
    "        first_line =f.readline() \n",
    "        if folder == \"Test\":\n",
    "            locus.append(re.search(\">(.+)$\",first_line).group(1))\n",
    "        elif folder==\"Train\":\n",
    "            locus.append(first_line.split()[1]) \n",
    "        #  second line: extract  donor and acceptor site positions\n",
    "        second_line=f.readline()  \n",
    "        exon_positions_list = re.findall(r'(\\d+)\\.\\.(\\d+)',second_line)\n",
    "        donor_positions_list = [int(pos_set[1])+1 for pos_set in exon_positions_list[:-1]]\n",
    "        acceptor_positions_list= [int(pos_set[0])-1 for pos_set in exon_positions_list[1:]]\n",
    "        exons.append(exon_positions_list)\n",
    "        donor_positions.append(donor_positions_list)\n",
    "        acceptor_positions.append(acceptor_positions_list)\n",
    "        seq = ''\n",
    "        # extract  seq info\n",
    "        for line in f.readlines():\n",
    "                seq += line.strip()\n",
    "        seq_length = len(seq)\n",
    "        seq_list.append(seq.lower())\n",
    "        length_list.append(seq_length)\n",
    "        # extract  donor site signal\n",
    "        donor_signal=[]\n",
    "        for pos in donor_positions_list:\n",
    "            signal_range = seq[pos-1-left:pos-1+right].lower()\n",
    "            donor_signal.append(signal_range)\n",
    "            all_donor_signal.append(signal_range)\n",
    "        donor_signals.append(donor_signal)\n",
    "        # extract  acceptor site signal\n",
    "        acceptor_signal=[]\n",
    "        for pos in acceptor_positions_list:\n",
    "            signal_range = seq[pos-right:pos+left].lower()\n",
    "            acceptor_signal.append(signal_range)\n",
    "            all_acceptor_signal.append(signal_range)\n",
    "        acceptor_signals.append(acceptor_signal)\n",
    "    df_set_info = pd.DataFrame({'Path':file_path, 'Locus':locus,\"Length\":length_list,\"Exon Num\":[ len(exons) for exons  in exons],\\\n",
    " \"Exon Location\":exons,\"Donor Site\":donor_positions,\"Acceptor Site\":acceptor_positions,\"Donor signals\":donor_signals,\"Acceptor signals\":acceptor_signals})\n",
    "    df_set_info_seq = df_set_info.copy()\n",
    "    df_set_info_seq[\"Seq\"] = seq_list\n",
    "    df_set_info_seq.to_csv(f'output/{folder}_set_info.csv',index=None)\n",
    "    df_set_info.to_csv(f'output/{folder}_set_info(non-seq).csv',index=None)\n",
    "    print(f\"Extract Folder {folder} info Finished!\")\n",
    "    return all_donor_signal,all_acceptor_signal,seq_list,donor_positions,acceptor_positions\n",
    "\n",
    "train_donor_signal_all_str,train_acceptor_signal_all_str,train_seq_list,\\\n",
    "train_donor_positions,train_acceptor_positions=extract_donor_signal(train_file_path,folder=\"Train\")\n",
    "test_donor_signal_all_str,test_acceptor_signal_all_str,test_seq_list,\\\n",
    "test_donor_positions,test_acceptor_positions=extract_donor_signal(test_file_path,folder=\"Test\")"
   ]
  },
  {
   "cell_type": "code",
   "execution_count": 7,
   "metadata": {},
   "outputs": [
    {
     "data": {
      "text/plain": [
       "['agtgtaagt', 'ttcgtaagt', 'agggtaaga']"
      ]
     },
     "execution_count": 7,
     "metadata": {},
     "output_type": "execute_result"
    },
    {
     "data": {
      "text/plain": [
       "['tctcaggga', 'ttttaggca', 'ccccaggtg']"
      ]
     },
     "execution_count": 7,
     "metadata": {},
     "output_type": "execute_result"
    }
   ],
   "source": [
    "train_donor_signal_all_str[0:3]\n",
    "train_acceptor_signal_all_str[0:3]"
   ]
  },
  {
   "cell_type": "markdown",
   "metadata": {},
   "source": [
    "把提取的donor_signal和acceptor_signal保存"
   ]
  },
  {
   "cell_type": "code",
   "execution_count": 8,
   "metadata": {},
   "outputs": [
    {
     "name": "stdout",
     "output_type": "stream",
     "text": [
      "     -3 -2 -1  0  1  2  3  4  5\n",
      "0     a  g  t  g  t  a  a  g  t\n",
      "1     t  t  c  g  t  a  a  g  t\n",
      "2     a  g  g  g  t  a  a  g  a\n",
      "3     c  a  g  g  t  g  g  g  g\n",
      "4     g  a  g  g  t  g  a  g  t\n",
      "...  .. .. .. .. .. .. .. .. ..\n",
      "2376  c  a  g  g  t  a  g  g  t\n",
      "2377  a  a  g  g  t  a  a  g  t\n",
      "2378  a  c  a  g  t  g  a  g  t\n",
      "2379  g  a  a  g  t  g  a  g  t\n",
      "2380  c  a  g  g  t  a  a  c  t\n",
      "\n",
      "[2381 rows x 9 columns]\n",
      "     -5 -4 -3 -2 -1  0  1  2  3\n",
      "0     t  c  t  c  a  g  g  g  a\n",
      "1     t  t  t  t  a  g  g  c  a\n",
      "2     c  c  c  c  a  g  g  t  g\n",
      "3     t  c  c  t  a  g  g  g  a\n",
      "4     c  c  t  c  a  g  c  a  c\n",
      "...  .. .. .. .. .. .. .. .. ..\n",
      "2376  c  t  t  c  a  g  c  t  g\n",
      "2377  t  t  a  c  a  g  a  a  c\n",
      "2378  c  t  t  c  a  g  t  g  c\n",
      "2379  t  t  c  c  a  g  g  t  g\n",
      "2380  c  c  g  c  a  g  c  a  g\n",
      "\n",
      "[2381 rows x 9 columns]\n",
      "     -3 -2 -1  0  1  2  3  4  5\n",
      "0     g  g  g  g  t  g  a  g  c\n",
      "1     g  t  g  g  t  a  a  g  a\n",
      "2     t  a  g  g  t  g  a  g  t\n",
      "3     g  c  g  g  t  a  g  g  t\n",
      "4     c  a  g  g  t  a  a  t  t\n",
      "...  .. .. .. .. .. .. .. .. ..\n",
      "2074  c  c  a  g  t  a  a  g  t\n",
      "2075  c  a  g  g  t  a  a  a  a\n",
      "2076  a  a  g  g  t  a  c  c  c\n",
      "2077  t  c  t  g  t  a  a  g  t\n",
      "2078  g  g  g  g  t  g  a  g  t\n",
      "\n",
      "[2079 rows x 9 columns]\n",
      "     -5 -4 -3 -2 -1  0  1  2  3\n",
      "0     t  g  g  c  a  g  g  c  c\n",
      "1     c  c  a  t  a  g  g  t  a\n",
      "2     c  t  c  t  a  g  g  t  a\n",
      "3     a  c  a  c  a  g  g  t  t\n",
      "4     t  g  g  c  a  g  t  t  c\n",
      "...  .. .. .. .. .. .. .. .. ..\n",
      "2074  t  t  g  c  a  g  t  t  g\n",
      "2075  c  t  a  t  a  g  g  c  t\n",
      "2076  t  t  c  c  a  g  c  g  c\n",
      "2077  t  t  t  c  a  g  c  c  a\n",
      "2078  c  t  g  c  a  g  a  g  c\n",
      "\n",
      "[2079 rows x 9 columns]\n",
      "save Train_donor_signal_str successful!\n",
      "save Train_acceptor_signal_str successful!\n",
      "save Test_donor_signal_str successful!\n",
      "save Test_acceptor_signal_str successful!\n"
     ]
    }
   ],
   "source": [
    "def signal_to_csv(signal_str,mode,folder=\"Train\"):\n",
    "    \"\"\"\n",
    "    output: csv\n",
    "    \"\"\"\n",
    "    signal_list= map(list, signal_str)\n",
    "    if mode==\"donor\" or mode==\"nonDonor\":\n",
    "        col_name = list(range(-left,right))\n",
    "    elif mode==\"acceptor\":\n",
    "        col_name = list(range(-right+1,left+1))\n",
    "    donorDf = pd.DataFrame(columns=col_name, data=signal_list, index=None)\n",
    "    print(donorDf)  # [2843 rows x 9 columns]\n",
    "    donorDf.to_csv(f'output/{folder}_{mode}_signal_info.csv',index=None)\n",
    "    \n",
    "\n",
    "def save_donors_str(signal_str,filename=\"signal_str\"):\n",
    "    \"\"\"\n",
    "    output: txt\n",
    "    \"\"\"\n",
    "    f = open(f'output/{filename}.txt', 'w')\n",
    "    for donor in signal_str:\n",
    "        donor = donor.lower()  # 存入文件时，把所有字符都规范成小写\n",
    "        f.write(donor + '\\n')\n",
    "    f.close()\n",
    "    print(f'save {filename} successful!')\n",
    "\n",
    "signal_to_csv(train_donor_signal_all_str,folder=\"Train\",mode=\"donor\")\n",
    "signal_to_csv(train_acceptor_signal_all_str,folder=\"Train\",mode=\"acceptor\")\n",
    "signal_to_csv(test_donor_signal_all_str,folder=\"Test\",mode=\"donor\")\n",
    "signal_to_csv(test_acceptor_signal_all_str,folder=\"Test\",mode=\"acceptor\")\n",
    "save_donors_str(train_donor_signal_all_str,filename=\"Train_donor_signal_str\")\n",
    "save_donors_str(train_acceptor_signal_all_str,filename=\"Train_acceptor_signal_str\")\n",
    "save_donors_str(test_donor_signal_all_str,filename=\"Test_donor_signal_str\")\n",
    "save_donors_str(test_acceptor_signal_all_str,filename=\"Test_acceptor_signal_str\")"
   ]
  },
  {
   "cell_type": "markdown",
   "metadata": {},
   "source": [
    "这里有一个比较坑的一点是，序列里才不只是有ACGT，还有其他未知碱基，但统计完之后发现其实提取的signal序列都没用未知碱基，所以之后处理可以考虑提取的序列如果包含未知碱基"
   ]
  },
  {
   "cell_type": "code",
   "execution_count": 9,
   "metadata": {},
   "outputs": [
    {
     "data": {
      "application/vnd.jupyter.widget-view+json": {
       "model_id": "d49f110a4beb417f8294ae119b4ef523",
       "version_major": 2,
       "version_minor": 0
      },
      "text/plain": [
       "Counting  Base Distribution::   0%|          | 0/462 [00:00<?, ?it/s]"
      ]
     },
     "metadata": {},
     "output_type": "display_data"
    },
    {
     "data": {
      "application/vnd.jupyter.widget-view+json": {
       "model_id": "b462b38ce3654be7a235d83c683925f8",
       "version_major": 2,
       "version_minor": 0
      },
      "text/plain": [
       "Counting  Base Distribution::   0%|          | 0/2381 [00:00<?, ?it/s]"
      ]
     },
     "metadata": {},
     "output_type": "display_data"
    },
    {
     "data": {
      "application/vnd.jupyter.widget-view+json": {
       "model_id": "9db691f26c084bdf8c91bfeabf6affe9",
       "version_major": 2,
       "version_minor": 0
      },
      "text/plain": [
       "Counting  Base Distribution::   0%|          | 0/570 [00:00<?, ?it/s]"
      ]
     },
     "metadata": {},
     "output_type": "display_data"
    },
    {
     "data": {
      "application/vnd.jupyter.widget-view+json": {
       "model_id": "936aba4edc104bffbe0dfa69aa2d2818",
       "version_major": 2,
       "version_minor": 0
      },
      "text/plain": [
       "Counting  Base Distribution::   0%|          | 0/2079 [00:00<?, ?it/s]"
      ]
     },
     "metadata": {},
     "output_type": "display_data"
    },
    {
     "name": "stdout",
     "output_type": "stream",
     "text": [
      "Distribution of all bases in training set\n",
      " {'g': 1306260, 'c': 1282733, 'a': 1436966, 't': 1498203, 'n': 682, 'k': 28, 's': 27, 'r': 15, 'y': 26, 'w': 14, 'm': 16, 'v': 2, 'b': 4}\n",
      "Distribution of donor site bases in training  set\n",
      " {'a': 5781, 'g': 8909, 't': 4709, 'c': 2030}\n",
      "Distribution of all bases in testing set\n",
      " {'c': 689433, 't': 762900, 'g': 702343, 'a': 736600, 'n': 862, 'b': 1, 'r': 5, 'y': 3, 'k': 1, 's': 1}\n",
      "Distribution of donor site  bases in testing set\n",
      " {'g': 7730, 't': 4176, 'a': 5114, 'c': 1691}\n"
     ]
    }
   ],
   "source": [
    "from  collections import Counter\n",
    "# def count_each_char(str_list):\n",
    "#     str_list = tqdm(str_list, desc='Counting  Base Distribution:')\n",
    "#     dict1 =  Counter({})\n",
    "#     for seq in str_list:\n",
    "#         dict2 = Counter((str_list))\n",
    "#         dict1 +=dict2\n",
    "#     return dict(dict1)\n",
    "def count_each_char(str_list):\n",
    "    dict = {}\n",
    "    str_list = tqdm(str_list, desc='Counting  Base Distribution:')\n",
    "    for seq in str_list:\n",
    "         for i  in seq:\n",
    "            if i not in dict:\n",
    "                dict[i] = 1\n",
    "            else:\n",
    "                dict[i] += 1\n",
    "    return dict\n",
    "base_dis_1 = count_each_char(train_seq_list)\n",
    "base_dis_2 = count_each_char(train_donor_signal_all_str)\n",
    "base_dis_3 = count_each_char(test_seq_list)\n",
    "base_dis_4 = count_each_char(test_donor_signal_all_str)\n",
    "print(\"Distribution of all bases in training set\\n\",base_dis_1)\n",
    "print(\"Distribution of donor site bases in training  set\\n\",base_dis_2)\n",
    "print(\"Distribution of all bases in testing set\\n\",base_dis_3)\n",
    "print(\"Distribution of donor site  bases in testing set\\n\",base_dis_4)"
   ]
  },
  {
   "cell_type": "markdown",
   "metadata": {},
   "source": [
    "序列编码函数，之后应该有大用！"
   ]
  },
  {
   "cell_type": "code",
   "execution_count": 10,
   "metadata": {},
   "outputs": [
    {
     "data": {
      "application/vnd.jupyter.widget-view+json": {
       "model_id": "f4e66b3daee540debc4e0dd8d3447633",
       "version_major": 2,
       "version_minor": 0
      },
      "text/plain": [
       "code_all_signal::   0%|          | 0/19 [00:00<?, ?it/s]"
      ]
     },
     "metadata": {},
     "output_type": "display_data"
    },
    {
     "data": {
      "text/plain": [
       "array([[3, 3, 1, 2, 3, 0, 0, 2, 3],\n",
       "       [0, 2, 2, 2, 3, 0, 0, 2, 0],\n",
       "       [1, 0, 2, 2, 3, 2, 2, 2, 2],\n",
       "       [2, 0, 2, 2, 3, 2, 0, 2, 3],\n",
       "       [0, 1, 2, 2, 3, 0, 0, 1, 3],\n",
       "       [1, 3, 1, 2, 3, 0, 0, 2, 3],\n",
       "       [3, 0, 0, 2, 3, 0, 0, 2, 1],\n",
       "       [1, 3, 2, 2, 3, 2, 2, 2, 3],\n",
       "       [1, 0, 2, 2, 3, 2, 0, 2, 2],\n",
       "       [1, 0, 2, 2, 3, 0, 2, 2, 1],\n",
       "       [2, 3, 2, 2, 3, 2, 0, 2, 3],\n",
       "       [2, 0, 2, 2, 3, 2, 0, 2, 1],\n",
       "       [2, 3, 2, 2, 3, 2, 0, 2, 2],\n",
       "       [0, 3, 0, 2, 3, 0, 0, 2, 3],\n",
       "       [1, 3, 2, 2, 3, 0, 3, 2, 2],\n",
       "       [2, 3, 2, 2, 3, 2, 0, 2, 3],\n",
       "       [0, 0, 3, 2, 3, 2, 0, 2, 3],\n",
       "       [1, 0, 2, 2, 3, 2, 2, 2, 3],\n",
       "       [1, 0, 2, 2, 3, 0, 2, 2, 0]])"
      ]
     },
     "execution_count": 10,
     "metadata": {},
     "output_type": "execute_result"
    }
   ],
   "source": [
    "sub_pattern = re.compile('[^acgt]')\n",
    "pattern = re.compile(\"[^acgt]\")\n",
    "def string_to_array(my_string):\n",
    "    \"\"\"\n",
    "    function to convert a DNA sequence string to a numpy array\n",
    "    converts to lower case, changes any non 'acgt' characters to 'n'\n",
    "    like: ['c' 'a' 't' 'g' 'g']\n",
    "    \"\"\"\n",
    "#     my_string = my_string.lower()\n",
    "    my_string = sub_pattern.sub('z', my_string)\n",
    "    my_array = list(my_string)\n",
    "#     my_array = np.array(list(my_string))\n",
    "    return my_array\n",
    "def getKmers(sequence, size):\n",
    "    return [sequence[x:x+size].lower() for x in range(len(sequence) - size + 1)]\n",
    "\n",
    "def ordinal_encoder(my_array):\n",
    "    \"\"\"\n",
    "    function to encode a DNA sequence string as an ordinal vector\n",
    "    returns a numpy vector with a=0, c=1, g=2, t=3, n=4\n",
    "    like: [1 0 3 2 2 1]\n",
    "    \"\"\"\n",
    "    label_encoder = LabelEncoder()\n",
    "    label_encoder.fit(np.array(['a','c','g','t','z']))\n",
    "    integer_encoded = label_encoder.transform(my_array)\n",
    "    return integer_encoded\n",
    "def one_hot_encoder(my_array):\n",
    "    label_encoder = LabelEncoder()\n",
    "    label_encoder.fit(np.array(['a','c','g','t','z']))\n",
    "    integer_encoded = label_encoder.transform(my_array)\n",
    "    onehot_encoder = OneHotEncoder(sparse=False, dtype=int)\n",
    "    integer_encoded = integer_encoded.reshape(len(integer_encoded), 1)\n",
    "    onehot_encoded = onehot_encoder.fit_transform(integer_encoded)\n",
    "    onehot_encoded = np.delete(onehot_encoded, -1, 1)\n",
    "    return onehot_encoded\n",
    "def clean_noknown(donor_signal):\n",
    "    no_known =pattern.search(nonDonor)\n",
    "    return not no_known\n",
    "            \n",
    "\n",
    "from multiprocessing import Pool\n",
    "\n",
    "char_to_int = {c:i for i, c in enumerate(lower_bases)}\n",
    "def process_strtoint(donor):\n",
    "    donor = list(donor)\n",
    "    integer_encoded = [char_to_int[char] for char in donor]\n",
    "    return list(integer_encoded)\n",
    "\n",
    "def code_all_seq(all_str):\n",
    "    all_str = tqdm(all_str, desc='code_all_signal:')\n",
    "    int_coded=map(process_strtoint,all_str)\n",
    "#     code = list(map(ordinal_encoder,signal_array))\n",
    "#     code=np.array(list(signal_array),dtype=np.int32)\n",
    "#     return np.array(code)\n",
    "    return np.array(list(int_coded))\n",
    "\n",
    "# getKmers(sequence, size)\n",
    "# ordinal_encoder(string_to_array(test_sequence))\n",
    "# one_hot_encoder(string_to_array(test_sequence))\n",
    "\n",
    "# mySeq = 'CATGGCCATNNNNNNNNGAGCGGGGGGGGG'\n",
    "# mySeq2 = 'GATGGCCATCCCCGCCCGAGCGGGGGGGG'\n",
    "# mySeq3 = 'CATGGCCATCCCCGCCCGAGCGGGCGGGG'\n",
    "# integer_encoded = ordinal_encoder(string_to_array(mySeq))\n",
    "# one_hot_matrix = one_hot_encoder(string_to_array(mySeq))\n",
    "# print(string_to_array(mySeq))\n",
    "# print(string_to_array(mySeq).reshape([6,-1]))\n",
    "# print(integer_encoded)\n",
    "# print(one_hot_matrix[0:5])\n",
    "code_all_seq(train_donor_signal_all_str[1:20])"
   ]
  },
  {
   "cell_type": "code",
   "execution_count": 11,
   "metadata": {},
   "outputs": [
    {
     "name": "stdout",
     "output_type": "stream",
     "text": [
      "Counter(data)\n",
      " Counter({1: 9})\n",
      "==========\n",
      "np.unique(data)\n",
      " [9]\n",
      "np.unique(data)\n",
      " [1]\n",
      "9\n"
     ]
    }
   ],
   "source": [
    "#numpy 统计数组的值出现次数与np.bincount()详细解释\n",
    "import numpy as np\n",
    "from collections import Counter\n",
    "# train_donor_signal_int\n",
    "# data = train_donor_signal_int[0]\n",
    "data = [1,1,1,1,1,1,1,1,1]\n",
    "# print()\n",
    "# 方法一\n",
    "print('Counter(data)\\n',Counter(data)) # 调用Counter函数\n",
    "print('==========')\n",
    " \n",
    "# 方法二\n",
    "print('np.unique(data)\\n',np.unique(data,return_counts=True)[1][0:4]) # unique返回的是已排序数组\n",
    "print('np.unique(data)\\n',np.unique(data))\n",
    "for i in np.unique(data):\n",
    "\tprint(np.sum(data==i))\n",
    "## np.unique(data,return_counts=True) 能直接返回unique的结果，也能返回统计结果\n",
    "## 效果：(array([1.1, 2. , 3. , 4. , 5. ]), array([3, 1, 1, 3, 2], dtype=int64))"
   ]
  },
  {
   "cell_type": "code",
   "execution_count": 12,
   "metadata": {
    "tags": []
   },
   "outputs": [
    {
     "data": {
      "application/vnd.jupyter.widget-view+json": {
       "model_id": "ec04891378b7497eb93e6ae047a69502",
       "version_major": 2,
       "version_minor": 0
      },
      "text/plain": [
       "code_all_signal::   0%|          | 0/2381 [00:00<?, ?it/s]"
      ]
     },
     "metadata": {},
     "output_type": "display_data"
    },
    {
     "data": {
      "application/vnd.jupyter.widget-view+json": {
       "model_id": "5c72e3228e4c4f02bb605c962b9f1709",
       "version_major": 2,
       "version_minor": 0
      },
      "text/plain": [
       "Calculating Prior Probability::   0%|          | 0/9 [00:00<?, ?it/s]"
      ]
     },
     "metadata": {},
     "output_type": "display_data"
    },
    {
     "name": "stdout",
     "output_type": "stream",
     "text": [
      "        p(A)      p(C)      p(G)      p(T)\n",
      "-3  0.328433  0.363713  0.188576  0.119278\n",
      "-2  0.585468  0.137757  0.133557  0.143217\n",
      "-1  0.094078  0.034019  0.788744  0.083158\n",
      " 0  0.000000  0.000000  1.000000  0.000000\n",
      " 1  0.000000  0.000000  0.000000  1.000000\n",
      " 2  0.490130  0.027299  0.458211  0.024360\n",
      " 3  0.713566  0.077278  0.117598  0.091558\n",
      " 4  0.065099  0.049559  0.838303  0.047039\n",
      " 5  0.151197  0.162957  0.216716  0.469131\n"
     ]
    },
    {
     "data": {
      "application/vnd.jupyter.widget-view+json": {
       "model_id": "773b5e97b9e34a47899a0a60560fe2ea",
       "version_major": 2,
       "version_minor": 0
      },
      "text/plain": [
       "code_all_signal::   0%|          | 0/2381 [00:00<?, ?it/s]"
      ]
     },
     "metadata": {},
     "output_type": "display_data"
    },
    {
     "data": {
      "application/vnd.jupyter.widget-view+json": {
       "model_id": "742146a6f08840278b8904b63a5ece61",
       "version_major": 2,
       "version_minor": 0
      },
      "text/plain": [
       "Calculating Prior Probability::   0%|          | 0/9 [00:00<?, ?it/s]"
      ]
     },
     "metadata": {},
     "output_type": "display_data"
    },
    {
     "name": "stdout",
     "output_type": "stream",
     "text": [
      "        p(A)      p(C)      p(G)      p(T)\n",
      "-5  0.070979  0.450231  0.065099  0.413692\n",
      "-4  0.071399  0.392692  0.059639  0.476270\n",
      "-3  0.220076  0.343973  0.221336  0.214616\n",
      "-2  0.041159  0.739185  0.001680  0.217976\n",
      "-1  1.000000  0.000000  0.000000  0.000000\n",
      " 0  0.000000  0.000000  1.000000  0.000000\n",
      " 1  0.228895  0.135237  0.534229  0.101638\n",
      " 2  0.224276  0.199916  0.251995  0.323814\n",
      " 3  0.241495  0.253675  0.246955  0.257875\n"
     ]
    },
    {
     "data": {
      "image/png": "[encoded data removed]",
      "text/plain": [
       "<Figure size 576x576 with 2 Axes>"
      ]
     },
     "metadata": {
      "needs_background": "light"
     },
     "output_type": "display_data"
    },
    {
     "data": {
      "image/png": "[encoded data removed]",
      "text/plain": [
       "<Figure size 576x576 with 2 Axes>"
      ]
     },
     "metadata": {
      "needs_background": "light"
     },
     "output_type": "display_data"
    }
   ],
   "source": [
    "\n",
    "def cal_priorProbability(donor_signal) :\n",
    "    \"\"\"\n",
    "    为了优化计算先验概率的性能，导致现在不能输入非atcg的了……\n",
    "    \"\"\"\n",
    "    count= np.zeros((signal_num,4),dtype=np.int32)\n",
    "    cols = tqdm(range(signal_num), desc='Calculating Prior Probability:')\n",
    "    for col in cols:\n",
    "        count[col]=np.bincount(donor_signal[:,col],minlength=4)[0:4]\n",
    "#         count[col]=np.unique(donor_signal[:,col],return_counts=True)[1][0:4]\n",
    "#     print(count)\n",
    "    priors = count/len(donor_signal)\n",
    "    cols.close()\n",
    "    return priors\n",
    "\n",
    "def prior_to_csv(priors,signal,mode):\n",
    "    pri_col_name = [f'p({base})' for base in bases ]\n",
    "    if signal==\"donor\" or signal==\"nonDonor\":\n",
    "        pri_row_name= list(range(-left,right))\n",
    "    elif signal==\"acceptor\":\n",
    "        pri_row_name = list(range(-right+1,left+1))\n",
    "    priorDf= pd.DataFrame(index=pri_row_name,columns=pri_col_name, data=priors)\n",
    "    print(priorDf)  \n",
    "    if signal==\"nonDonor\":\n",
    "        priorDf.to_csv(f'output/prior_probability_(P{mode}).csv')\n",
    "    else:\n",
    "        priorDf.to_csv(f'output/{signal}_prior_probability_(P{mode}).csv')\n",
    "    return priorDf\n",
    "\n",
    "def ShowHeatMap(DataFrame,title=\"HeatMap\",size=(8, 8),color='GnBu'):\n",
    "    \"\"\"\n",
    "    # ylabels = DataFrame.columns.values.tolist() #保存df的列名为label\n",
    "    # 数据的index和columns分别为heatmap的y轴方向和x轴方向标签\n",
    "    # cmap=sns.light_palette(\"#2ecc71\", as_cmap=True)\n",
    "    #x轴方向刻度标签开关、赋值，可选“auto”, bool, list-like（传入列表）, or int\n",
    "    xticklabels=['三连啊','关注公众号啊','pythonic生物人','收藏啊','点赞啊','老铁三连三连'] ,\n",
    "     #y轴方向刻度标签开关、同x轴\n",
    "            yticklabels=True\n",
    "    colormap = plt.cm.RdBu,\"YlGnBu\" # 颜色映射\n",
    "    \"\"\"\n",
    "    \n",
    "\n",
    "    f, ax = plt.subplots(figsize=size)\n",
    "    ax.set_title(title,fontsize=15)\n",
    "    with sns.axes_style(\"white\"):\n",
    "        sns.heatmap(DataFrame,\n",
    "                    cmap=color,  \n",
    "                    annot=True, # show num\n",
    "                    fmt='.3g',# num format\n",
    "#                     mask=DataFrame > 0.25,\n",
    "#                     annot_kws={\"weight\": \"bold\"}\n",
    "                    linewidths=.2,\n",
    "                    yticklabels=True,\n",
    "                    xticklabels=True,\n",
    "                   )\n",
    "    \n",
    "    ax.set_ylabel(\"Site\",fontsize=15)\n",
    "    ax.set_xlabel(\"Prosibility\",fontsize=15)\n",
    "    f.savefig(f\"output/{title}-left{left}-right{right}.png\",dpi=400)\n",
    "\n",
    "# train_donor_signal_all_str = filter(clean_noknown, train_donor_signal_all_str) 本来还想过滤一下非donor的看来没必要\n",
    "train_donor_signal_int=code_all_seq(train_donor_signal_all_str)\n",
    "donor_priors_p=cal_priorProbability(train_donor_signal_int)\n",
    "df_donor_priors_p=prior_to_csv(donor_priors_p,signal=\"donor\",mode=\"+\")\n",
    "train_acceptor_signal_int=code_all_seq(train_acceptor_signal_all_str)\n",
    "acceptor_priors_p=cal_priorProbability(train_acceptor_signal_int)\n",
    "df_acceptor_priors_p=prior_to_csv(acceptor_priors_p,signal=\"acceptor\",mode=\"+\")\n",
    "ShowHeatMap(df_donor_priors_p,title=\"Nucleotide Distribution Probabilities around Donor Sites\")\n",
    "ShowHeatMap(df_acceptor_priors_p,title=\"Nucleotide Distribution Probabilities around Acceptor Sites\")"
   ]
  },
  {
   "cell_type": "code",
   "execution_count": 13,
   "metadata": {},
   "outputs": [
    {
     "data": {
      "text/html": [
       "<div>\n",
       "<style scoped>\n",
       "    .dataframe tbody tr th:only-of-type {\n",
       "        vertical-align: middle;\n",
       "    }\n",
       "\n",
       "    .dataframe tbody tr th {\n",
       "        vertical-align: top;\n",
       "    }\n",
       "\n",
       "    .dataframe thead th {\n",
       "        text-align: right;\n",
       "    }\n",
       "</style>\n",
       "<table border=\"1\" class=\"dataframe\">\n",
       "  <thead>\n",
       "    <tr style=\"text-align: right;\">\n",
       "      <th></th>\n",
       "      <th>p(A)</th>\n",
       "      <th>p(C)</th>\n",
       "      <th>p(G)</th>\n",
       "      <th>p(T)</th>\n",
       "    </tr>\n",
       "  </thead>\n",
       "  <tbody>\n",
       "    <tr>\n",
       "      <th>-3</th>\n",
       "      <td>0.328433</td>\n",
       "      <td>0.363713</td>\n",
       "      <td>0.188576</td>\n",
       "      <td>0.119278</td>\n",
       "    </tr>\n",
       "    <tr>\n",
       "      <th>-2</th>\n",
       "      <td>0.585468</td>\n",
       "      <td>0.137757</td>\n",
       "      <td>0.133557</td>\n",
       "      <td>0.143217</td>\n",
       "    </tr>\n",
       "    <tr>\n",
       "      <th>-1</th>\n",
       "      <td>0.094078</td>\n",
       "      <td>0.034019</td>\n",
       "      <td>0.788744</td>\n",
       "      <td>0.083158</td>\n",
       "    </tr>\n",
       "    <tr>\n",
       "      <th>0</th>\n",
       "      <td>0.000000</td>\n",
       "      <td>0.000000</td>\n",
       "      <td>1.000000</td>\n",
       "      <td>0.000000</td>\n",
       "    </tr>\n",
       "    <tr>\n",
       "      <th>1</th>\n",
       "      <td>0.000000</td>\n",
       "      <td>0.000000</td>\n",
       "      <td>0.000000</td>\n",
       "      <td>1.000000</td>\n",
       "    </tr>\n",
       "    <tr>\n",
       "      <th>2</th>\n",
       "      <td>0.490130</td>\n",
       "      <td>0.027299</td>\n",
       "      <td>0.458211</td>\n",
       "      <td>0.024360</td>\n",
       "    </tr>\n",
       "    <tr>\n",
       "      <th>3</th>\n",
       "      <td>0.713566</td>\n",
       "      <td>0.077278</td>\n",
       "      <td>0.117598</td>\n",
       "      <td>0.091558</td>\n",
       "    </tr>\n",
       "    <tr>\n",
       "      <th>4</th>\n",
       "      <td>0.065099</td>\n",
       "      <td>0.049559</td>\n",
       "      <td>0.838303</td>\n",
       "      <td>0.047039</td>\n",
       "    </tr>\n",
       "    <tr>\n",
       "      <th>5</th>\n",
       "      <td>0.151197</td>\n",
       "      <td>0.162957</td>\n",
       "      <td>0.216716</td>\n",
       "      <td>0.469131</td>\n",
       "    </tr>\n",
       "  </tbody>\n",
       "</table>\n",
       "</div>"
      ],
      "text/plain": [
       "        p(A)      p(C)      p(G)      p(T)\n",
       "-3  0.328433  0.363713  0.188576  0.119278\n",
       "-2  0.585468  0.137757  0.133557  0.143217\n",
       "-1  0.094078  0.034019  0.788744  0.083158\n",
       " 0  0.000000  0.000000  1.000000  0.000000\n",
       " 1  0.000000  0.000000  0.000000  1.000000\n",
       " 2  0.490130  0.027299  0.458211  0.024360\n",
       " 3  0.713566  0.077278  0.117598  0.091558\n",
       " 4  0.065099  0.049559  0.838303  0.047039\n",
       " 5  0.151197  0.162957  0.216716  0.469131"
      ]
     },
     "execution_count": 13,
     "metadata": {},
     "output_type": "execute_result"
    }
   ],
   "source": [
    "df_donor_priors_p"
   ]
  },
  {
   "cell_type": "code",
   "execution_count": 14,
   "metadata": {},
   "outputs": [],
   "source": [
    "# !pip install  pandas_bokeh\n",
    "# !pip install selenium"
   ]
  },
  {
   "cell_type": "code",
   "execution_count": 18,
   "metadata": {},
   "outputs": [
    {
     "data": {
      "text/plain": [
       "'\\nkind指的是我们要绘制的图形类型，当前的pandas_bokeh支持这几种图形：line, point, step, scatter, bar, histogram, area, pie, map。\\nx和y直接传递的是dataframe数据集中的key，即指定何者为横轴数据，何者为纵轴数据。\\nxlabel和ylabel是x轴和y轴的标签。\\ntitle是图表的标题。\\n'"
      ]
     },
     "execution_count": 18,
     "metadata": {},
     "output_type": "execute_result"
    },
    {
     "data": {
      "text/html": [
       "\n",
       "    <div class=\"bk-root\">\n",
       "        <a href=\"https://bokeh.org\" target=\"_blank\" class=\"bk-logo bk-logo-small bk-logo-notebook\"></a>\n",
       "        <span id=\"1460\">Loading BokehJS ...</span>\n",
       "    </div>"
      ]
     },
     "metadata": {},
     "output_type": "display_data"
    },
    {
     "data": {
      "application/javascript": [
       "\n",
       "(function(root) {\n",
       "  function now() {\n",
       "    return new Date();\n",
       "  }\n",
       "\n",
       "  var force = true;\n",
       "\n",
       "  if (typeof root._bokeh_onload_callbacks === \"undefined\" || force === true) {\n",
       "    root._bokeh_onload_callbacks = [];\n",
       "    root._bokeh_is_loading = undefined;\n",
       "  }\n",
       "\n",
       "  var JS_MIME_TYPE = 'application/javascript';\n",
       "  var HTML_MIME_TYPE = 'text/html';\n",
       "  var EXEC_MIME_TYPE = 'application/vnd.bokehjs_exec.v0+json';\n",
       "  var CLASS_NAME = 'output_bokeh rendered_html';\n",
       "\n",
       "  /**\n",
       "   * Render data to the DOM node\n",
       "   */\n",
       "  function render(props, node) {\n",
       "    var script = document.createElement(\"script\");\n",
       "    node.appendChild(script);\n",
       "  }\n",
       "\n",
       "  /**\n",
       "   * Handle when an output is cleared or removed\n",
       "   */\n",
       "  function handleClearOutput(event, handle) {\n",
       "    var cell = handle.cell;\n",
       "\n",
       "    var id = cell.output_area._bokeh_element_id;\n",
       "    var server_id = cell.output_area._bokeh_server_id;\n",
       "    // Clean up Bokeh references\n",
       "    if (id != null && id in Bokeh.index) {\n",
       "      Bokeh.index[id].model.document.clear();\n",
       "      delete Bokeh.index[id];\n",
       "    }\n",
       "\n",
       "    if (server_id !== undefined) {\n",
       "      // Clean up Bokeh references\n",
       "      var cmd = \"from bokeh.io.state import curstate; print(curstate().uuid_to_server['\" + server_id + \"'].get_sessions()[0].document.roots[0]._id)\";\n",
       "      cell.notebook.kernel.execute(cmd, {\n",
       "        iopub: {\n",
       "          output: function(msg) {\n",
       "            var id = msg.content.text.trim();\n",
       "            if (id in Bokeh.index) {\n",
       "              Bokeh.index[id].model.document.clear();\n",
       "              delete Bokeh.index[id];\n",
       "            }\n",
       "          }\n",
       "        }\n",
       "      });\n",
       "      // Destroy server and session\n",
       "      var cmd = \"import bokeh.io.notebook as ion; ion.destroy_server('\" + server_id + \"')\";\n",
       "      cell.notebook.kernel.execute(cmd);\n",
       "    }\n",
       "  }\n",
       "\n",
       "  /**\n",
       "   * Handle when a new output is added\n",
       "   */\n",
       "  function handleAddOutput(event, handle) {\n",
       "    var output_area = handle.output_area;\n",
       "    var output = handle.output;\n",
       "\n",
       "    // limit handleAddOutput to display_data with EXEC_MIME_TYPE content only\n",
       "    if ((output.output_type != \"display_data\") || (!Object.prototype.hasOwnProperty.call(output.data, EXEC_MIME_TYPE))) {\n",
       "      return\n",
       "    }\n",
       "\n",
       "    var toinsert = output_area.element.find(\".\" + CLASS_NAME.split(' ')[0]);\n",
       "\n",
       "    if (output.metadata[EXEC_MIME_TYPE][\"id\"] !== undefined) {\n",
       "      toinsert[toinsert.length - 1].firstChild.textContent = output.data[JS_MIME_TYPE];\n",
       "      // store reference to embed id on output_area\n",
       "      output_area._bokeh_element_id = output.metadata[EXEC_MIME_TYPE][\"id\"];\n",
       "    }\n",
       "    if (output.metadata[EXEC_MIME_TYPE][\"server_id\"] !== undefined) {\n",
       "      var bk_div = document.createElement(\"div\");\n",
       "      bk_div.innerHTML = output.data[HTML_MIME_TYPE];\n",
       "      var script_attrs = bk_div.children[0].attributes;\n",
       "      for (var i = 0; i < script_attrs.length; i++) {\n",
       "        toinsert[toinsert.length - 1].firstChild.setAttribute(script_attrs[i].name, script_attrs[i].value);\n",
       "        toinsert[toinsert.length - 1].firstChild.textContent = bk_div.children[0].textContent\n",
       "      }\n",
       "      // store reference to server id on output_area\n",
       "      output_area._bokeh_server_id = output.metadata[EXEC_MIME_TYPE][\"server_id\"];\n",
       "    }\n",
       "  }\n",
       "\n",
       "  function register_renderer(events, OutputArea) {\n",
       "\n",
       "    function append_mime(data, metadata, element) {\n",
       "      // create a DOM node to render to\n",
       "      var toinsert = this.create_output_subarea(\n",
       "        metadata,\n",
       "        CLASS_NAME,\n",
       "        EXEC_MIME_TYPE\n",
       "      );\n",
       "      this.keyboard_manager.register_events(toinsert);\n",
       "      // Render to node\n",
       "      var props = {data: data, metadata: metadata[EXEC_MIME_TYPE]};\n",
       "      render(props, toinsert[toinsert.length - 1]);\n",
       "      element.append(toinsert);\n",
       "      return toinsert\n",
       "    }\n",
       "\n",
       "    /* Handle when an output is cleared or removed */\n",
       "    events.on('clear_output.CodeCell', handleClearOutput);\n",
       "    events.on('delete.Cell', handleClearOutput);\n",
       "\n",
       "    /* Handle when a new output is added */\n",
       "    events.on('output_added.OutputArea', handleAddOutput);\n",
       "\n",
       "    /**\n",
       "     * Register the mime type and append_mime function with output_area\n",
       "     */\n",
       "    OutputArea.prototype.register_mime_type(EXEC_MIME_TYPE, append_mime, {\n",
       "      /* Is output safe? */\n",
       "      safe: true,\n",
       "      /* Index of renderer in `output_area.display_order` */\n",
       "      index: 0\n",
       "    });\n",
       "  }\n",
       "\n",
       "  // register the mime type if in Jupyter Notebook environment and previously unregistered\n",
       "  if (root.Jupyter !== undefined) {\n",
       "    var events = require('base/js/events');\n",
       "    var OutputArea = require('notebook/js/outputarea').OutputArea;\n",
       "\n",
       "    if (OutputArea.prototype.mime_types().indexOf(EXEC_MIME_TYPE) == -1) {\n",
       "      register_renderer(events, OutputArea);\n",
       "    }\n",
       "  }\n",
       "\n",
       "  \n",
       "  if (typeof (root._bokeh_timeout) === \"undefined\" || force === true) {\n",
       "    root._bokeh_timeout = Date.now() + 5000;\n",
       "    root._bokeh_failed_load = false;\n",
       "  }\n",
       "\n",
       "  var NB_LOAD_WARNING = {'data': {'text/html':\n",
       "     \"<div style='background-color: #fdd'>\\n\"+\n",
       "     \"<p>\\n\"+\n",
       "     \"BokehJS does not appear to have successfully loaded. If loading BokehJS from CDN, this \\n\"+\n",
       "     \"may be due to a slow or bad network connection. Possible fixes:\\n\"+\n",
       "     \"</p>\\n\"+\n",
       "     \"<ul>\\n\"+\n",
       "     \"<li>re-rerun `output_notebook()` to attempt to load from CDN again, or</li>\\n\"+\n",
       "     \"<li>use INLINE resources instead, as so:</li>\\n\"+\n",
       "     \"</ul>\\n\"+\n",
       "     \"<code>\\n\"+\n",
       "     \"from bokeh.resources import INLINE\\n\"+\n",
       "     \"output_notebook(resources=INLINE)\\n\"+\n",
       "     \"</code>\\n\"+\n",
       "     \"</div>\"}};\n",
       "\n",
       "  function display_loaded() {\n",
       "    var el = document.getElementById(\"1460\");\n",
       "    if (el != null) {\n",
       "      el.textContent = \"BokehJS is loading...\";\n",
       "    }\n",
       "    if (root.Bokeh !== undefined) {\n",
       "      if (el != null) {\n",
       "        el.textContent = \"BokehJS \" + root.Bokeh.version + \" successfully loaded.\";\n",
       "      }\n",
       "    } else if (Date.now() < root._bokeh_timeout) {\n",
       "      setTimeout(display_loaded, 100)\n",
       "    }\n",
       "  }\n",
       "\n",
       "\n",
       "  function run_callbacks() {\n",
       "    try {\n",
       "      root._bokeh_onload_callbacks.forEach(function(callback) {\n",
       "        if (callback != null)\n",
       "          callback();\n",
       "      });\n",
       "    } finally {\n",
       "      delete root._bokeh_onload_callbacks\n",
       "    }\n",
       "    console.debug(\"Bokeh: all callbacks have finished\");\n",
       "  }\n",
       "\n",
       "  function load_libs(css_urls, js_urls, callback) {\n",
       "    if (css_urls == null) css_urls = [];\n",
       "    if (js_urls == null) js_urls = [];\n",
       "\n",
       "    root._bokeh_onload_callbacks.push(callback);\n",
       "    if (root._bokeh_is_loading > 0) {\n",
       "      console.debug(\"Bokeh: BokehJS is being loaded, scheduling callback at\", now());\n",
       "      return null;\n",
       "    }\n",
       "    if (js_urls == null || js_urls.length === 0) {\n",
       "      run_callbacks();\n",
       "      return null;\n",
       "    }\n",
       "    console.debug(\"Bokeh: BokehJS not loaded, scheduling load and callback at\", now());\n",
       "    root._bokeh_is_loading = css_urls.length + js_urls.length;\n",
       "\n",
       "    function on_load() {\n",
       "      root._bokeh_is_loading--;\n",
       "      if (root._bokeh_is_loading === 0) {\n",
       "        console.debug(\"Bokeh: all BokehJS libraries/stylesheets loaded\");\n",
       "        run_callbacks()\n",
       "      }\n",
       "    }\n",
       "\n",
       "    function on_error(url) {\n",
       "      console.error(\"failed to load \" + url);\n",
       "    }\n",
       "\n",
       "    for (let i = 0; i < css_urls.length; i++) {\n",
       "      const url = css_urls[i];\n",
       "      const element = document.createElement(\"link\");\n",
       "      element.onload = on_load;\n",
       "      element.onerror = on_error.bind(null, url);\n",
       "      element.rel = \"stylesheet\";\n",
       "      element.type = \"text/css\";\n",
       "      element.href = url;\n",
       "      console.debug(\"Bokeh: injecting link tag for BokehJS stylesheet: \", url);\n",
       "      document.body.appendChild(element);\n",
       "    }\n",
       "\n",
       "    const hashes = {\"https://cdn.bokeh.org/bokeh/release/bokeh-2.3.1.min.js\": \"YF85VygJKMVnHE+lLv2AM93Vbstr0yo2TbIu5v8se5Rq3UQAUmcuh4aaJwNlpKwa\", \"https://cdn.bokeh.org/bokeh/release/bokeh-widgets-2.3.1.min.js\": \"KKuas3gevv3PvrlkyCMzffFeaMq5we/a2QsP5AUoS3mJ0jmaCL7jirFJN3GoE/lM\", \"https://cdn.bokeh.org/bokeh/release/bokeh-tables-2.3.1.min.js\": \"MK/uFc3YT18pkvvXRl66tTHjP0/dxoSH2e/eiNMFIguKlun2+WVqaPTWmUy/zvh4\"};\n",
       "\n",
       "    for (let i = 0; i < js_urls.length; i++) {\n",
       "      const url = js_urls[i];\n",
       "      const element = document.createElement('script');\n",
       "      element.onload = on_load;\n",
       "      element.onerror = on_error.bind(null, url);\n",
       "      element.async = false;\n",
       "      element.src = url;\n",
       "      if (url in hashes) {\n",
       "        element.crossOrigin = \"anonymous\";\n",
       "        element.integrity = \"sha384-\" + hashes[url];\n",
       "      }\n",
       "      console.debug(\"Bokeh: injecting script tag for BokehJS library: \", url);\n",
       "      document.head.appendChild(element);\n",
       "    }\n",
       "  };\n",
       "\n",
       "  function inject_raw_css(css) {\n",
       "    const element = document.createElement(\"style\");\n",
       "    element.appendChild(document.createTextNode(css));\n",
       "    document.body.appendChild(element);\n",
       "  }\n",
       "\n",
       "  \n",
       "  var js_urls = [\"https://cdn.bokeh.org/bokeh/release/bokeh-2.3.1.min.js\", \"https://cdn.bokeh.org/bokeh/release/bokeh-widgets-2.3.1.min.js\", \"https://cdn.bokeh.org/bokeh/release/bokeh-tables-2.3.1.min.js\"];\n",
       "  var css_urls = [];\n",
       "  \n",
       "\n",
       "  var inline_js = [\n",
       "    function(Bokeh) {\n",
       "      Bokeh.set_log_level(\"info\");\n",
       "    },\n",
       "    function(Bokeh) {\n",
       "    \n",
       "    \n",
       "    }\n",
       "  ];\n",
       "\n",
       "  function run_inline_js() {\n",
       "    \n",
       "    if (root.Bokeh !== undefined || force === true) {\n",
       "      \n",
       "    for (var i = 0; i < inline_js.length; i++) {\n",
       "      inline_js[i].call(root, root.Bokeh);\n",
       "    }\n",
       "    if (force === true) {\n",
       "        display_loaded();\n",
       "      }} else if (Date.now() < root._bokeh_timeout) {\n",
       "      setTimeout(run_inline_js, 100);\n",
       "    } else if (!root._bokeh_failed_load) {\n",
       "      console.log(\"Bokeh: BokehJS failed to load within specified timeout.\");\n",
       "      root._bokeh_failed_load = true;\n",
       "    } else if (force !== true) {\n",
       "      var cell = $(document.getElementById(\"1460\")).parents('.cell').data().cell;\n",
       "      cell.output_area.append_execute_result(NB_LOAD_WARNING)\n",
       "    }\n",
       "\n",
       "  }\n",
       "\n",
       "  if (root._bokeh_is_loading === 0) {\n",
       "    console.debug(\"Bokeh: BokehJS loaded, going straight to plotting\");\n",
       "    run_inline_js();\n",
       "  } else {\n",
       "    load_libs(css_urls, js_urls, function() {\n",
       "      console.debug(\"Bokeh: BokehJS plotting callback run at\", now());\n",
       "      run_inline_js();\n",
       "    });\n",
       "  }\n",
       "}(window));"
      ],
      "application/vnd.bokehjs_load.v0+json": "\n(function(root) {\n  function now() {\n    return new Date();\n  }\n\n  var force = true;\n\n  if (typeof root._bokeh_onload_callbacks === \"undefined\" || force === true) {\n    root._bokeh_onload_callbacks = [];\n    root._bokeh_is_loading = undefined;\n  }\n\n  \n\n  \n  if (typeof (root._bokeh_timeout) === \"undefined\" || force === true) {\n    root._bokeh_timeout = Date.now() + 5000;\n    root._bokeh_failed_load = false;\n  }\n\n  var NB_LOAD_WARNING = {'data': {'text/html':\n     \"<div style='background-color: #fdd'>\\n\"+\n     \"<p>\\n\"+\n     \"BokehJS does not appear to have successfully loaded. If loading BokehJS from CDN, this \\n\"+\n     \"may be due to a slow or bad network connection. Possible fixes:\\n\"+\n     \"</p>\\n\"+\n     \"<ul>\\n\"+\n     \"<li>re-rerun `output_notebook()` to attempt to load from CDN again, or</li>\\n\"+\n     \"<li>use INLINE resources instead, as so:</li>\\n\"+\n     \"</ul>\\n\"+\n     \"<code>\\n\"+\n     \"from bokeh.resources import INLINE\\n\"+\n     \"output_notebook(resources=INLINE)\\n\"+\n     \"</code>\\n\"+\n     \"</div>\"}};\n\n  function display_loaded() {\n    var el = document.getElementById(\"1460\");\n    if (el != null) {\n      el.textContent = \"BokehJS is loading...\";\n    }\n    if (root.Bokeh !== undefined) {\n      if (el != null) {\n        el.textContent = \"BokehJS \" + root.Bokeh.version + \" successfully loaded.\";\n      }\n    } else if (Date.now() < root._bokeh_timeout) {\n      setTimeout(display_loaded, 100)\n    }\n  }\n\n\n  function run_callbacks() {\n    try {\n      root._bokeh_onload_callbacks.forEach(function(callback) {\n        if (callback != null)\n          callback();\n      });\n    } finally {\n      delete root._bokeh_onload_callbacks\n    }\n    console.debug(\"Bokeh: all callbacks have finished\");\n  }\n\n  function load_libs(css_urls, js_urls, callback) {\n    if (css_urls == null) css_urls = [];\n    if (js_urls == null) js_urls = [];\n\n    root._bokeh_onload_callbacks.push(callback);\n    if (root._bokeh_is_loading > 0) {\n      console.debug(\"Bokeh: BokehJS is being loaded, scheduling callback at\", now());\n      return null;\n    }\n    if (js_urls == null || js_urls.length === 0) {\n      run_callbacks();\n      return null;\n    }\n    console.debug(\"Bokeh: BokehJS not loaded, scheduling load and callback at\", now());\n    root._bokeh_is_loading = css_urls.length + js_urls.length;\n\n    function on_load() {\n      root._bokeh_is_loading--;\n      if (root._bokeh_is_loading === 0) {\n        console.debug(\"Bokeh: all BokehJS libraries/stylesheets loaded\");\n        run_callbacks()\n      }\n    }\n\n    function on_error(url) {\n      console.error(\"failed to load \" + url);\n    }\n\n    for (let i = 0; i < css_urls.length; i++) {\n      const url = css_urls[i];\n      const element = document.createElement(\"link\");\n      element.onload = on_load;\n      element.onerror = on_error.bind(null, url);\n      element.rel = \"stylesheet\";\n      element.type = \"text/css\";\n      element.href = url;\n      console.debug(\"Bokeh: injecting link tag for BokehJS stylesheet: \", url);\n      document.body.appendChild(element);\n    }\n\n    const hashes = {\"https://cdn.bokeh.org/bokeh/release/bokeh-2.3.1.min.js\": \"YF85VygJKMVnHE+lLv2AM93Vbstr0yo2TbIu5v8se5Rq3UQAUmcuh4aaJwNlpKwa\", \"https://cdn.bokeh.org/bokeh/release/bokeh-widgets-2.3.1.min.js\": \"KKuas3gevv3PvrlkyCMzffFeaMq5we/a2QsP5AUoS3mJ0jmaCL7jirFJN3GoE/lM\", \"https://cdn.bokeh.org/bokeh/release/bokeh-tables-2.3.1.min.js\": \"MK/uFc3YT18pkvvXRl66tTHjP0/dxoSH2e/eiNMFIguKlun2+WVqaPTWmUy/zvh4\"};\n\n    for (let i = 0; i < js_urls.length; i++) {\n      const url = js_urls[i];\n      const element = document.createElement('script');\n      element.onload = on_load;\n      element.onerror = on_error.bind(null, url);\n      element.async = false;\n      element.src = url;\n      if (url in hashes) {\n        element.crossOrigin = \"anonymous\";\n        element.integrity = \"sha384-\" + hashes[url];\n      }\n      console.debug(\"Bokeh: injecting script tag for BokehJS library: \", url);\n      document.head.appendChild(element);\n    }\n  };\n\n  function inject_raw_css(css) {\n    const element = document.createElement(\"style\");\n    element.appendChild(document.createTextNode(css));\n    document.body.appendChild(element);\n  }\n\n  \n  var js_urls = [\"https://cdn.bokeh.org/bokeh/release/bokeh-2.3.1.min.js\", \"https://cdn.bokeh.org/bokeh/release/bokeh-widgets-2.3.1.min.js\", \"https://cdn.bokeh.org/bokeh/release/bokeh-tables-2.3.1.min.js\"];\n  var css_urls = [];\n  \n\n  var inline_js = [\n    function(Bokeh) {\n      Bokeh.set_log_level(\"info\");\n    },\n    function(Bokeh) {\n    \n    \n    }\n  ];\n\n  function run_inline_js() {\n    \n    if (root.Bokeh !== undefined || force === true) {\n      \n    for (var i = 0; i < inline_js.length; i++) {\n      inline_js[i].call(root, root.Bokeh);\n    }\n    if (force === true) {\n        display_loaded();\n      }} else if (Date.now() < root._bokeh_timeout) {\n      setTimeout(run_inline_js, 100);\n    } else if (!root._bokeh_failed_load) {\n      console.log(\"Bokeh: BokehJS failed to load within specified timeout.\");\n      root._bokeh_failed_load = true;\n    } else if (force !== true) {\n      var cell = $(document.getElementById(\"1460\")).parents('.cell').data().cell;\n      cell.output_area.append_execute_result(NB_LOAD_WARNING)\n    }\n\n  }\n\n  if (root._bokeh_is_loading === 0) {\n    console.debug(\"Bokeh: BokehJS loaded, going straight to plotting\");\n    run_inline_js();\n  } else {\n    load_libs(css_urls, js_urls, function() {\n      console.debug(\"Bokeh: BokehJS plotting callback run at\", now());\n      run_inline_js();\n    });\n  }\n}(window));"
     },
     "metadata": {},
     "output_type": "display_data"
    },
    {
     "data": {
      "text/html": [
       "\n",
       "\n",
       "\n",
       "\n",
       "\n",
       "\n",
       "  <div class=\"bk-root\" id=\"df715ae0-5cfd-45b8-a35f-ba5c422ae058\" data-root-id=\"1497\"></div>\n"
      ]
     },
     "metadata": {},
     "output_type": "display_data"
    },
    {
     "data": {
      "application/javascript": [
       "(function(root) {\n",
       "  function embed_document(root) {\n",
       "    \n",
       "  var docs_json = {\"cd645aea-b92d-4164-9751-1ed7c26aee3e\":{\"defs\":[],\"roots\":{\"references\":[{\"attributes\":{\"below\":[{\"id\":\"1508\"}],\"center\":[{\"id\":\"1511\"},{\"id\":\"1515\"},{\"id\":\"1547\"}],\"height\":400,\"left\":[{\"id\":\"1512\"}],\"output_backend\":\"webgl\",\"renderers\":[{\"id\":\"1536\"},{\"id\":\"1555\"},{\"id\":\"1573\"},{\"id\":\"1591\"}],\"sizing_mode\":\"fixed\",\"title\":{\"id\":\"1498\"},\"toolbar\":{\"id\":\"1523\"},\"x_range\":{\"id\":\"1500\"},\"x_scale\":{\"id\":\"1504\"},\"y_range\":{\"id\":\"1502\"},\"y_scale\":{\"id\":\"1506\"}},\"id\":\"1497\",\"subtype\":\"Figure\",\"type\":\"Plot\"},{\"attributes\":{},\"id\":\"1498\",\"type\":\"Title\"},{\"attributes\":{\"bottom_units\":\"screen\",\"fill_alpha\":0.5,\"fill_color\":\"lightgrey\",\"left_units\":\"screen\",\"level\":\"overlay\",\"line_alpha\":1.0,\"line_color\":\"black\",\"line_dash\":[4,4],\"line_width\":2,\"right_units\":\"screen\",\"syncable\":false,\"top_units\":\"screen\"},\"id\":\"1522\",\"type\":\"BoxAnnotation\"},{\"attributes\":{\"callback\":null,\"mode\":\"vline\",\"renderers\":[{\"id\":\"1536\"}],\"tooltips\":[[\"Site\",\"@__x__values_original\"],[\"p(A)\",\"@{p(A)}\"]]},\"id\":\"1549\",\"type\":\"HoverTool\"},{\"attributes\":{\"fill_color\":{\"value\":\"#2ca02c\"},\"line_color\":{\"value\":\"#2ca02c\"},\"line_width\":{\"value\":2},\"top\":{\"field\":\"p(G)\"},\"width\":{\"value\":0.14285714285714285},\"x\":{\"field\":\"__x__values\",\"transform\":{\"id\":\"1569\"}}},\"id\":\"1571\",\"type\":\"VBar\"},{\"attributes\":{\"source\":{\"id\":\"1496\"}},\"id\":\"1574\",\"type\":\"CDSView\"},{\"attributes\":{\"data_source\":{\"id\":\"1496\"},\"glyph\":{\"id\":\"1553\"},\"hover_glyph\":null,\"muted_glyph\":null,\"nonselection_glyph\":{\"id\":\"1554\"},\"view\":{\"id\":\"1556\"}},\"id\":\"1555\",\"type\":\"GlyphRenderer\"},{\"attributes\":{\"range\":{\"id\":\"1500\"},\"value\":0.08333333333333331},\"id\":\"1569\",\"type\":\"Dodge\"},{\"attributes\":{\"data_source\":{\"id\":\"1496\"},\"glyph\":{\"id\":\"1571\"},\"hover_glyph\":null,\"muted_glyph\":null,\"nonselection_glyph\":{\"id\":\"1572\"},\"view\":{\"id\":\"1574\"}},\"id\":\"1573\",\"type\":\"GlyphRenderer\"},{\"attributes\":{\"callback\":null,\"mode\":\"vline\",\"renderers\":[{\"id\":\"1555\"}],\"tooltips\":[[\"Site\",\"@__x__values_original\"],[\"p(C)\",\"@{p(C)}\"]]},\"id\":\"1567\",\"type\":\"HoverTool\"},{\"attributes\":{},\"id\":\"1545\",\"type\":\"Selection\"},{\"attributes\":{},\"id\":\"1539\",\"type\":\"AllLabels\"},{\"attributes\":{\"callback\":null,\"mode\":\"vline\",\"renderers\":[{\"id\":\"1591\"}],\"tooltips\":[[\"Site\",\"@__x__values_original\"],[\"p(T)\",\"@{p(T)}\"]]},\"id\":\"1603\",\"type\":\"HoverTool\"},{\"attributes\":{\"range\":{\"id\":\"1500\"},\"value\":-0.08333333333333334},\"id\":\"1551\",\"type\":\"Dodge\"},{\"attributes\":{},\"id\":\"1540\",\"type\":\"BasicTickFormatter\"},{\"attributes\":{\"fill_color\":{\"value\":\"#ff7f0e\"},\"line_color\":{\"value\":\"#ff7f0e\"},\"line_width\":{\"value\":2},\"top\":{\"field\":\"p(C)\"},\"width\":{\"value\":0.14285714285714285},\"x\":{\"field\":\"__x__values\",\"transform\":{\"id\":\"1551\"}}},\"id\":\"1553\",\"type\":\"VBar\"},{\"attributes\":{\"fill_alpha\":{\"value\":0.1},\"fill_color\":{\"value\":\"#ff7f0e\"},\"line_alpha\":{\"value\":0.1},\"line_color\":{\"value\":\"#ff7f0e\"},\"line_width\":{\"value\":2},\"top\":{\"field\":\"p(C)\"},\"width\":{\"value\":0.14285714285714285},\"x\":{\"field\":\"__x__values\",\"transform\":{\"id\":\"1551\"}}},\"id\":\"1554\",\"type\":\"VBar\"},{\"attributes\":{\"label\":{\"value\":\" p(G)\"},\"renderers\":[{\"id\":\"1573\"}]},\"id\":\"1584\",\"type\":\"LegendItem\"},{\"attributes\":{},\"id\":\"1546\",\"type\":\"UnionRenderers\"},{\"attributes\":{\"source\":{\"id\":\"1496\"}},\"id\":\"1556\",\"type\":\"CDSView\"},{\"attributes\":{\"ticks\":[0,1,2,3,4,5,6,7,8]},\"id\":\"1605\",\"type\":\"FixedTicker\"},{\"attributes\":{\"active_drag\":null,\"active_multi\":null,\"active_scroll\":null,\"tools\":[{\"id\":\"1516\"},{\"id\":\"1517\"},{\"id\":\"1518\"},{\"id\":\"1519\"},{\"id\":\"1520\"},{\"id\":\"1521\"},{\"id\":\"1549\"},{\"id\":\"1567\"},{\"id\":\"1585\"},{\"id\":\"1603\"}]},\"id\":\"1523\",\"type\":\"Toolbar\"},{\"attributes\":{\"label\":{\"value\":\" p(C)\"},\"renderers\":[{\"id\":\"1555\"}]},\"id\":\"1566\",\"type\":\"LegendItem\"},{\"attributes\":{\"code\":\"\\n                                    var labels = {0: '-3', 1: '-2', 2: '-1', 3: '0', 4: '1', 5: '2', 6: '3', 7: '4', 8: '5'};\\n                                    return labels[tick];\\n                                    \"},\"id\":\"1530\",\"type\":\"FuncTickFormatter\"},{\"attributes\":{\"fill_color\":{\"value\":\"#d62728\"},\"line_color\":{\"value\":\"#d62728\"},\"line_width\":{\"value\":2},\"top\":{\"field\":\"p(T)\"},\"width\":{\"value\":0.14285714285714285},\"x\":{\"field\":\"__x__values\",\"transform\":{\"id\":\"1587\"}}},\"id\":\"1589\",\"type\":\"VBar\"},{\"attributes\":{},\"id\":\"1504\",\"type\":\"LinearScale\"},{\"attributes\":{\"fill_alpha\":{\"value\":0.1},\"fill_color\":{\"value\":\"#d62728\"},\"line_alpha\":{\"value\":0.1},\"line_color\":{\"value\":\"#d62728\"},\"line_width\":{\"value\":2},\"top\":{\"field\":\"p(T)\"},\"width\":{\"value\":0.14285714285714285},\"x\":{\"field\":\"__x__values\",\"transform\":{\"id\":\"1587\"}}},\"id\":\"1590\",\"type\":\"VBar\"},{\"attributes\":{},\"id\":\"1502\",\"type\":\"DataRange1d\"},{\"attributes\":{\"callback\":null,\"mode\":\"vline\",\"renderers\":[{\"id\":\"1573\"}],\"tooltips\":[[\"Site\",\"@__x__values_original\"],[\"p(G)\",\"@{p(G)}\"]]},\"id\":\"1585\",\"type\":\"HoverTool\"},{\"attributes\":{\"range\":{\"id\":\"1500\"},\"value\":-0.25},\"id\":\"1532\",\"type\":\"Dodge\"},{\"attributes\":{\"range\":{\"id\":\"1500\"},\"value\":0.25},\"id\":\"1587\",\"type\":\"Dodge\"},{\"attributes\":{\"axis\":{\"id\":\"1508\"},\"ticker\":null},\"id\":\"1511\",\"type\":\"Grid\"},{\"attributes\":{\"data_source\":{\"id\":\"1496\"},\"glyph\":{\"id\":\"1589\"},\"hover_glyph\":null,\"muted_glyph\":null,\"nonselection_glyph\":{\"id\":\"1590\"},\"view\":{\"id\":\"1592\"}},\"id\":\"1591\",\"type\":\"GlyphRenderer\"},{\"attributes\":{},\"id\":\"1500\",\"type\":\"DataRange1d\"},{\"attributes\":{},\"id\":\"1519\",\"type\":\"SaveTool\"},{\"attributes\":{\"fill_alpha\":{\"value\":0.1},\"fill_color\":{\"value\":\"#2ca02c\"},\"line_alpha\":{\"value\":0.1},\"line_color\":{\"value\":\"#2ca02c\"},\"line_width\":{\"value\":2},\"top\":{\"field\":\"p(G)\"},\"width\":{\"value\":0.14285714285714285},\"x\":{\"field\":\"__x__values\",\"transform\":{\"id\":\"1569\"}}},\"id\":\"1572\",\"type\":\"VBar\"},{\"attributes\":{\"axis_label\":\"Site\",\"formatter\":{\"id\":\"1530\"},\"major_label_policy\":{\"id\":\"1542\"},\"ticker\":{\"id\":\"1605\"}},\"id\":\"1508\",\"type\":\"LinearAxis\"},{\"attributes\":{\"fill_alpha\":{\"value\":0.1},\"fill_color\":{\"value\":\"#1f77b4\"},\"line_alpha\":{\"value\":0.1},\"line_color\":{\"value\":\"#1f77b4\"},\"line_width\":{\"value\":2},\"top\":{\"field\":\"p(A)\"},\"width\":{\"value\":0.14285714285714285},\"x\":{\"field\":\"__x__values\",\"transform\":{\"id\":\"1532\"}}},\"id\":\"1535\",\"type\":\"VBar\"},{\"attributes\":{\"data\":{\"__x__values\":[0,1,2,3,4,5,6,7,8],\"__x__values_original\":[-3,-2,-1,0,1,2,3,4,5],\"p(A)\":{\"__ndarray__\":\"ys2epw0F1T+vzSP/J7ziP5h29emAFbg/AAAAAAAAAAAAAAAAAAAAAL9GJgxLXt8/lQKIy4fV5j99tQjrTqqwP3GItylsWsM/\",\"dtype\":\"float64\",\"order\":\"little\",\"shape\":[9]},\"p(C)\":{\"__ndarray__\":\"6NCNvRFH1z8dSbiGB6LBPzJhWPL6aqE/AAAAAAAAAAAAAAAAAAAAABXFs1hj9Js/Rlh3UoXIsz8X5jRkzF+pP9rfVjjE28Q/\",\"dtype\":\"float64\",\"order\":\"little\",\"shape\":[9]},\"p(G)\":{\"__ndarray__\":\"knAND0QjyD9ShcgTaBjBPyT1eIdkPek/AAAAAAAA8D8AAAAAAAAAAIsrl4pTU90/PtRyJOEavj+FQ7xNYdPqPyrdU8RWvcs/\",\"dtype\":\"float64\",\"order\":\"little\",\"shape\":[9]},\"p(T)\":{\"__ndarray__\":\"EqQyTfqIvj/X+u9o8FTCP6+vFmHdSbU/AAAAAAAAAAAAAAAAAADwP0IWdTuz8Zg/2L7VLFtwtz+YdvXpgBWoP0bdzmw8Bt4/\",\"dtype\":\"float64\",\"order\":\"little\",\"shape\":[9]}},\"selected\":{\"id\":\"1545\"},\"selection_policy\":{\"id\":\"1546\"}},\"id\":\"1496\",\"type\":\"ColumnDataSource\"},{\"attributes\":{\"source\":{\"id\":\"1496\"}},\"id\":\"1592\",\"type\":\"CDSView\"},{\"attributes\":{\"data_source\":{\"id\":\"1496\"},\"glyph\":{\"id\":\"1534\"},\"hover_glyph\":null,\"muted_glyph\":null,\"nonselection_glyph\":{\"id\":\"1535\"},\"view\":{\"id\":\"1537\"}},\"id\":\"1536\",\"type\":\"GlyphRenderer\"},{\"attributes\":{\"overlay\":{\"id\":\"1522\"}},\"id\":\"1518\",\"type\":\"BoxZoomTool\"},{\"attributes\":{},\"id\":\"1506\",\"type\":\"LinearScale\"},{\"attributes\":{\"fill_color\":{\"value\":\"#1f77b4\"},\"line_color\":{\"value\":\"#1f77b4\"},\"line_width\":{\"value\":2},\"top\":{\"field\":\"p(A)\"},\"width\":{\"value\":0.14285714285714285},\"x\":{\"field\":\"__x__values\",\"transform\":{\"id\":\"1532\"}}},\"id\":\"1534\",\"type\":\"VBar\"},{\"attributes\":{},\"id\":\"1517\",\"type\":\"WheelZoomTool\"},{\"attributes\":{\"label\":{\"value\":\" p(T)\"},\"renderers\":[{\"id\":\"1591\"}]},\"id\":\"1602\",\"type\":\"LegendItem\"},{\"attributes\":{\"axis_label\":\"Percentage\",\"formatter\":{\"id\":\"1540\"},\"major_label_policy\":{\"id\":\"1539\"},\"ticker\":{\"id\":\"1513\"}},\"id\":\"1512\",\"type\":\"LinearAxis\"},{\"attributes\":{\"axis\":{\"id\":\"1512\"},\"dimension\":1,\"ticker\":null},\"id\":\"1515\",\"type\":\"Grid\"},{\"attributes\":{},\"id\":\"1542\",\"type\":\"AllLabels\"},{\"attributes\":{\"source\":{\"id\":\"1496\"}},\"id\":\"1537\",\"type\":\"CDSView\"},{\"attributes\":{},\"id\":\"1513\",\"type\":\"BasicTicker\"},{\"attributes\":{},\"id\":\"1521\",\"type\":\"HelpTool\"},{\"attributes\":{\"click_policy\":\"hide\",\"items\":[{\"id\":\"1548\"},{\"id\":\"1566\"},{\"id\":\"1584\"},{\"id\":\"1602\"}]},\"id\":\"1547\",\"type\":\"Legend\"},{\"attributes\":{},\"id\":\"1520\",\"type\":\"ResetTool\"},{\"attributes\":{},\"id\":\"1516\",\"type\":\"PanTool\"},{\"attributes\":{\"label\":{\"value\":\" p(A)\"},\"renderers\":[{\"id\":\"1536\"}]},\"id\":\"1548\",\"type\":\"LegendItem\"}],\"root_ids\":[\"1497\"]},\"title\":\"Bokeh Application\",\"version\":\"2.3.1\"}};\n",
       "  var render_items = [{\"docid\":\"cd645aea-b92d-4164-9751-1ed7c26aee3e\",\"root_ids\":[\"1497\"],\"roots\":{\"1497\":\"df715ae0-5cfd-45b8-a35f-ba5c422ae058\"}}];\n",
       "  root.Bokeh.embed.embed_items_notebook(docs_json, render_items);\n",
       "\n",
       "  }\n",
       "  if (root.Bokeh !== undefined) {\n",
       "    embed_document(root);\n",
       "  } else {\n",
       "    var attempts = 0;\n",
       "    var timer = setInterval(function(root) {\n",
       "      if (root.Bokeh !== undefined) {\n",
       "        clearInterval(timer);\n",
       "        embed_document(root);\n",
       "      } else {\n",
       "        attempts++;\n",
       "        if (attempts > 100) {\n",
       "          clearInterval(timer);\n",
       "          console.log(\"Bokeh: ERROR: Unable to run BokehJS code because BokehJS library is missing\");\n",
       "        }\n",
       "      }\n",
       "    }, 10, root)\n",
       "  }\n",
       "})(window);"
      ],
      "application/vnd.bokehjs_exec.v0+json": ""
     },
     "metadata": {
      "application/vnd.bokehjs_exec.v0+json": {
       "id": "1497"
      }
     },
     "output_type": "display_data"
    }
   ],
   "source": [
    "\"\"\"\n",
    "kind指的是我们要绘制的图形类型，当前的pandas_bokeh支持这几种图形：line, point, step, scatter, bar, histogram, area, pie, map。\n",
    "x和y直接传递的是dataframe数据集中的key，即指定何者为横轴数据，何者为纵轴数据。\n",
    "xlabel和ylabel是x轴和y轴的标签。\n",
    "title是图表的标题。\n",
    "\"\"\"\n",
    "import pandas_bokeh\n",
    "from bokeh.io import export_png\n",
    "pandas_bokeh.output_notebook()\n",
    "# df_donor_priors_p.plot.bar()\n",
    "p1=df_donor_priors_p.plot_bokeh(\n",
    "    kind='bar',\n",
    "#     x='Year',\n",
    "#     y=['Category-A', 'Category-B', 'Category-C'],\n",
    "    xlabel='Site',\n",
    "    ylabel='Percentage',\n",
    "    zooming = False,\n",
    "    panning=False,\n",
    "#     colormap = \"Pastel2\"\n",
    "#     color = [\"#5ba0ca\"]\n",
    "#     title='Annual Sales by Category'\n",
    ")\n",
    "# p1.savefig(\"donor signal stacked.png\",bbox_inches = 'tight')\n",
    "# save(obj=p1, filename=\"donor signal stacked.png\", title=\"outputTest\")"
   ]
  },
  {
   "cell_type": "code",
   "execution_count": 27,
   "metadata": {},
   "outputs": [
    {
     "data": {
      "text/plain": [
       "<AxesSubplot:>"
      ]
     },
     "execution_count": 27,
     "metadata": {},
     "output_type": "execute_result"
    },
    {
     "data": {
      "text/plain": [
       "Text(0.5, 0, 'Site')"
      ]
     },
     "execution_count": 27,
     "metadata": {},
     "output_type": "execute_result"
    },
    {
     "data": {
      "text/plain": [
       "Text(0, 0.5, 'Percentage')"
      ]
     },
     "execution_count": 27,
     "metadata": {},
     "output_type": "execute_result"
    },
    {
     "data": {
      "text/plain": [
       "<matplotlib.legend.Legend at 0x1bcad8e2e20>"
      ]
     },
     "execution_count": 27,
     "metadata": {},
     "output_type": "execute_result"
    },
    {
     "data": {
      "image/png": "[encoded data removed]",
      "text/plain": [
       "<Figure size 720x576 with 1 Axes>"
      ]
     },
     "metadata": {
      "needs_background": "light"
     },
     "output_type": "display_data"
    }
   ],
   "source": [
    "fig,axes = plt.subplots(figsize=(10,8))\n",
    "df_donor_priors_p.plot.bar(width=0.4,color=[\"#ff4d4f\",\"#36cfc9\",\"#73d13d\",\"#fa8c16\"],alpha=0.7,ax=axes)\n",
    "axes.set_xlabel(\"Site\")\n",
    "axes.set_ylabel(\"Percentage\")\n",
    "axes.legend([1,2,3,4],loc=[1,0],ncol=1)\n",
    "fig.savefig(\"output/donor signal unstacked.png\",bbox_inches = 'tight')"
   ]
  },
  {
   "cell_type": "code",
   "execution_count": 50,
   "metadata": {},
   "outputs": [
    {
     "name": "stderr",
     "output_type": "stream",
     "text": [
      "D:\\Program_Files\\Anaconda3\\lib\\site-packages\\pandas\\plotting\\_matplotlib\\core.py:1583: MatplotlibDeprecationWarning: normalize=None does not normalize if the sum is less than 1 but this behavior is deprecated since 3.3 until two minor releases later. After the deprecation period the default value will be normalize=True. To prevent normalization pass normalize=False \n",
      "  results = ax.pie(y, labels=blabels, **kwds)\n"
     ]
    },
    {
     "data": {
      "text/plain": [
       "array([[<AxesSubplot:ylabel='p(A)'>, <AxesSubplot:ylabel='p(C)'>,\n",
       "        <AxesSubplot:ylabel='p(G)'>, <AxesSubplot:ylabel='p(T)'>]],\n",
       "      dtype=object)"
      ]
     },
     "execution_count": 50,
     "metadata": {},
     "output_type": "execute_result"
    },
    {
     "data": {
      "image/png": "[encoded data removed]",
      "text/plain": [
       "<Figure size 1440x576 with 4 Axes>"
      ]
     },
     "metadata": {},
     "output_type": "display_data"
    }
   ],
   "source": [
    "df_donor_priors_p.plot.pie(subplots=True,layout=(1,4),figsize=(20,8),sharey=True,autopct='%1.1f%%')"
   ]
  },
  {
   "cell_type": "code",
   "execution_count": 42,
   "metadata": {},
   "outputs": [
    {
     "data": {
      "text/plain": [
       "<AxesSubplot:>"
      ]
     },
     "execution_count": 42,
     "metadata": {},
     "output_type": "execute_result"
    },
    {
     "data": {
      "text/plain": [
       "<matplotlib.legend.Legend at 0x1bfbf8c9580>"
      ]
     },
     "execution_count": 42,
     "metadata": {},
     "output_type": "execute_result"
    },
    {
     "data": {
      "image/png": "[encoded data removed]",
      "text/plain": [
       "<Figure size 432x288 with 1 Axes>"
      ]
     },
     "metadata": {
      "needs_background": "light"
     },
     "output_type": "display_data"
    }
   ],
   "source": [
    "df_donor_priors_p.plot.bar(stacked=True)\n",
    "plt.legend(loc=[1,0],ncol=1)\n",
    "plt.savefig(\"output/donor signal stacked.png\",bbox_inches = 'tight')"
   ]
  },
  {
   "cell_type": "code",
   "execution_count": 28,
   "metadata": {},
   "outputs": [
    {
     "data": {
      "text/plain": [
       "array([1394,  328,  318,  341], dtype=int64)"
      ]
     },
     "execution_count": 28,
     "metadata": {},
     "output_type": "execute_result"
    }
   ],
   "source": [
    "\n",
    "np.bincount(train_donor_signal_int[:,col],minlength=4)[0:4]"
   ]
  },
  {
   "cell_type": "code",
   "execution_count": 29,
   "metadata": {},
   "outputs": [
    {
     "data": {
      "text/plain": [
       "array([[0, 2, 3, ..., 0, 2, 3],\n",
       "       [3, 3, 1, ..., 0, 2, 3],\n",
       "       [0, 2, 2, ..., 0, 2, 0],\n",
       "       ...,\n",
       "       [0, 1, 0, ..., 0, 2, 3],\n",
       "       [2, 0, 0, ..., 0, 2, 3],\n",
       "       [1, 0, 2, ..., 0, 1, 3]])"
      ]
     },
     "execution_count": 29,
     "metadata": {},
     "output_type": "execute_result"
    },
    {
     "data": {
      "text/plain": [
       "2381"
      ]
     },
     "execution_count": 29,
     "metadata": {},
     "output_type": "execute_result"
    }
   ],
   "source": [
    "train_donor_signal_int\n",
    "len(train_donor_signal_int)"
   ]
  },
  {
   "cell_type": "code",
   "execution_count": null,
   "metadata": {},
   "outputs": [],
   "source": [
    "import itertools\n",
    "\n",
    "def joint_count(donor,count):\n",
    "    for j in range(8):\n",
    "        code1,code2 = donor[j:j+2]\n",
    "        pos = 4*code1+code2\n",
    "        count[j][pos] +=1\n",
    "    return count\n",
    "     \n",
    "\n",
    "#计算条件概率\n",
    "\n",
    "def cal_conditionalProbability(donor_signal,priors):\n",
    "    N,M=signal_num-1,16\n",
    "    count= np.zeros((N,M),dtype=np.int32)\n",
    "    conditional = np.zeros((N,M),dtype=np.float32)\n",
    "    print(count.shape)\n",
    "    # count\n",
    "    donor_signal = tqdm(donor_signal, desc='Calculating Conditional Probability:')\n",
    "    for donor in donor_signal:\n",
    "        for j in range(N):\n",
    "            if 4 not in donor[j:j+1]:\n",
    "                count[j][4*donor[j]+donor[j+1]] +=1\n",
    "            else:\n",
    "                pass #跳过\n",
    "    #  joint\n",
    "    joint= count/(len(donor_signal))\n",
    "    ## conditional P(i+1,A|i,C) = P(A,C)/P(C) 第i位是C，第i+1位为A的概率，\n",
    "    for k in itertools.product(range(N),range(4),range(4)):\n",
    "        i = k[0]\n",
    "        j = k[1]\n",
    "        m = k[2]\n",
    "        if priors[i][j]:\n",
    "            conditional[i][4*j+m] = joint[i][4*j+m]/priors[i][j]\n",
    "        else:\n",
    "            pass\n",
    "    return conditional\n",
    "def conditional_to_csv(conditional,signal,mode):\n",
    "    conditional_col_name = [f'p({i},{j})' for i in bases for j in bases ]\n",
    "    conditional_row_name=list(range(-left+1,right))\n",
    "    conditionalDf= pd.DataFrame(index=conditional_row_name,columns=conditional_col_name, data=conditional)\n",
    "    print(conditionalDf) \n",
    "    if signal==\"nonDonor\":\n",
    "        conditionalDf.to_csv(f'output/conditionalDf_probability(P{mode}).csv')\n",
    "    else:\n",
    "        conditionalDf.to_csv(f'output/{signal}_conditionalDf_probability(P{mode}).csv')\n",
    "    return conditionalDf\n",
    "    \n",
    "donor_conditional_p = cal_conditionalProbability(train_donor_signal_int,donor_priors_p)\n",
    "df_donor_conditional_p =conditional_to_csv(donor_conditional_p,signal=\"donor\",mode=\"+\")\n",
    "ShowHeatMap(df_donor_conditional_p,size=(14,10),title=\"Dependence between Adjacent Base Pairs of Donor Sites\")\n",
    "# acceptor_conditional_p=cal_conditionalProbability(train_acceptor_signal_int,acceptor_priors_p)\n",
    "# conditional_to_csv(acceptor_conditional_p,signal=\"acceptor\",mode=\"+\")\n"
   ]
  },
  {
   "cell_type": "code",
   "execution_count": null,
   "metadata": {},
   "outputs": [],
   "source": [
    "# create \n",
    "def create_nonDonor(seqs_DNA, donor_locations, acceptor_locations):\n",
    "    '''\n",
    "    # 目前是暴力把所有非signal位点都导出，5510888 \n",
    "    改了下编码格式 怎么变成4922041……不过和老师给的概率就很接近了……\n",
    "    求先验概率倒是变快了很多\n",
    "    为什么这个函数我越优化越慢呢……事实证明， 应该一次性编码，而不是一个序列一次编码\n",
    "    '''\n",
    "    \n",
    "\n",
    "    nonDonors = []\n",
    "    file_num = tqdm(range(len(donor_locations)), desc='Creating Non Donor Signal Sequence:')\n",
    "    for i in file_num:\n",
    "        # 每个文件循环\n",
    "        file_seq_DNA = seqs_DNA[i]\n",
    "        num = len(donor_locations[i])  \n",
    "        length = len(file_seq_DNA)\n",
    "        donor_signals_start=[pos-1-left for pos in donor_locations[i]]\n",
    "        acceptor_signals_start=[pos-right for pos in acceptor_locations[i] ]\n",
    "        signals_start=sorted(donor_signals_start+acceptor_signals_start)\n",
    "        for index in range(length-signal_num+1):\n",
    "            if index not in signals_start:\n",
    "                nonDonor = file_seq_DNA[index:index + signal_num]\n",
    "                no_known =pattern.search(nonDonor)\n",
    "                if no_known:\n",
    "                    break\n",
    "                else:\n",
    "                    yield nonDonor\n",
    "        # 把所有假位点生成之后，还继续生成？\n",
    "#         slice = random.sample(phonyDonor_temp, length)\n",
    "#         nonDonors.extend(slice)\n",
    "    print('Created Non Donor Signal Sequence successful!')\n",
    "#     return nonDonor_temp\n",
    "\n",
    "\n",
    "nonDonor_list=create_nonDonor(train_seq_list, train_donor_positions, train_acceptor_positions)\n",
    "nonDonor_list=list(nonDonor_list)\n",
    "print(len(nonDonor_list))"
   ]
  },
  {
   "cell_type": "markdown",
   "metadata": {},
   "source": [
    "可以看到导出了4592个非donor site siganl 序列（因为剔除了很多未知碱基吧?按道理来说这种方式不应该出现超万个的序列吗？？？？)  \n",
    "好吧，我知道了，原来又是循环位置放错  \n",
    "现在导出了5511802个  \n",
    "现在导出了4922041个"
   ]
  },
  {
   "cell_type": "code",
   "execution_count": 12,
   "metadata": {},
   "outputs": [
    {
     "ename": "NameError",
     "evalue": "name 'nonDonor_list' is not defined",
     "output_type": "error",
     "traceback": [
      "\u001b[1;31m---------------------------------------------------------------------------\u001b[0m",
      "\u001b[1;31mNameError\u001b[0m                                 Traceback (most recent call last)",
      "\u001b[1;32m<ipython-input-12-474a07e494fd>\u001b[0m in \u001b[0;36m<module>\u001b[1;34m\u001b[0m\n\u001b[1;32m----> 1\u001b[1;33m \u001b[0mnonDonor_list\u001b[0m\u001b[1;33m\u001b[0m\u001b[1;33m\u001b[0m\u001b[0m\n\u001b[0m",
      "\u001b[1;31mNameError\u001b[0m: name 'nonDonor_list' is not defined"
     ]
    }
   ],
   "source": [
    "nonDonor_list"
   ]
  },
  {
   "cell_type": "code",
   "execution_count": 13,
   "metadata": {},
   "outputs": [
    {
     "ename": "NameError",
     "evalue": "name 'nonDonor_list' is not defined",
     "output_type": "error",
     "traceback": [
      "\u001b[1;31m---------------------------------------------------------------------------\u001b[0m",
      "\u001b[1;31mNameError\u001b[0m                                 Traceback (most recent call last)",
      "\u001b[1;32m<ipython-input-13-7a49ef3356a0>\u001b[0m in \u001b[0;36m<module>\u001b[1;34m\u001b[0m\n\u001b[1;32m----> 1\u001b[1;33m \u001b[0msave_donors_str\u001b[0m\u001b[1;33m(\u001b[0m\u001b[0mnonDonor_list\u001b[0m\u001b[1;33m,\u001b[0m\u001b[1;34m\"Train_nondonor_signal_str\"\u001b[0m\u001b[1;33m)\u001b[0m\u001b[1;33m\u001b[0m\u001b[1;33m\u001b[0m\u001b[0m\n\u001b[0m",
      "\u001b[1;31mNameError\u001b[0m: name 'nonDonor_list' is not defined"
     ]
    }
   ],
   "source": [
    "save_donors_str(nonDonor_list,\"Train_nondonor_signal_str\")"
   ]
  },
  {
   "cell_type": "code",
   "execution_count": 157,
   "metadata": {},
   "outputs": [
    {
     "data": {
      "application/vnd.jupyter.widget-view+json": {
       "model_id": "cf089b091c7f44e388601ea1b462ab73",
       "version_major": 2,
       "version_minor": 0
      },
      "text/plain": [
       "Counting  Base Distribution::   0%|          | 0/4922041 [00:00<?, ?it/s]"
      ]
     },
     "metadata": {},
     "output_type": "display_data"
    },
    {
     "data": {
      "text/plain": [
       "{'g': 10442054, 'c': 10244891, 'a': 11574514, 't': 12036910}"
      ]
     },
     "execution_count": 157,
     "metadata": {},
     "output_type": "execute_result"
    }
   ],
   "source": [
    "count_each_char(nonDonor_list)"
   ]
  },
  {
   "cell_type": "code",
   "execution_count": 158,
   "metadata": {},
   "outputs": [
    {
     "data": {
      "application/vnd.jupyter.widget-view+json": {
       "model_id": "765f1ea80e8e496090d7e02c130cb7ee",
       "version_major": 2,
       "version_minor": 0
      },
      "text/plain": [
       "code_all_signal::   0%|          | 0/4922041 [00:00<?, ?it/s]"
      ]
     },
     "metadata": {},
     "output_type": "display_data"
    }
   ],
   "source": [
    "nonDonor_array=code_all_signal(nonDonor_list)"
   ]
  },
  {
   "cell_type": "code",
   "execution_count": 159,
   "metadata": {},
   "outputs": [
    {
     "data": {
      "application/vnd.jupyter.widget-view+json": {
       "model_id": "4f73a851c41d4ce0a0e65f811663d6ae",
       "version_major": 2,
       "version_minor": 0
      },
      "text/plain": [
       "Calculating Prior Probability::   0%|          | 0/9 [00:00<?, ?it/s]"
      ]
     },
     "metadata": {},
     "output_type": "display_data"
    },
    {
     "name": "stdout",
     "output_type": "stream",
     "text": [
      "        p(A)      p(C)      p(G)      p(T)\n",
      "-3  0.261318  0.231095  0.235906  0.271681\n",
      "-2  0.261207  0.231220  0.235918  0.271655\n",
      "-1  0.261349  0.231291  0.235562  0.271798\n",
      " 0  0.261469  0.231134  0.235567  0.271829\n",
      " 1  0.261076  0.231434  0.236012  0.271478\n",
      " 2  0.261299  0.231410  0.235400  0.271891\n",
      " 3  0.261112  0.231319  0.235746  0.271823\n",
      " 4  0.261394  0.231295  0.235554  0.271758\n",
      " 5  0.261344  0.231233  0.235823  0.271600\n",
      "(8, 16)\n"
     ]
    },
    {
     "data": {
      "application/vnd.jupyter.widget-view+json": {
       "model_id": "41ac27d5f3924d74a079a00577c6153c",
       "version_major": 2,
       "version_minor": 0
      },
      "text/plain": [
       "Calculating Conditional Probability::   0%|          | 0/4922041 [00:00<?, ?it/s]"
      ]
     },
     "metadata": {},
     "output_type": "display_data"
    },
    {
     "name": "stdout",
     "output_type": "stream",
     "text": [
      "      p(A,A)    p(A,C)    p(A,G)    p(A,T)    p(C,A)    p(C,C)    p(C,G)  \\\n",
      "-2  0.298265  0.186432  0.280399  0.234904  0.307169  0.293462  0.076214   \n",
      "-1  0.298623  0.186565  0.279760  0.235052  0.307276  0.293502  0.076020   \n",
      " 0  0.298555  0.186250  0.280286  0.234909  0.307437  0.293267  0.076145   \n",
      " 1  0.298412  0.186448  0.280331  0.234809  0.306314  0.293905  0.076245   \n",
      " 2  0.298967  0.186721  0.279145  0.235167  0.307255  0.293527  0.076136   \n",
      " 3  0.298181  0.186476  0.280444  0.234900  0.307247  0.293507  0.076146   \n",
      " 4  0.298764  0.186578  0.279621  0.235038  0.307303  0.293498  0.076080   \n",
      " 5  0.298468  0.186392  0.280323  0.234817  0.307280  0.293485  0.076115   \n",
      "\n",
      "      p(C,T)    p(G,A)    p(G,C)    p(G,G)    p(G,T)    p(T,A)    p(T,C)  \\\n",
      "-2  0.323155  0.258394  0.230200  0.292075  0.219331  0.188910  0.222243   \n",
      "-1  0.323201  0.258495  0.230244  0.291892  0.219368  0.188895  0.222255   \n",
      " 0  0.323151  0.258923  0.230290  0.291105  0.219682  0.188899  0.222151   \n",
      " 1  0.323537  0.258958  0.230568  0.292587  0.217887  0.188535  0.222337   \n",
      " 2  0.323082  0.258497  0.230126  0.292046  0.219331  0.188333  0.222548   \n",
      " 3  0.323101  0.258081  0.230485  0.291743  0.219691  0.188845  0.222209   \n",
      " 4  0.323119  0.258564  0.230240  0.291925  0.219271  0.188884  0.222231   \n",
      " 5  0.323119  0.258673  0.230262  0.292234  0.218831  0.188854  0.222222   \n",
      "\n",
      "      p(T,G)    p(T,T)  \n",
      "-2  0.280218  0.308629  \n",
      "-1  0.279940  0.308911  \n",
      " 0  0.280098  0.308852  \n",
      " 1  0.280201  0.308927  \n",
      " 2  0.279858  0.309261  \n",
      " 3  0.280146  0.308800  \n",
      " 4  0.280043  0.308843  \n",
      " 5  0.280054  0.308869  \n"
     ]
    }
   ],
   "source": [
    "\n",
    "# signal_to_csv(nonDonor_array,mode=\"nonDonor\") \n",
    "prior_n=cal_priorProbability(nonDonor_array)\n",
    "df_prior_n = prior_to_csv(prior_n,signal=\"nonDonor\",mode=\"-\")\n",
    "conditional_n = cal_conditionalProbability(nonDonor_array,prior_n)\n",
    "df_conditional_n = conditional_to_csv(conditional_n,signal=\"nonDonor\",mode=\"-\")"
   ]
  },
  {
   "cell_type": "code",
   "execution_count": 160,
   "metadata": {},
   "outputs": [
    {
     "data": {
      "image/png": "[encoded data removed]",
      "text/plain": [
       "<Figure size 576x576 with 2 Axes>"
      ]
     },
     "metadata": {
      "needs_background": "light"
     },
     "output_type": "display_data"
    },
    {
     "data": {
      "image/png": "[encoded data removed]",
      "text/plain": [
       "<Figure size 1008x720 with 2 Axes>"
      ]
     },
     "metadata": {
      "needs_background": "light"
     },
     "output_type": "display_data"
    }
   ],
   "source": [
    "\n",
    "ShowHeatMap(df_prior_n,title=\"Nucleotide Distribution Probabilities around non Donor Sites\")\n",
    "ShowHeatMap(df_conditional_n,size=(14,10),title=\"Dependence between Adjacent Base Pairs  of non Donor Sites\")"
   ]
  },
  {
   "cell_type": "markdown",
   "metadata": {},
   "source": [
    "数据处理部分结束！😀😀😀😀😀😀😀😀😀😀😀😀😀"
   ]
  },
  {
   "cell_type": "code",
   "execution_count": 52,
   "metadata": {},
   "outputs": [
    {
     "data": {
      "image/png": "[encoded data removed]",
      "text/plain": [
       "<Figure size 432x72 with 1 Axes>"
      ]
     },
     "metadata": {
      "needs_background": "light"
     },
     "output_type": "display_data"
    },
    {
     "data": {
      "image/png": "[encoded data removed]",
      "text/plain": [
       "<Figure size 432x72 with 1 Axes>"
      ]
     },
     "metadata": {
      "needs_background": "light"
     },
     "output_type": "display_data"
    },
    {
     "data": {
      "image/png": "[encoded data removed]",
      "text/plain": [
       "<Figure size 432x72 with 1 Axes>"
      ]
     },
     "metadata": {
      "needs_background": "light"
     },
     "output_type": "display_data"
    },
    {
     "data": {
      "image/png": "[encoded data removed]",
      "text/plain": [
       "<Figure size 432x72 with 1 Axes>"
      ]
     },
     "metadata": {
      "needs_background": "light"
     },
     "output_type": "display_data"
    },
    {
     "data": {
      "image/png": "[encoded data removed]",
      "text/plain": [
       "<Figure size 504x72 with 1 Axes>"
      ]
     },
     "metadata": {
      "needs_background": "light"
     },
     "output_type": "display_data"
    },
    {
     "data": {
      "image/png": "[encoded data removed]",
      "text/plain": [
       "<Figure size 504x72 with 1 Axes>"
      ]
     },
     "metadata": {
      "needs_background": "light"
     },
     "output_type": "display_data"
    },
    {
     "data": {
      "image/png": "[encoded data removed]",
      "text/plain": [
       "<Figure size 576x72 with 1 Axes>"
      ]
     },
     "metadata": {
      "needs_background": "light"
     },
     "output_type": "display_data"
    }
   ],
   "source": [
    "sns.palplot(sns.color_palette(\"RdPu\"))\n",
    "sns.palplot(sns.color_palette(\"GnBu\"))\n",
    "sns.palplot(sns.color_palette(\"OrRd_r\"))\n",
    "sns.palplot(sns.color_palette(\"BuGn_d\"))\n",
    "sns.palplot(sns.color_palette(\"cubehelix\", 7))\n",
    "sns.palplot(sns.cubehelix_palette(7))\n",
    "sns.palplot(sns.cubehelix_palette(8, start=2, rot=0, dark=0, light=0.9, reverse=True))\n"
   ]
  },
  {
   "cell_type": "code",
   "execution_count": 162,
   "metadata": {},
   "outputs": [
    {
     "name": "stdout",
     "output_type": "stream",
     "text": [
      "None\n"
     ]
    }
   ],
   "source": [
    "no_known =re.search(\"[^acgt]\",\"atcg\")\n",
    "if no_known:\n",
    "    print(no_known.group(0))\n",
    "else:\n",
    "    print(no_known)"
   ]
  },
  {
   "cell_type": "code",
   "execution_count": 163,
   "metadata": {},
   "outputs": [
    {
     "name": "stdout",
     "output_type": "stream",
     "text": [
      "1\n"
     ]
    },
    {
     "ename": "UnboundLocalError",
     "evalue": "local variable 'n' referenced before assignment",
     "output_type": "error",
     "traceback": [
      "\u001b[1;31m---------------------------------------------------------------------------\u001b[0m",
      "\u001b[1;31mUnboundLocalError\u001b[0m                         Traceback (most recent call last)",
      "\u001b[1;32m<ipython-input-163-fee1abbe1373>\u001b[0m in \u001b[0;36m<module>\u001b[1;34m\u001b[0m\n\u001b[0;32m      8\u001b[0m     \u001b[0mprint\u001b[0m\u001b[1;33m(\u001b[0m\u001b[0mn\u001b[0m\u001b[1;33m)\u001b[0m\u001b[1;33m\u001b[0m\u001b[1;33m\u001b[0m\u001b[0m\n\u001b[0;32m      9\u001b[0m \u001b[0mprint\u001b[0m\u001b[1;33m(\u001b[0m\u001b[0mn\u001b[0m\u001b[1;33m)\u001b[0m\u001b[1;33m\u001b[0m\u001b[1;33m\u001b[0m\u001b[0m\n\u001b[1;32m---> 10\u001b[1;33m \u001b[0mfun1\u001b[0m\u001b[1;33m(\u001b[0m\u001b[1;33m)\u001b[0m\u001b[1;33m\u001b[0m\u001b[1;33m\u001b[0m\u001b[0m\n\u001b[0m\u001b[0;32m     11\u001b[0m \u001b[0mprint\u001b[0m\u001b[1;33m(\u001b[0m\u001b[0mi\u001b[0m\u001b[1;33m)\u001b[0m\u001b[1;33m\u001b[0m\u001b[1;33m\u001b[0m\u001b[0m\n",
      "\u001b[1;32m<ipython-input-163-fee1abbe1373>\u001b[0m in \u001b[0;36mfun1\u001b[1;34m()\u001b[0m\n\u001b[0;32m      2\u001b[0m \u001b[0mn\u001b[0m \u001b[1;33m=\u001b[0m \u001b[1;36m1\u001b[0m\u001b[1;33m\u001b[0m\u001b[1;33m\u001b[0m\u001b[0m\n\u001b[0;32m      3\u001b[0m \u001b[1;32mdef\u001b[0m \u001b[0mfun1\u001b[0m\u001b[1;33m(\u001b[0m\u001b[1;33m)\u001b[0m\u001b[1;33m:\u001b[0m\u001b[1;33m\u001b[0m\u001b[1;33m\u001b[0m\u001b[0m\n\u001b[1;32m----> 4\u001b[1;33m     \u001b[0mn\u001b[0m \u001b[1;33m+=\u001b[0m\u001b[1;36m3\u001b[0m\u001b[1;33m\u001b[0m\u001b[1;33m\u001b[0m\u001b[0m\n\u001b[0m\u001b[0;32m      5\u001b[0m     \u001b[0mprint\u001b[0m\u001b[1;33m(\u001b[0m\u001b[0mn\u001b[0m\u001b[1;33m+\u001b[0m\u001b[1;36m3\u001b[0m\u001b[1;33m)\u001b[0m\u001b[1;33m\u001b[0m\u001b[1;33m\u001b[0m\u001b[0m\n\u001b[0;32m      6\u001b[0m \u001b[1;31m#     global i\u001b[0m\u001b[1;33m\u001b[0m\u001b[1;33m\u001b[0m\u001b[1;33m\u001b[0m\u001b[0m\n",
      "\u001b[1;31mUnboundLocalError\u001b[0m: local variable 'n' referenced before assignment"
     ]
    }
   ],
   "source": [
    "# python 函数可以引用全局变量，但不能在函数内n+ =3 这样的形式\n",
    "n = 1\n",
    "def fun1():\n",
    "    n +=3\n",
    "    print(n+3)\n",
    "#     global i\n",
    "#     i+=1\n",
    "    print(n)\n",
    "print(n)\n",
    "fun1()\n",
    "print(i)"
   ]
  },
  {
   "cell_type": "code",
   "execution_count": null,
   "metadata": {},
   "outputs": [],
   "source": [
    "n = 1\n",
    "def fun1():\n",
    "    n =3\n",
    "    print(n+3)\n",
    "#     global i\n",
    "#     i+=1\n",
    "    print(n)\n",
    "print(n)\n",
    "fun1()\n",
    "print(n)"
   ]
  },
  {
   "cell_type": "code",
   "execution_count": 85,
   "metadata": {},
   "outputs": [],
   "source": [
    "import pandas as pd\n",
    "import numpy as np\n",
    "import matplotlib.pyplot as plt\n",
    "%matplotlib inline\n",
    "\n",
    "data = np.random.randn(5,3)\n",
    "df = pd.DataFrame(np.abs(data), \n",
    "                  index=['Mon', 'Tue', 'Wen', 'Thir', 'Fri'], \n",
    "                  columns=['A', 'B', 'C'])"
   ]
  },
  {
   "cell_type": "code",
   "execution_count": null,
   "metadata": {},
   "outputs": [],
   "source": [
    "hea"
   ]
  }
 ],
 "metadata": {
  "kernelspec": {
   "display_name": "Python 3",
   "language": "python",
   "name": "python3"
  },
  "language_info": {
   "codemirror_mode": {
    "name": "ipython",
    "version": 3
   },
   "file_extension": ".py",
   "mimetype": "text/x-python",
   "name": "python",
   "nbconvert_exporter": "python",
   "pygments_lexer": "ipython3",
   "version": "3.8.5"
  }
 },
 "nbformat": 4,
 "nbformat_minor": 4
}
