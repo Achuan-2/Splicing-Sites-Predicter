{
 "cells": [
  {
   "cell_type": "code",
   "execution_count": 1,
   "metadata": {},
   "outputs": [],
   "source": [
    "# !pip install pandas\n",
    "# !pip install watermark\n",
    "# !pip install seaborn\n",
    "# !pip install biopython\n",
    "# !pip install sklearn\n",
    "import os\n",
    "import re \n",
    "# from Bio import SeqIO\n",
    "import seaborn as sns\n",
    "from sklearn.preprocessing import LabelEncoder\n",
    "from sklearn.preprocessing import OneHotEncoder\n",
    "import pandas as pd\n",
    "import numpy as np \n",
    "import watermark\n",
    "import random \n",
    "import math\n",
    "from tqdm.notebook import tqdm\n",
    "import matplotlib.pyplot as plt\n",
    "from IPython.core.interactiveshell import InteractiveShell\n",
    "InteractiveShell.ast_node_interactivity = 'all'"
   ]
  },
  {
   "cell_type": "code",
   "execution_count": 2,
   "metadata": {},
   "outputs": [
    {
     "name": "stdout",
     "output_type": "stream",
     "text": [
      "Last updated: 2021-05-01T15:43:32.261672+08:00\n",
      "\n",
      "Python implementation: CPython\n",
      "Python version       : 3.8.5\n",
      "IPython version      : 7.22.0\n",
      "\n",
      "Compiler    : MSC v.1916 64 bit (AMD64)\n",
      "OS          : Windows\n",
      "Release     : 10\n",
      "Machine     : AMD64\n",
      "Processor   : Intel64 Family 6 Model 142 Stepping 11, GenuineIntel\n",
      "CPU cores   : 8\n",
      "Architecture: 64bit\n",
      "\n",
      "watermark : 2.2.0\n",
      "matplotlib: 3.3.4\n",
      "re        : 2.2.1\n",
      "numpy     : 1.20.1\n",
      "pandas    : 1.2.4\n",
      "seaborn   : 0.11.1\n",
      "\n"
     ]
    }
   ],
   "source": [
    "%load_ext watermark\n",
    "%watermark\n",
    "%watermark --iversion"
   ]
  },
  {
   "cell_type": "markdown",
   "metadata": {},
   "source": [
    "## TODO\n",
    "- 把WAM模型包装为类？\n",
    "- 原来不对序列编码，发现运行速度贼慢，希望用numpy速度会快点  \n",
    "\n",
    "## Data Cleaning\n",
    "- train set contains 462 files,2831 introns, all suffies of file is \"TXT\",the letters are  lowercase  letters. The first line is \"LOCUS AB000381 35863 bp DNA PRI 14-MAY-1997\", gapped by lots of whitespace\n",
    "- test set contains 570 files,2071 introns,the suffixes of file contains \"TXT\"and \"txt\",and the letters are capital letters.The fist line in each file starts with like \">>ACU08131\"\n",
    "- 现在有一个问题，为什么提取的位点最后一个位点都是t开头的，而且几乎就没有gt donor site\n",
    "解决了，因为最后一个外显子没有donor site"
   ]
  },
  {
   "cell_type": "markdown",
   "metadata": {},
   "source": [
    "## 文件预处理\n",
    "创建文件夹（python中如果一个文件夹不存在，没法通过创建文件时同时创建文件）\n",
    "- 创建output文件夹用于保存得到的训练集和测试集的数据和分析结果\n",
    "- 创建predict文件夹用于保存预测的结果"
   ]
  },
  {
   "cell_type": "code",
   "execution_count": 3,
   "metadata": {},
   "outputs": [],
   "source": [
    "def mkdir(dirs):\n",
    "    if not os.path.exists(dirs):\n",
    "        os.makedirs(dirs)\n",
    "    else:\n",
    "        pass\n",
    "mkdir(\"output\")\n",
    "mkdir(\"predict\")"
   ]
  },
  {
   "cell_type": "markdown",
   "metadata": {},
   "source": [
    "一些全局变量设定"
   ]
  },
  {
   "cell_type": "code",
   "execution_count": 120,
   "metadata": {},
   "outputs": [],
   "source": [
    "left=2\n",
    "right=6\n",
    "signal_num = left+right\n",
    "bases=\"ACGT\"\n",
    "lower_bases=\"acgt\""
   ]
  },
  {
   "cell_type": "markdown",
   "metadata": {},
   "source": [
    "读取Training Set 和Testing Set文件夹，得到该文件夹下所有文件路径"
   ]
  },
  {
   "cell_type": "code",
   "execution_count": 121,
   "metadata": {
    "tags": []
   },
   "outputs": [
    {
     "data": {
      "application/vnd.jupyter.widget-view+json": {
       "model_id": "06980ff779fb4a9997c6b860e069bc44",
       "version_major": 2,
       "version_minor": 0
      },
      "text/plain": [
       "LOADING Training Set:   0%|          | 0/463 [00:00<?, ?it/s]"
      ]
     },
     "metadata": {},
     "output_type": "display_data"
    },
    {
     "name": "stdout",
     "output_type": "stream",
     "text": [
      "463 Files Loading Finished!\n",
      "\n"
     ]
    },
    {
     "data": {
      "application/vnd.jupyter.widget-view+json": {
       "model_id": "cf929df8394443f48556ea3dcf14995e",
       "version_major": 2,
       "version_minor": 0
      },
      "text/plain": [
       "LOADING Testing Set:   0%|          | 0/571 [00:00<?, ?it/s]"
      ]
     },
     "metadata": {},
     "output_type": "display_data"
    },
    {
     "name": "stdout",
     "output_type": "stream",
     "text": [
      "571 Files Loading Finished!\n",
      "\n"
     ]
    }
   ],
   "source": [
    "\n",
    "def loadFile(file_dir):\n",
    "    '''\n",
    "    Function: Read  All files in the Training Set Folder and Testing Set Folder\n",
    "    Parameter：file_dir\n",
    "    Output: file_path,locus_list\n",
    "    Attention: do not load non-fasta files!\n",
    "    '''\n",
    "    file_path = []\n",
    "    file_locus_list = []\n",
    "    count=0\n",
    "    all_file = tqdm(os.listdir(file_dir), desc=f'LOADING {file_dir}')\n",
    "    for file_name in all_file:\n",
    "        count+=1\n",
    "        suffix = re.findall(\"\\.(.+$)\",file_name)[-1].lower()\n",
    "        # or  suffix = file_name.split(\".\")[1].lower()\n",
    "        if suffix != \"txt\":\n",
    "            continue\n",
    "        path = f\"{file_dir}/{file_name}\"\n",
    "        file_path.append(path)\n",
    "    all_file.write(f\"{count} Files Loading Finished!\")\n",
    "    all_file.close()\n",
    "    print()\n",
    "    return file_path\n",
    "\n",
    "train_file_path =loadFile('Training Set')\n",
    "test_file_path =loadFile('Testing Set')\n",
    "# print(train_file_path)"
   ]
  },
  {
   "cell_type": "markdown",
   "metadata": {},
   "source": [
    "读取文件\n",
    "> 小插曲：尝试使用bipython的模块来加载，然而好像不太好用……还是用自己的函数吧\n",
    ">```python\n",
    "># for seq_record in SeqIO.parse('Testing Set/ACU08131.TXT', \"fasta\"):\n",
    ">#     print(seq_record.id)\n",
    "># #     print(type(seq_record.id))\n",
    "># #     print(seq_record.seq)\n",
    ">#     print(str(seq_record.seq))\n",
    ">```"
   ]
  },
  {
   "cell_type": "markdown",
   "metadata": {},
   "source": [
    " 读取每个文件，抽取每个文件的包含的信息，比如外显子数目和位置、donor site和acceptor site位置、抽取donor site 前left和后right的signal序列，对acceptor 抽取的是前right后left的signal 序列"
   ]
  },
  {
   "cell_type": "code",
   "execution_count": 122,
   "metadata": {
    "tags": []
   },
   "outputs": [
    {
     "name": "stdout",
     "output_type": "stream",
     "text": [
      "*********Extract Train Set donor signals**********\n"
     ]
    },
    {
     "data": {
      "application/vnd.jupyter.widget-view+json": {
       "model_id": "dd8efe55212642a8a2e3b6ef6063488a",
       "version_major": 2,
       "version_minor": 0
      },
      "text/plain": [
       "Train Progressing：:   0%|          | 0/462 [00:00<?, ?it/s]"
      ]
     },
     "metadata": {},
     "output_type": "display_data"
    },
    {
     "name": "stdout",
     "output_type": "stream",
     "text": [
      "Extract Folder Train info Finished!\n",
      "**********Extract Test Set donor signals**********\n"
     ]
    },
    {
     "data": {
      "application/vnd.jupyter.widget-view+json": {
       "model_id": "b27eb0fa846a407c93f6b2df6ebd085b",
       "version_major": 2,
       "version_minor": 0
      },
      "text/plain": [
       "Test Progressing：:   0%|          | 0/570 [00:00<?, ?it/s]"
      ]
     },
     "metadata": {},
     "output_type": "display_data"
    },
    {
     "name": "stdout",
     "output_type": "stream",
     "text": [
      "Extract Folder Test info Finished!\n"
     ]
    }
   ],
   "source": [
    "def extract_donor_signal(file_path,folder):\n",
    "    '''\n",
    "    Parameter：train_file_path|test_file_path [set_folder]\n",
    "    Output:file_donor_positions,file_acceptor_positions,file_donor_signals,donor_signal_all\n",
    "    '''\n",
    "    print(f'Extract {folder} Set donor signals'.center(50, '*'))\n",
    "    donor_positions= [] #1\n",
    "    acceptor_positions= [] #1\n",
    "    donor_signals=[]  #1\n",
    "    acceptor_signals=[]   #1\n",
    "    all_donor_signal=[]  \n",
    "    all_acceptor_signal=[]\n",
    "    length_list = [] #1\n",
    "    seq_list = [] #1\n",
    "    exons = [] #1\n",
    "    locus =[]\n",
    "    files = tqdm(file_path, desc=f'{folder} Progressing：')\n",
    "    for file in files:\n",
    "        f = open(file)\n",
    "        #  first line: extract gene locus\n",
    "        first_line =f.readline() \n",
    "        if folder == \"Test\":\n",
    "            locus.append(re.search(\">(.+)$\",first_line).group(1))\n",
    "        elif folder==\"Train\":\n",
    "            locus.append(first_line.split()[1]) \n",
    "        #  second line: extract  donor and acceptor site positions\n",
    "        second_line=f.readline()  \n",
    "        exon_positions_list = re.findall(r'(\\d+)\\.\\.(\\d+)',second_line)\n",
    "        donor_positions_list = [int(pos_set[1])+1 for pos_set in exon_positions_list[:-1]]\n",
    "        acceptor_positions_list= [int(pos_set[0])-1 for pos_set in exon_positions_list[1:]]\n",
    "        exons.append(exon_positions_list)\n",
    "        donor_positions.append(donor_positions_list)\n",
    "        acceptor_positions.append(acceptor_positions_list)\n",
    "        seq = ''\n",
    "        # extract  seq info\n",
    "        for line in f.readlines():\n",
    "                seq += line.strip()\n",
    "        seq_length = len(seq)\n",
    "        seq_list.append(seq.lower())\n",
    "        length_list.append(seq_length)\n",
    "        # extract  donor site signal\n",
    "        donor_signal=[]\n",
    "        for pos in donor_positions_list:\n",
    "            signal_range = seq[pos-1-left:pos-1+right].lower()\n",
    "            donor_signal.append(signal_range)\n",
    "            all_donor_signal.append(signal_range)\n",
    "        donor_signals.append(donor_signal)\n",
    "        # extract  acceptor site signal\n",
    "        acceptor_signal=[]\n",
    "        for pos in acceptor_positions_list:\n",
    "            signal_range = seq[pos-right:pos+left].lower()\n",
    "            acceptor_signal.append(signal_range)\n",
    "            all_acceptor_signal.append(signal_range)\n",
    "        acceptor_signals.append(acceptor_signal)\n",
    "    df_set_info = pd.DataFrame({'Path':file_path, 'Locus':locus,\"Length\":length_list,\"Exon Num\":[ len(exons) for exons  in exons],\\\n",
    " \"Exon Location\":exons,\"Donor Site\":donor_positions,\"Acceptor Site\":acceptor_positions,\"Donor signals\":donor_signals,\"Acceptor signals\":acceptor_signals})\n",
    "    df_set_info_seq = df_set_info.copy()\n",
    "    df_set_info_seq[\"Seq\"] = seq_list\n",
    "    df_set_info_seq.to_csv(f'output/{folder}_set_info.csv',index=None)\n",
    "    df_set_info.to_csv(f'output/{folder}_set_info(non-seq).csv',index=None)\n",
    "    print(f\"Extract Folder {folder} info Finished!\")\n",
    "    return all_donor_signal,all_acceptor_signal,seq_list,donor_positions,acceptor_positions\n",
    "\n",
    "train_donor_signal_all_str,train_acceptor_signal_all_str,train_seq_list,\\\n",
    "train_donor_positions,train_acceptor_positions=extract_donor_signal(train_file_path,folder=\"Train\")\n",
    "test_donor_signal_all_str,test_acceptor_signal_all_str,test_seq_list,\\\n",
    "test_donor_positions,test_acceptor_positions=extract_donor_signal(test_file_path,folder=\"Test\")"
   ]
  },
  {
   "cell_type": "code",
   "execution_count": 123,
   "metadata": {},
   "outputs": [
    {
     "data": {
      "text/plain": [
       "['gtgtaagt', 'tcgtaagt', 'gggtaaga']"
      ]
     },
     "execution_count": 123,
     "metadata": {},
     "output_type": "execute_result"
    },
    {
     "data": {
      "text/plain": [
       "['tctcaggg', 'ttttaggc', 'ccccaggt']"
      ]
     },
     "execution_count": 123,
     "metadata": {},
     "output_type": "execute_result"
    }
   ],
   "source": [
    "train_donor_signal_all_str[0:3]\n",
    "train_acceptor_signal_all_str[0:3]"
   ]
  },
  {
   "cell_type": "markdown",
   "metadata": {},
   "source": [
    "把提取的donor_signal和acceptor_signal保存"
   ]
  },
  {
   "cell_type": "code",
   "execution_count": 124,
   "metadata": {},
   "outputs": [
    {
     "name": "stdout",
     "output_type": "stream",
     "text": [
      "     -2 -1  0  1  2  3  4  5\n",
      "0     g  t  g  t  a  a  g  t\n",
      "1     t  c  g  t  a  a  g  t\n",
      "2     g  g  g  t  a  a  g  a\n",
      "3     a  g  g  t  g  g  g  g\n",
      "4     a  g  g  t  g  a  g  t\n",
      "...  .. .. .. .. .. .. .. ..\n",
      "2376  a  g  g  t  a  g  g  t\n",
      "2377  a  g  g  t  a  a  g  t\n",
      "2378  c  a  g  t  g  a  g  t\n",
      "2379  a  a  g  t  g  a  g  t\n",
      "2380  a  g  g  t  a  a  c  t\n",
      "\n",
      "[2381 rows x 8 columns]\n",
      "     -5 -4 -3 -2 -1  0  1  2\n",
      "0     t  c  t  c  a  g  g  g\n",
      "1     t  t  t  t  a  g  g  c\n",
      "2     c  c  c  c  a  g  g  t\n",
      "3     t  c  c  t  a  g  g  g\n",
      "4     c  c  t  c  a  g  c  a\n",
      "...  .. .. .. .. .. .. .. ..\n",
      "2376  c  t  t  c  a  g  c  t\n",
      "2377  t  t  a  c  a  g  a  a\n",
      "2378  c  t  t  c  a  g  t  g\n",
      "2379  t  t  c  c  a  g  g  t\n",
      "2380  c  c  g  c  a  g  c  a\n",
      "\n",
      "[2381 rows x 8 columns]\n",
      "     -2 -1  0  1  2  3  4  5\n",
      "0     g  g  g  t  g  a  g  c\n",
      "1     t  g  g  t  a  a  g  a\n",
      "2     a  g  g  t  g  a  g  t\n",
      "3     c  g  g  t  a  g  g  t\n",
      "4     a  g  g  t  a  a  t  t\n",
      "...  .. .. .. .. .. .. .. ..\n",
      "2074  c  a  g  t  a  a  g  t\n",
      "2075  a  g  g  t  a  a  a  a\n",
      "2076  a  g  g  t  a  c  c  c\n",
      "2077  c  t  g  t  a  a  g  t\n",
      "2078  g  g  g  t  g  a  g  t\n",
      "\n",
      "[2079 rows x 8 columns]\n",
      "     -5 -4 -3 -2 -1  0  1  2\n",
      "0     t  g  g  c  a  g  g  c\n",
      "1     c  c  a  t  a  g  g  t\n",
      "2     c  t  c  t  a  g  g  t\n",
      "3     a  c  a  c  a  g  g  t\n",
      "4     t  g  g  c  a  g  t  t\n",
      "...  .. .. .. .. .. .. .. ..\n",
      "2074  t  t  g  c  a  g  t  t\n",
      "2075  c  t  a  t  a  g  g  c\n",
      "2076  t  t  c  c  a  g  c  g\n",
      "2077  t  t  t  c  a  g  c  c\n",
      "2078  c  t  g  c  a  g  a  g\n",
      "\n",
      "[2079 rows x 8 columns]\n",
      "save Train_donor_signal_str successful!\n",
      "save Train_acceptor_signal_str successful!\n",
      "save Test_donor_signal_str successful!\n",
      "save Test_acceptor_signal_str successful!\n"
     ]
    }
   ],
   "source": [
    "def signal_to_csv(signal_str,mode,folder=\"Train\"):\n",
    "    \"\"\"\n",
    "    output: csv\n",
    "    \"\"\"\n",
    "    signal_list=[list(line) for line in signal_str]\n",
    "    if mode==\"donor\" or mode==\"nonDonor\":\n",
    "        col_name = list(range(-left,right))\n",
    "    elif mode==\"acceptor\":\n",
    "        col_name = list(range(-right+1,left+1))\n",
    "    donorDf = pd.DataFrame(columns=col_name, data=signal_list, index=None)\n",
    "    print(donorDf)  # [2843 rows x 9 columns]\n",
    "    donorDf.to_csv(f'output/{folder}_{mode}_signal_info.csv',index=None)\n",
    "    \n",
    "\n",
    "def save_donors_str(signal_str,filename=\"signal_str\"):\n",
    "    \"\"\"\n",
    "    output: txt\n",
    "    \"\"\"\n",
    "    f = open(f'output/{filename}.txt', 'w')\n",
    "    for donor in signal_str:\n",
    "        donor = donor.lower()  # 存入文件时，把所有字符都规范成小写\n",
    "        f.write(donor + '\\n')\n",
    "    f.close()\n",
    "    print(f'save {filename} successful!')\n",
    "\n",
    "signal_to_csv(train_donor_signal_all_str,folder=\"Train\",mode=\"donor\")\n",
    "signal_to_csv(train_acceptor_signal_all_str,folder=\"Train\",mode=\"acceptor\")\n",
    "signal_to_csv(test_donor_signal_all_str,folder=\"Test\",mode=\"donor\")\n",
    "signal_to_csv(test_acceptor_signal_all_str,folder=\"Test\",mode=\"acceptor\")\n",
    "save_donors_str(train_donor_signal_all_str,filename=\"Train_donor_signal_str\")\n",
    "save_donors_str(train_acceptor_signal_all_str,filename=\"Train_acceptor_signal_str\")\n",
    "save_donors_str(test_donor_signal_all_str,filename=\"Test_donor_signal_str\")\n",
    "save_donors_str(test_acceptor_signal_all_str,filename=\"Test_acceptor_signal_str\")"
   ]
  },
  {
   "cell_type": "markdown",
   "metadata": {},
   "source": [
    "这里有一个比较坑的一点是，序列里才不只是有ACGT，还有其他未知碱基，但统计完之后发现其实提取的signal序列都没用未知碱基，所以之后处理可以考虑提取的序列如果包含未知碱基"
   ]
  },
  {
   "cell_type": "code",
   "execution_count": 125,
   "metadata": {},
   "outputs": [
    {
     "data": {
      "application/vnd.jupyter.widget-view+json": {
       "model_id": "d2782ab4dd0e4549818d9253ef765022",
       "version_major": 2,
       "version_minor": 0
      },
      "text/plain": [
       "Counting  Base Distribution::   0%|          | 0/462 [00:00<?, ?it/s]"
      ]
     },
     "metadata": {},
     "output_type": "display_data"
    },
    {
     "data": {
      "application/vnd.jupyter.widget-view+json": {
       "model_id": "bd83939c366e4e60929d5d29bf22822a",
       "version_major": 2,
       "version_minor": 0
      },
      "text/plain": [
       "Counting  Base Distribution::   0%|          | 0/2381 [00:00<?, ?it/s]"
      ]
     },
     "metadata": {},
     "output_type": "display_data"
    },
    {
     "data": {
      "application/vnd.jupyter.widget-view+json": {
       "model_id": "fdb48fbbfdbc4cf98cb683df55ef377b",
       "version_major": 2,
       "version_minor": 0
      },
      "text/plain": [
       "Counting  Base Distribution::   0%|          | 0/570 [00:00<?, ?it/s]"
      ]
     },
     "metadata": {},
     "output_type": "display_data"
    },
    {
     "data": {
      "application/vnd.jupyter.widget-view+json": {
       "model_id": "1fe14ba987a24506bc77cbc72fc80a51",
       "version_major": 2,
       "version_minor": 0
      },
      "text/plain": [
       "Counting  Base Distribution::   0%|          | 0/2079 [00:00<?, ?it/s]"
      ]
     },
     "metadata": {},
     "output_type": "display_data"
    },
    {
     "name": "stdout",
     "output_type": "stream",
     "text": [
      "Distribution of all bases in training set\n",
      " {'g': 1306260, 'c': 1282733, 'a': 1436966, 't': 1498203, 'n': 682, 'k': 28, 's': 27, 'r': 15, 'y': 26, 'w': 14, 'm': 16, 'v': 2, 'b': 4}\n",
      "Distribution of donor site bases in training  set\n",
      " {'g': 8460, 't': 4425, 'a': 4999, 'c': 1164}\n",
      "Distribution of all bases in testing set\n",
      " {'c': 689433, 't': 762900, 'g': 702343, 'a': 736600, 'n': 862, 'b': 1, 'r': 5, 'y': 3, 'k': 1, 's': 1}\n",
      "Distribution of donor site  bases in testing set\n",
      " {'g': 7331, 't': 3945, 'a': 4390, 'c': 966}\n"
     ]
    }
   ],
   "source": [
    "from  collections import Counter\n",
    "# def count_each_char(str_list):\n",
    "#     str_list = tqdm(str_list, desc='Counting  Base Distribution:')\n",
    "#     dict1 =  Counter({})\n",
    "#     for seq in str_list:\n",
    "#         dict2 = Counter((str_list))\n",
    "#         dict1 +=dict2\n",
    "#     return dict(dict1)\n",
    "def count_each_char(str_list):\n",
    "    dict = {}\n",
    "    str_list = tqdm(str_list, desc='Counting  Base Distribution:')\n",
    "    for seq in str_list:\n",
    "         for i  in seq:\n",
    "            if i not in dict:\n",
    "                dict[i] = 1\n",
    "            else:\n",
    "                dict[i] += 1\n",
    "    return dict\n",
    "base_dis_1 = count_each_char(train_seq_list)\n",
    "base_dis_2 = count_each_char(train_donor_signal_all_str)\n",
    "base_dis_3 = count_each_char(test_seq_list)\n",
    "base_dis_4 = count_each_char(test_donor_signal_all_str)\n",
    "print(\"Distribution of all bases in training set\\n\",base_dis_1)\n",
    "print(\"Distribution of donor site bases in training  set\\n\",base_dis_2)\n",
    "print(\"Distribution of all bases in testing set\\n\",base_dis_3)\n",
    "print(\"Distribution of donor site  bases in testing set\\n\",base_dis_4)"
   ]
  },
  {
   "cell_type": "markdown",
   "metadata": {},
   "source": [
    "序列编码函数，之后应该有大用！"
   ]
  },
  {
   "cell_type": "code",
   "execution_count": 126,
   "metadata": {},
   "outputs": [
    {
     "data": {
      "application/vnd.jupyter.widget-view+json": {
       "model_id": "78487de0fdf0493599226f15825ae123",
       "version_major": 2,
       "version_minor": 0
      },
      "text/plain": [
       "code_all_signal::   0%|          | 0/19 [00:00<?, ?it/s]"
      ]
     },
     "metadata": {},
     "output_type": "display_data"
    },
    {
     "data": {
      "text/plain": [
       "array([[3, 1, 2, 3, 0, 0, 2, 3],\n",
       "       [2, 2, 2, 3, 0, 0, 2, 0],\n",
       "       [0, 2, 2, 3, 2, 2, 2, 2],\n",
       "       [0, 2, 2, 3, 2, 0, 2, 3],\n",
       "       [1, 2, 2, 3, 0, 0, 1, 3],\n",
       "       [3, 1, 2, 3, 0, 0, 2, 3],\n",
       "       [0, 0, 2, 3, 0, 0, 2, 1],\n",
       "       [3, 2, 2, 3, 2, 2, 2, 3],\n",
       "       [0, 2, 2, 3, 2, 0, 2, 2],\n",
       "       [0, 2, 2, 3, 0, 2, 2, 1],\n",
       "       [3, 2, 2, 3, 2, 0, 2, 3],\n",
       "       [0, 2, 2, 3, 2, 0, 2, 1],\n",
       "       [3, 2, 2, 3, 2, 0, 2, 2],\n",
       "       [3, 0, 2, 3, 0, 0, 2, 3],\n",
       "       [3, 2, 2, 3, 0, 3, 2, 2],\n",
       "       [3, 2, 2, 3, 2, 0, 2, 3],\n",
       "       [0, 3, 2, 3, 2, 0, 2, 3],\n",
       "       [0, 2, 2, 3, 2, 2, 2, 3],\n",
       "       [0, 2, 2, 3, 0, 2, 2, 0]])"
      ]
     },
     "execution_count": 126,
     "metadata": {},
     "output_type": "execute_result"
    }
   ],
   "source": [
    "sub_pattern = re.compile('[^acgt]')\n",
    "pattern = re.compile(\"[^acgt]\")\n",
    "def string_to_array(my_string):\n",
    "    \"\"\"\n",
    "    function to convert a DNA sequence string to a numpy array\n",
    "    converts to lower case, changes any non 'acgt' characters to 'n'\n",
    "    like: ['c' 'a' 't' 'g' 'g']\n",
    "    \"\"\"\n",
    "#     my_string = my_string.lower()\n",
    "    my_string = sub_pattern.sub('z', my_string)\n",
    "    my_array = list(my_string)\n",
    "#     my_array = np.array(list(my_string))\n",
    "    return my_array\n",
    "def getKmers(sequence, size):\n",
    "    return [sequence[x:x+size].lower() for x in range(len(sequence) - size + 1)]\n",
    "\n",
    "def ordinal_encoder(my_array):\n",
    "    \"\"\"\n",
    "    function to encode a DNA sequence string as an ordinal vector\n",
    "    returns a numpy vector with a=0, c=1, g=2, t=3, n=4\n",
    "    like: [1 0 3 2 2 1]\n",
    "    \"\"\"\n",
    "    label_encoder = LabelEncoder()\n",
    "    label_encoder.fit(np.array(['a','c','g','t','z']))\n",
    "    integer_encoded = label_encoder.transform(my_array)\n",
    "    return integer_encoded\n",
    "def one_hot_encoder(my_array):\n",
    "    label_encoder = LabelEncoder()\n",
    "    label_encoder.fit(np.array(['a','c','g','t','z']))\n",
    "    integer_encoded = label_encoder.transform(my_array)\n",
    "    onehot_encoder = OneHotEncoder(sparse=False, dtype=int)\n",
    "    integer_encoded = integer_encoded.reshape(len(integer_encoded), 1)\n",
    "    onehot_encoded = onehot_encoder.fit_transform(integer_encoded)\n",
    "    onehot_encoded = np.delete(onehot_encoded, -1, 1)\n",
    "    return onehot_encoded\n",
    "def clean_noknown(donor_signal):\n",
    "    no_known =pattern.search(nonDonor)\n",
    "    return not no_known\n",
    "            \n",
    "\n",
    "\n",
    "\n",
    "from multiprocessing import Pool\n",
    "\n",
    "\n",
    "char_to_int = {c:i for i, c in enumerate(lower_bases)}\n",
    "def process_signal(donor):\n",
    "    donor = list(donor)\n",
    "    integer_encoded = [char_to_int[char] for char in donor]\n",
    "    return list(integer_encoded)\n",
    "\n",
    "def code_all_signal(signal_all_str):\n",
    "    signal_all_str = tqdm(signal_all_str, desc='code_all_signal:')\n",
    "    signal_array=map(string_to_array,signal_all_str)\n",
    "    code = list(map(ordinal_encoder,signal_array))\n",
    "#     code=np.array(list(signal_array),dtype=np.int32)\n",
    "    return np.array(code)\n",
    "\n",
    "# getKmers(sequence, size)\n",
    "# ordinal_encoder(string_to_array(test_sequence))\n",
    "# one_hot_encoder(string_to_array(test_sequence))\n",
    "\n",
    "# mySeq = 'CATGGCCATNNNNNNNNGAGCGGGGGGGGG'\n",
    "# mySeq2 = 'GATGGCCATCCCCGCCCGAGCGGGGGGGG'\n",
    "# mySeq3 = 'CATGGCCATCCCCGCCCGAGCGGGCGGGG'\n",
    "# integer_encoded = ordinal_encoder(string_to_array(mySeq))\n",
    "# one_hot_matrix = one_hot_encoder(string_to_array(mySeq))\n",
    "# print(string_to_array(mySeq))\n",
    "# print(string_to_array(mySeq).reshape([6,-1]))\n",
    "# print(integer_encoded)\n",
    "# print(one_hot_matrix[0:5])\n",
    "code_all_signal(train_donor_signal_all_str[1:20])"
   ]
  },
  {
   "cell_type": "code",
   "execution_count": 127,
   "metadata": {},
   "outputs": [
    {
     "data": {
      "text/plain": [
       "array([[1, 2, 1, ..., 3, 1, 0],\n",
       "       [0, 3, 1, ..., 1, 1, 3],\n",
       "       [0, 3, 2, ..., 0, 2, 0],\n",
       "       ...,\n",
       "       [2, 0, 3, ..., 2, 3, 1],\n",
       "       [3, 3, 1, ..., 1, 2, 2],\n",
       "       [1, 1, 2, ..., 1, 2, 1]])"
      ]
     },
     "execution_count": 127,
     "metadata": {},
     "output_type": "execute_result"
    },
    {
     "name": "stdout",
     "output_type": "stream",
     "text": [
      "Counter(data)\n",
      " Counter({1: 9})\n",
      "==========\n",
      "np.unique(data)\n",
      " [9]\n",
      "np.unique(data)\n",
      " [1]\n",
      "9\n"
     ]
    }
   ],
   "source": [
    "#numpy 统计数组的值出现次数与np.bincount()详细解释\n",
    "import numpy as np\n",
    "from collections import Counter\n",
    "train_donor_signal_int\n",
    "# data = train_donor_signal_int[0]\n",
    "data = [1,1,1,1,1,1,1,1,1]\n",
    "# print()\n",
    "# 方法一\n",
    "print('Counter(data)\\n',Counter(data)) # 调用Counter函数\n",
    "print('==========')\n",
    " \n",
    "# 方法二\n",
    "print('np.unique(data)\\n',np.unique(data,return_counts=True)[1][0:4]) # unique返回的是已排序数组\n",
    "print('np.unique(data)\\n',np.unique(data))\n",
    "for i in np.unique(data):\n",
    "\tprint(np.sum(data==i))\n",
    "## np.unique(data,return_counts=True) 能直接返回unique的结果，也能返回统计结果\n",
    "## 效果：(array([1.1, 2. , 3. , 4. , 5. ]), array([3, 1, 1, 3, 2], dtype=int64))"
   ]
  },
  {
   "cell_type": "code",
   "execution_count": 128,
   "metadata": {
    "tags": []
   },
   "outputs": [
    {
     "data": {
      "application/vnd.jupyter.widget-view+json": {
       "model_id": "744f9cc0f27f4097a9f2eef5099d929b",
       "version_major": 2,
       "version_minor": 0
      },
      "text/plain": [
       "code_all_signal::   0%|          | 0/2381 [00:00<?, ?it/s]"
      ]
     },
     "metadata": {},
     "output_type": "display_data"
    },
    {
     "data": {
      "application/vnd.jupyter.widget-view+json": {
       "model_id": "7355e3d280ac477aad3602a53e46a8c9",
       "version_major": 2,
       "version_minor": 0
      },
      "text/plain": [
       "Calculating Prior Probability::   0%|          | 0/8 [00:00<?, ?it/s]"
      ]
     },
     "metadata": {},
     "output_type": "display_data"
    },
    {
     "name": "stdout",
     "output_type": "stream",
     "text": [
      "        p(A)      p(C)      p(G)      p(T)\n",
      "-2  0.585468  0.137757  0.133557  0.143217\n",
      "-1  0.094078  0.034019  0.788744  0.083158\n",
      " 0  0.000000  0.000000  1.000000  0.000000\n",
      " 1  0.000000  0.000000  0.000000  1.000000\n",
      " 2  0.490130  0.027299  0.458211  0.024360\n",
      " 3  0.713566  0.077278  0.117598  0.091558\n",
      " 4  0.065099  0.049559  0.838303  0.047039\n",
      " 5  0.151197  0.162957  0.216716  0.469131\n"
     ]
    },
    {
     "data": {
      "image/png": "[encoded data removed]",
      "text/plain": [
       "<Figure size 576x576 with 2 Axes>"
      ]
     },
     "metadata": {
      "needs_background": "light"
     },
     "output_type": "display_data"
    }
   ],
   "source": [
    "\n",
    "def cal_priorProbability(donor_signal) :\n",
    "    \"\"\"\n",
    "    为了优化计算先验概率的性能，导致现在不能输入非atcg的了……\n",
    "    \"\"\"\n",
    "    count= np.zeros((signal_num,4),dtype=np.int32)\n",
    "    cols = tqdm(range(signal_num), desc='Calculating Prior Probability:')\n",
    "    for col in cols:\n",
    "        count[col]=np.bincount(donor_signal[:,col],minlength=4)[0:4]\n",
    "#         count[col]=np.unique(donor_signal[:,col],return_counts=True)[1][0:4]\n",
    "#     print(count)\n",
    "    priors = count/len(donor_signal)\n",
    "    cols.close()\n",
    "    return priors\n",
    "\n",
    "def prior_to_csv(priors,signal,mode):\n",
    "    pri_col_name = [f'p({base})' for base in bases ]\n",
    "    if signal==\"donor\" or signal==\"nonDonor\":\n",
    "        pri_row_name= list(range(-left,right))\n",
    "    elif signal==\"acceptor\":\n",
    "        pri_row_name = list(range(-right+1,left+1))\n",
    "    priorDf= pd.DataFrame(index=pri_row_name,columns=pri_col_name, data=priors)\n",
    "    print(priorDf)  \n",
    "    if signal==\"nonDonor\":\n",
    "        priorDf.to_csv(f'output/prior_probability_(P{mode}).csv')\n",
    "    else:\n",
    "        priorDf.to_csv(f'output/{signal}_prior_probability_(P{mode}).csv')\n",
    "    return priorDf\n",
    "\n",
    "def ShowHeatMap(DataFrame,title=\"HeatMap\",size=(8, 8),color='GnBu'):\n",
    "    \"\"\"\n",
    "    #     ylabels = DataFrame.columns.values.tolist() #保存df的列名为label\n",
    "    #数据的index和columns分别为heatmap的y轴方向和x轴方向标签\n",
    "    # cmap=sns.light_palette(\"#2ecc71\", as_cmap=True)\n",
    "    xticklabels=['三连啊','关注公众号啊','pythonic生物人','收藏啊','点赞啊','老铁三连三连'] , #x轴方向刻度标签开关、赋值，可选“auto”, bool, list-like（传入列表）, or int,\n",
    "            yticklabels=True, #y轴方向刻度标签开关、同x轴\n",
    "    colormap = plt.cm.RdBu,\"YlGnBu\" # 颜色映射\n",
    "    \"\"\"\n",
    "    \n",
    "\n",
    "    f, ax = plt.subplots(figsize=size)\n",
    "    ax.set_title(title,fontsize=15)\n",
    "    with sns.axes_style(\"white\"):\n",
    "        sns.heatmap(DataFrame,\n",
    "                    cmap=color,  \n",
    "                    annot=True, # show num\n",
    "                    fmt='.3g',# num format\n",
    "#                     mask=DataFrame > 0.25,\n",
    "#                     annot_kws={\"weight\": \"bold\"}\n",
    "                    linewidths=.2,\n",
    "                    yticklabels=True,\n",
    "                    xticklabels=True,\n",
    "                   )\n",
    "    \n",
    "    ax.set_ylabel(\"Site\",fontsize=15)\n",
    "    ax.set_xlabel(\"Prosibility\",fontsize=15)\n",
    "    plt.savefig(f\"output/{title}-left{left}-right{right}.png\",dpi=400)\n",
    "\n",
    "# train_donor_signal_all_str = filter(clean_noknown, train_donor_signal_all_str) 本来还想过滤一下非donor的看来没必要\n",
    "train_donor_signal_int=code_all_signal(train_donor_signal_all_str)\n",
    "donor_priors_p=cal_priorProbability(train_donor_signal_int)\n",
    "df_donor_priors_p=prior_to_csv(donor_priors_p,signal=\"donor\",mode=\"+\")\n",
    "# train_acceptor_signal_int=code_all_signal(train_acceptor_signal_all_str)\n",
    "# acceptor_priors_p=cal_priorProbability(train_acceptor_signal_int)\n",
    "# prior_to_csv(acceptor_priors_p,signal=\"acceptor\",mode=\"+\")\n",
    "ShowHeatMap(df_donor_priors_p,title=\"Nucleotide Distribution Probabilities around Donor Sites\")\n"
   ]
  },
  {
   "cell_type": "code",
   "execution_count": 129,
   "metadata": {},
   "outputs": [
    {
     "data": {
      "text/plain": [
       "array([[2, 3, 2, ..., 0, 2, 3],\n",
       "       [3, 1, 2, ..., 0, 2, 3],\n",
       "       [2, 2, 2, ..., 0, 2, 0],\n",
       "       ...,\n",
       "       [1, 0, 2, ..., 0, 2, 3],\n",
       "       [0, 0, 2, ..., 0, 2, 3],\n",
       "       [0, 2, 2, ..., 0, 1, 3]])"
      ]
     },
     "execution_count": 129,
     "metadata": {},
     "output_type": "execute_result"
    },
    {
     "data": {
      "text/plain": [
       "2381"
      ]
     },
     "execution_count": 129,
     "metadata": {},
     "output_type": "execute_result"
    }
   ],
   "source": [
    "train_donor_signal_int\n",
    "len(train_donor_signal_int)"
   ]
  },
  {
   "cell_type": "code",
   "execution_count": 130,
   "metadata": {},
   "outputs": [
    {
     "name": "stdout",
     "output_type": "stream",
     "text": [
      "(7, 16)\n"
     ]
    },
    {
     "data": {
      "application/vnd.jupyter.widget-view+json": {
       "model_id": "aee4655e744643b1af98d98d0c7c0bfe",
       "version_major": 2,
       "version_minor": 0
      },
      "text/plain": [
       "Calculating Conditional Probability::   0%|          | 0/2381 [00:00<?, ?it/s]"
      ]
     },
     "metadata": {},
     "output_type": "display_data"
    },
    {
     "name": "stdout",
     "output_type": "stream",
     "text": [
      "      p(A,A)    p(A,C)    p(A,G)    p(A,T)    p(C,A)    p(C,C)    p(C,G)  \\\n",
      "-1  0.073888  0.018651  0.854376  0.053085  0.189024  0.070122  0.524390   \n",
      " 0  0.000000  0.000000  1.000000  0.000000  0.000000  0.000000  1.000000   \n",
      " 1  0.000000  0.000000  0.000000  0.000000  0.000000  0.000000  0.000000   \n",
      " 2  0.000000  0.000000  0.000000  0.000000  0.000000  0.000000  0.000000   \n",
      " 3  0.646101  0.095973  0.121680  0.136247  0.676923  0.030769  0.107692   \n",
      " 4  0.057681  0.027075  0.882284  0.032961  0.163043  0.222826  0.429348   \n",
      " 5  0.212903  0.135484  0.445161  0.206452  0.296610  0.288136  0.118644   \n",
      "\n",
      "      p(C,T)    p(G,A)    p(G,C)    p(G,G)    p(G,T)    p(T,A)    p(T,C)  \\\n",
      "-1  0.216463  0.147799  0.066038  0.707547  0.078616  0.035191  0.032258   \n",
      " 0  0.000000  0.000000  0.000000  1.000000  0.000000  0.000000  0.000000   \n",
      " 1  0.000000  0.000000  0.000000  0.000000  1.000000  0.000000  0.000000   \n",
      " 2  0.000000  0.000000  0.000000  0.000000  0.000000  0.490130  0.027299   \n",
      " 3  0.184615  0.807516  0.060495  0.100825  0.031164  0.344828  0.068966   \n",
      " 4  0.184783  0.060714  0.050000  0.860714  0.028571  0.045872  0.077982   \n",
      " 5  0.296610  0.138778  0.157315  0.193888  0.510020  0.133929  0.169643   \n",
      "\n",
      "      p(T,G)    p(T,T)  \n",
      "-1  0.850440  0.082111  \n",
      " 0  1.000000  0.000000  \n",
      " 1  0.000000  0.000000  \n",
      " 2  0.458211  0.024360  \n",
      " 3  0.362069  0.224138  \n",
      " 4  0.811927  0.064220  \n",
      " 5  0.410714  0.285714  \n"
     ]
    },
    {
     "data": {
      "image/png": "[encoded data removed]",
      "text/plain": [
       "<Figure size 1008x720 with 2 Axes>"
      ]
     },
     "metadata": {
      "needs_background": "light"
     },
     "output_type": "display_data"
    }
   ],
   "source": [
    "import itertools\n",
    "\n",
    "def joint_count(donor,count):\n",
    "    for j in range(8):\n",
    "        code1,code2 = donor[j:j+2]\n",
    "        pos = 4*code1+code2\n",
    "        count[j][pos] +=1\n",
    "    return count\n",
    "     \n",
    "\n",
    "#计算条件概率\n",
    "\n",
    "def cal_conditionalProbability(donor_signal,priors):\n",
    "    N,M=signal_num-1,16\n",
    "    count= np.zeros((N,M),dtype=np.int32)\n",
    "    conditional = np.zeros((N,M),dtype=np.float32)\n",
    "    print(count.shape)\n",
    "    # count\n",
    "    donor_signal = tqdm(donor_signal, desc='Calculating Conditional Probability:')\n",
    "    for donor in donor_signal:\n",
    "        for j in range(N):\n",
    "            if 4 not in donor[j:j+1]:\n",
    "                count[j][4*donor[j]+donor[j+1]] +=1\n",
    "            else:\n",
    "                pass #跳过\n",
    "    #  joint\n",
    "    joint= count/(len(donor_signal))\n",
    "    ## conditional P(i+1,A|i,C) = P(A,C)/P(C) 第i位是C，第i+1位为A的概率，\n",
    "    for k in itertools.product(range(N),range(4),range(4)):\n",
    "        i = k[0]\n",
    "        j = k[1]\n",
    "        m = k[2]\n",
    "        if priors[i][j]:\n",
    "            conditional[i][4*j+m] = joint[i][4*j+m]/priors[i][j]\n",
    "        else:\n",
    "            pass\n",
    "    return conditional\n",
    "def conditional_to_csv(conditional,signal,mode):\n",
    "    conditional_col_name = [f'p({i},{j})' for i in bases for j in bases ]\n",
    "    conditional_row_name=list(range(-left+1,right))\n",
    "    conditionalDf= pd.DataFrame(index=conditional_row_name,columns=conditional_col_name, data=conditional)\n",
    "    print(conditionalDf) \n",
    "    if signal==\"nonDonor\":\n",
    "        conditionalDf.to_csv(f'output/conditionalDf_probability(P{mode}).csv')\n",
    "    else:\n",
    "        conditionalDf.to_csv(f'output/{signal}_conditionalDf_probability(P{mode}).csv')\n",
    "    return conditionalDf\n",
    "    \n",
    "donor_conditional_p = cal_conditionalProbability(train_donor_signal_int,donor_priors_p)\n",
    "df_donor_conditional_p =conditional_to_csv(donor_conditional_p,signal=\"donor\",mode=\"+\")\n",
    "ShowHeatMap(df_donor_conditional_p,size=(14,10),title=\"Dependence between Adjacent Base Pairs of Donor Sites\")\n",
    "# acceptor_conditional_p=cal_conditionalProbability(train_acceptor_signal_int,acceptor_priors_p)\n",
    "# conditional_to_csv(acceptor_conditional_p,signal=\"acceptor\",mode=\"+\")\n"
   ]
  },
  {
   "cell_type": "code",
   "execution_count": 132,
   "metadata": {},
   "outputs": [
    {
     "data": {
      "application/vnd.jupyter.widget-view+json": {
       "model_id": "adb34357b2a24140bad37941bc365c1c",
       "version_major": 2,
       "version_minor": 0
      },
      "text/plain": [
       "Creating Non Donor Signal Sequence::   0%|          | 0/462 [00:00<?, ?it/s]"
      ]
     },
     "metadata": {},
     "output_type": "display_data"
    },
    {
     "name": "stdout",
     "output_type": "stream",
     "text": [
      "Created Non Donor Signal Sequence successful!\n",
      "4922502\n"
     ]
    }
   ],
   "source": [
    "# create \n",
    "def create_nonDonor(seqs_DNA, donor_locations, acceptor_locations):\n",
    "    '''\n",
    "    # 目前是暴力把所有非signal位点都导出，5510888 \n",
    "    改了下编码格式 怎么变成4922041……不过和老师给的概率就很接近了……\n",
    "    求先验概率倒是变快了很多\n",
    "    为什么这个函数我越优化越慢呢……事实证明， 应该一次性编码，而不是一个序列一次编码\n",
    "    '''\n",
    "    \n",
    "\n",
    "    nonDonors = []\n",
    "    file_num = tqdm(range(len(donor_locations)), desc='Creating Non Donor Signal Sequence:')\n",
    "    for i in file_num:\n",
    "        # 每个文件循环\n",
    "        file_seq_DNA = seqs_DNA[i]\n",
    "        num = len(donor_locations[i])  \n",
    "        length = len(file_seq_DNA)\n",
    "        donor_signals_start=[pos-1-left for pos in donor_locations[i]]\n",
    "        acceptor_signals_start=[pos-right for pos in acceptor_locations[i] ]\n",
    "        signals_start=sorted(donor_signals_start+acceptor_signals_start)\n",
    "        for index in range(length-signal_num+1):\n",
    "            if index not in signals_start:\n",
    "                nonDonor = file_seq_DNA[index:index + signal_num]\n",
    "                no_known =pattern.search(nonDonor)\n",
    "                if no_known:\n",
    "                    break\n",
    "                else:\n",
    "                    yield nonDonor\n",
    "        # 把所有假位点生成之后，还继续生成？\n",
    "#         slice = random.sample(phonyDonor_temp, length)\n",
    "#         nonDonors.extend(slice)\n",
    "    print('Created Non Donor Signal Sequence successful!')\n",
    "#     return nonDonor_temp\n",
    "\n",
    "\n",
    "nonDonor_list=create_nonDonor(train_seq_list, train_donor_positions, train_acceptor_positions)\n",
    "nonDonor_list=list(nonDonor_list)\n",
    "print(len(nonDonor_list))"
   ]
  },
  {
   "cell_type": "markdown",
   "metadata": {},
   "source": [
    "可以看到导出了4592个非donor site siganl 序列（因为剔除了很多未知碱基吧?按道理来说这种方式不应该出现超万个的序列吗？？？？)  \n",
    "好吧，我知道了，原来又是循环位置放错  \n",
    "现在导出了5511802个  \n",
    "现在导出了4922041个"
   ]
  },
  {
   "cell_type": "code",
   "execution_count": 133,
   "metadata": {},
   "outputs": [
    {
     "data": {
      "application/vnd.jupyter.widget-view+json": {
       "model_id": "987256ccd9384c80aae9e0a540461827",
       "version_major": 2,
       "version_minor": 0
      },
      "text/plain": [
       "Counting  Base Distribution::   0%|          | 0/4922502 [00:00<?, ?it/s]"
      ]
     },
     "metadata": {},
     "output_type": "display_data"
    },
    {
     "data": {
      "text/plain": [
       "{'g': 9282216, 'c': 9108016, 'a': 10289522, 't': 10700262}"
      ]
     },
     "execution_count": 133,
     "metadata": {},
     "output_type": "execute_result"
    }
   ],
   "source": [
    "count_each_char(nonDonor_list)"
   ]
  },
  {
   "cell_type": "code",
   "execution_count": 134,
   "metadata": {},
   "outputs": [
    {
     "data": {
      "application/vnd.jupyter.widget-view+json": {
       "model_id": "9bd8467a7ed24c20a8039cc5c0702145",
       "version_major": 2,
       "version_minor": 0
      },
      "text/plain": [
       "code_all_signal::   0%|          | 0/4922502 [00:00<?, ?it/s]"
      ]
     },
     "metadata": {},
     "output_type": "display_data"
    }
   ],
   "source": [
    "nonDonor_array=code_all_signal(nonDonor_list)"
   ]
  },
  {
   "cell_type": "code",
   "execution_count": 135,
   "metadata": {},
   "outputs": [
    {
     "data": {
      "application/vnd.jupyter.widget-view+json": {
       "model_id": "be78a5a8ea394314a3897f203f1d51fb",
       "version_major": 2,
       "version_minor": 0
      },
      "text/plain": [
       "Calculating Prior Probability::   0%|          | 0/8 [00:00<?, ?it/s]"
      ]
     },
     "metadata": {},
     "output_type": "display_data"
    },
    {
     "name": "stdout",
     "output_type": "stream",
     "text": [
      "        p(A)      p(C)      p(G)      p(T)\n",
      "-2  0.261203  0.231192  0.235932  0.271672\n",
      "-1  0.261423  0.231265  0.235634  0.271677\n",
      " 0  0.261394  0.231302  0.235478  0.271826\n",
      " 1  0.261478  0.231130  0.236006  0.271387\n",
      " 2  0.260863  0.231415  0.235824  0.271898\n",
      " 3  0.261201  0.231393  0.235542  0.271864\n",
      " 4  0.261391  0.231328  0.235430  0.271851\n",
      " 5  0.261351  0.231256  0.235824  0.271569\n",
      "(7, 16)\n"
     ]
    },
    {
     "data": {
      "application/vnd.jupyter.widget-view+json": {
       "model_id": "4939acd6912e4da7b327e33c9b66b99d",
       "version_major": 2,
       "version_minor": 0
      },
      "text/plain": [
       "Calculating Conditional Probability::   0%|          | 0/4922502 [00:00<?, ?it/s]"
      ]
     },
     "metadata": {},
     "output_type": "display_data"
    },
    {
     "name": "stdout",
     "output_type": "stream",
     "text": [
      "      p(A,A)    p(A,C)    p(A,G)    p(A,T)    p(C,A)    p(C,C)    p(C,G)  \\\n",
      "-1  0.298665  0.186548  0.279771  0.235017  0.307449  0.293405  0.076083   \n",
      " 0  0.298451  0.186429  0.280218  0.234903  0.307280  0.293454  0.076085   \n",
      " 1  0.298528  0.186215  0.280396  0.234861  0.307413  0.293249  0.076202   \n",
      " 2  0.298420  0.186433  0.280350  0.234797  0.306306  0.293908  0.076243   \n",
      " 3  0.298666  0.186785  0.279268  0.235281  0.307232  0.293535  0.076143   \n",
      " 4  0.298739  0.186591  0.279601  0.235070  0.307288  0.293486  0.076096   \n",
      " 5  0.298492  0.186392  0.280325  0.234791  0.307279  0.293501  0.076127   \n",
      "\n",
      "      p(C,T)    p(G,A)    p(G,C)    p(G,G)    p(G,T)    p(T,A)    p(T,C)  \\\n",
      "-1  0.323062  0.258549  0.230217  0.291919  0.219315  0.188945  0.222288   \n",
      " 0  0.323182  0.258847  0.230534  0.290967  0.219652  0.188884  0.222242   \n",
      " 1  0.323136  0.259041  0.230366  0.292693  0.217900  0.188872  0.222125   \n",
      " 2  0.323544  0.258494  0.230132  0.292048  0.219326  0.188034  0.222649   \n",
      " 3  0.323090  0.258031  0.230311  0.292181  0.219477  0.188828  0.222240   \n",
      " 4  0.323130  0.258592  0.230378  0.291464  0.219566  0.188868  0.222229   \n",
      " 5  0.323093  0.258703  0.230312  0.292215  0.218770  0.188849  0.222244   \n",
      "\n",
      "      p(T,G)    p(T,T)  \n",
      "-1  0.280096  0.308671  \n",
      " 0  0.279982  0.308891  \n",
      " 1  0.280192  0.308810  \n",
      " 2  0.279938  0.309379  \n",
      " 3  0.280133  0.308800  \n",
      " 4  0.280060  0.308843  \n",
      " 5  0.280093  0.308814  \n"
     ]
    }
   ],
   "source": [
    "# signal_to_csv(nonDonor_array,mode=\"nonDonor\") \n",
    "prior_n=cal_priorProbability(nonDonor_array)\n",
    "df_prior_n = prior_to_csv(prior_n,signal=\"nonDonor\",mode=\"-\")\n",
    "conditional_n = cal_conditionalProbability(nonDonor_array,prior_n)\n",
    "df_conditional_n = conditional_to_csv(conditional_n,signal=\"nonDonor\",mode=\"-\")"
   ]
  },
  {
   "cell_type": "code",
   "execution_count": 136,
   "metadata": {},
   "outputs": [
    {
     "data": {
      "image/png": "[encoded data removed]",
      "text/plain": [
       "<Figure size 576x576 with 2 Axes>"
      ]
     },
     "metadata": {
      "needs_background": "light"
     },
     "output_type": "display_data"
    },
    {
     "data": {
      "image/png": "[encoded data removed]",
      "text/plain": [
       "<Figure size 1008x720 with 2 Axes>"
      ]
     },
     "metadata": {
      "needs_background": "light"
     },
     "output_type": "display_data"
    }
   ],
   "source": [
    "\n",
    "ShowHeatMap(df_prior_n,title=\"Nucleotide Distribution Probabilities around non Donor Sites\")\n",
    "ShowHeatMap(df_conditional_n,size=(14,10),title=\"Dependence between Adjacent Base Pairs  of non Donor Sites\")"
   ]
  },
  {
   "cell_type": "markdown",
   "metadata": {},
   "source": [
    "数据处理部分结束！😀😀😀😀😀😀😀😀😀😀😀😀😀"
   ]
  },
  {
   "cell_type": "code",
   "execution_count": 60,
   "metadata": {},
   "outputs": [
    {
     "data": {
      "image/png": "[encoded data removed]",
      "text/plain": [
       "<Figure size 432x72 with 1 Axes>"
      ]
     },
     "metadata": {
      "needs_background": "light"
     },
     "output_type": "display_data"
    },
    {
     "data": {
      "image/png": "[encoded data removed]",
      "text/plain": [
       "<Figure size 432x72 with 1 Axes>"
      ]
     },
     "metadata": {
      "needs_background": "light"
     },
     "output_type": "display_data"
    },
    {
     "data": {
      "image/png": "[encoded data removed]",
      "text/plain": [
       "<Figure size 432x72 with 1 Axes>"
      ]
     },
     "metadata": {
      "needs_background": "light"
     },
     "output_type": "display_data"
    },
    {
     "data": {
      "image/png": "[encoded data removed]",
      "text/plain": [
       "<Figure size 504x72 with 1 Axes>"
      ]
     },
     "metadata": {
      "needs_background": "light"
     },
     "output_type": "display_data"
    },
    {
     "data": {
      "image/png": "[encoded data removed]",
      "text/plain": [
       "<Figure size 504x72 with 1 Axes>"
      ]
     },
     "metadata": {
      "needs_background": "light"
     },
     "output_type": "display_data"
    },
    {
     "data": {
      "image/png": "[encoded data removed]",
      "text/plain": [
       "<Figure size 576x72 with 1 Axes>"
      ]
     },
     "metadata": {
      "needs_background": "light"
     },
     "output_type": "display_data"
    },
    {
     "data": {
      "image/png": "[encoded data removed]",
      "text/plain": [
       "<Figure size 576x72 with 1 Axes>"
      ]
     },
     "metadata": {
      "needs_background": "light"
     },
     "output_type": "display_data"
    }
   ],
   "source": [
    "sns.palplot(sns.color_palette(\"RdPu\"))\n",
    "sns.palplot(sns.color_palette(\"OrRd_r\"))\n",
    "sns.palplot(sns.color_palette(\"BuGn_d\"))\n",
    "\n",
    "sns.palplot(sns.color_palette(\"cubehelix\", 7))\n",
    "sns.palplot(sns.cubehelix_palette(7))\n",
    "sns.palplot(sns.cubehelix_palette(8, start=1.5, rot=-0.75))\n",
    "sns.palplot(sns.cubehelix_palette(8, start=2, rot=0, dark=0, light=0.9, reverse=True))\n"
   ]
  },
  {
   "cell_type": "code",
   "execution_count": 21,
   "metadata": {},
   "outputs": [
    {
     "name": "stdout",
     "output_type": "stream",
     "text": [
      "None\n"
     ]
    }
   ],
   "source": [
    "no_known =re.search(\"[^acgt]\",\"atcg\")\n",
    "if no_known:\n",
    "    print(no_known.group(0))\n",
    "else:\n",
    "    print(no_known)"
   ]
  },
  {
   "cell_type": "code",
   "execution_count": 22,
   "metadata": {},
   "outputs": [
    {
     "name": "stdout",
     "output_type": "stream",
     "text": [
      "1\n"
     ]
    },
    {
     "ename": "UnboundLocalError",
     "evalue": "local variable 'n' referenced before assignment",
     "output_type": "error",
     "traceback": [
      "\u001b[1;31m---------------------------------------------------------------------------\u001b[0m",
      "\u001b[1;31mUnboundLocalError\u001b[0m                         Traceback (most recent call last)",
      "\u001b[1;32m<ipython-input-22-fee1abbe1373>\u001b[0m in \u001b[0;36m<module>\u001b[1;34m\u001b[0m\n\u001b[0;32m      8\u001b[0m     \u001b[0mprint\u001b[0m\u001b[1;33m(\u001b[0m\u001b[0mn\u001b[0m\u001b[1;33m)\u001b[0m\u001b[1;33m\u001b[0m\u001b[1;33m\u001b[0m\u001b[0m\n\u001b[0;32m      9\u001b[0m \u001b[0mprint\u001b[0m\u001b[1;33m(\u001b[0m\u001b[0mn\u001b[0m\u001b[1;33m)\u001b[0m\u001b[1;33m\u001b[0m\u001b[1;33m\u001b[0m\u001b[0m\n\u001b[1;32m---> 10\u001b[1;33m \u001b[0mfun1\u001b[0m\u001b[1;33m(\u001b[0m\u001b[1;33m)\u001b[0m\u001b[1;33m\u001b[0m\u001b[1;33m\u001b[0m\u001b[0m\n\u001b[0m\u001b[0;32m     11\u001b[0m \u001b[0mprint\u001b[0m\u001b[1;33m(\u001b[0m\u001b[0mi\u001b[0m\u001b[1;33m)\u001b[0m\u001b[1;33m\u001b[0m\u001b[1;33m\u001b[0m\u001b[0m\n",
      "\u001b[1;32m<ipython-input-22-fee1abbe1373>\u001b[0m in \u001b[0;36mfun1\u001b[1;34m()\u001b[0m\n\u001b[0;32m      2\u001b[0m \u001b[0mn\u001b[0m \u001b[1;33m=\u001b[0m \u001b[1;36m1\u001b[0m\u001b[1;33m\u001b[0m\u001b[1;33m\u001b[0m\u001b[0m\n\u001b[0;32m      3\u001b[0m \u001b[1;32mdef\u001b[0m \u001b[0mfun1\u001b[0m\u001b[1;33m(\u001b[0m\u001b[1;33m)\u001b[0m\u001b[1;33m:\u001b[0m\u001b[1;33m\u001b[0m\u001b[1;33m\u001b[0m\u001b[0m\n\u001b[1;32m----> 4\u001b[1;33m     \u001b[0mn\u001b[0m \u001b[1;33m+=\u001b[0m\u001b[1;36m3\u001b[0m\u001b[1;33m\u001b[0m\u001b[1;33m\u001b[0m\u001b[0m\n\u001b[0m\u001b[0;32m      5\u001b[0m     \u001b[0mprint\u001b[0m\u001b[1;33m(\u001b[0m\u001b[0mn\u001b[0m\u001b[1;33m+\u001b[0m\u001b[1;36m3\u001b[0m\u001b[1;33m)\u001b[0m\u001b[1;33m\u001b[0m\u001b[1;33m\u001b[0m\u001b[0m\n\u001b[0;32m      6\u001b[0m \u001b[1;31m#     global i\u001b[0m\u001b[1;33m\u001b[0m\u001b[1;33m\u001b[0m\u001b[1;33m\u001b[0m\u001b[0m\n",
      "\u001b[1;31mUnboundLocalError\u001b[0m: local variable 'n' referenced before assignment"
     ]
    }
   ],
   "source": [
    "# python 函数可以引用全局变量，但不能在函数内n+ =3 这样的形式\n",
    "n = 1\n",
    "def fun1():\n",
    "    n +=3\n",
    "    print(n+3)\n",
    "#     global i\n",
    "#     i+=1\n",
    "    print(n)\n",
    "print(n)\n",
    "fun1()\n",
    "print(i)"
   ]
  },
  {
   "cell_type": "code",
   "execution_count": null,
   "metadata": {},
   "outputs": [],
   "source": [
    "n = 1\n",
    "def fun1():\n",
    "    n =3\n",
    "    print(n+3)\n",
    "#     global i\n",
    "#     i+=1\n",
    "    print(n)\n",
    "print(n)\n",
    "fun1()\n",
    "print(n)"
   ]
  },
  {
   "cell_type": "code",
   "execution_count": null,
   "metadata": {},
   "outputs": [],
   "source": []
  }
 ],
 "metadata": {
  "kernelspec": {
   "display_name": "Python 3",
   "language": "python",
   "name": "python3"
  },
  "language_info": {
   "codemirror_mode": {
    "name": "ipython",
    "version": 3
   },
   "file_extension": ".py",
   "mimetype": "text/x-python",
   "name": "python",
   "nbconvert_exporter": "python",
   "pygments_lexer": "ipython3",
   "version": "3.8.5"
  }
 },
 "nbformat": 4,
 "nbformat_minor": 4
}
