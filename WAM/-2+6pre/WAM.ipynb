{
 "cells": [
  {
   "cell_type": "code",
   "execution_count": 4,
   "id": "d2bb321d",
   "metadata": {},
   "outputs": [
    {
     "name": "stdout",
     "output_type": "stream",
     "text": [
      "Last updated: 2021-05-01T17:22:27.366766+08:00\n",
      "\n",
      "Python implementation: CPython\n",
      "Python version       : 3.8.5\n",
      "IPython version      : 7.22.0\n",
      "\n",
      "Compiler    : MSC v.1916 64 bit (AMD64)\n",
      "OS          : Windows\n",
      "Release     : 10\n",
      "Machine     : AMD64\n",
      "Processor   : Intel64 Family 6 Model 142 Stepping 11, GenuineIntel\n",
      "CPU cores   : 8\n",
      "Architecture: 64bit\n",
      "\n",
      "pandas    : 1.2.4\n",
      "numpy     : 1.20.1\n",
      "watermark : 2.2.0\n",
      "seaborn   : 0.11.1\n",
      "re        : 2.2.1\n",
      "matplotlib: 3.3.4\n",
      "\n"
     ]
    }
   ],
   "source": [
    "import os\n",
    "import re \n",
    "# !pip install pandas\n",
    "# !pip install watermark\n",
    "# ! pip install seaborn\n",
    "# !pip install numba\n",
    "# !pip install numba\n",
    "from numba import jit\n",
    "import pandas as pd\n",
    "import numpy as np \n",
    "# pip install Cython \n",
    "\n",
    "import seaborn as sns\n",
    "import watermark\n",
    "import random \n",
    "import matplotlib.pyplot as plt\n",
    "from tqdm.notebook import tqdm\n",
    "import math\n",
    "# from IPython.core.interactiveshell import InteractiveShell\n",
    "\n",
    "# InteractiveShell.ast_node_interactivity = 'all'\n",
    "%load_ext watermark\n",
    "%watermark\n",
    "%watermark --iversion"
   ]
  },
  {
   "cell_type": "code",
   "execution_count": 5,
   "id": "009411b5",
   "metadata": {},
   "outputs": [
    {
     "name": "stdout",
     "output_type": "stream",
     "text": [
      "read donors successful!\n",
      "read donors successful!\n"
     ]
    }
   ],
   "source": [
    "left=2\n",
    "right=6 \n",
    "signal_num = left+right\n",
    "bases=\"ACGT\"\n",
    "lower_bases=\"acgt\"\n",
    "noknown_bases=\"nksrywmbv\"\n",
    "\n",
    "priorP=pd.read_csv(\"output/donor_prior_probability_(P+).csv\",index_col=[0])\n",
    "priorN=pd.read_csv(\"output/prior_probability_(P-).csv\",index_col=[0])\n",
    "conditionalP=pd.read_csv(\"output/donor_conditionalDf_probability(P+).csv\",index_col=[0])\n",
    "conditionalN=pd.read_csv(\"output/conditionalDf_probability(P-).csv\",index_col=[0])\n",
    "all_donor_signal=pd.read_csv(\"output/Train_donor_signal_info.csv\")\n",
    "# priorN\n",
    "conditionalP\n",
    "# conditionalN\n",
    "# all_donor_signal\n",
    "# 读取donor片段\n",
    "def read_donors(filename):\n",
    "    donors = []\n",
    "    f = open(filename)\n",
    "    lines = f.readlines()\n",
    "    for line in lines:\n",
    "        donors.append(line.strip('\\n'))\n",
    "    f.close()\n",
    "    print('read donors successful!')\n",
    "    return donors\n",
    "donor_strs=read_donors(\"output/Train_donor_signal_str.txt\")\n",
    "test_donor_strs=read_donors(\"output/Test_donor_signal_str.txt\")"
   ]
  },
  {
   "cell_type": "code",
   "execution_count": 6,
   "id": "039d9ee1",
   "metadata": {},
   "outputs": [
    {
     "data": {
      "text/plain": [
       "0.1377572448551029"
      ]
     },
     "execution_count": 6,
     "metadata": {},
     "output_type": "execute_result"
    }
   ],
   "source": [
    "priorP.iloc[0]\n",
    "priorP.iloc[0][1]\n",
    "priorP.iloc[0,1]"
   ]
  },
  {
   "cell_type": "code",
   "execution_count": 7,
   "id": "4fd68b4e",
   "metadata": {},
   "outputs": [
    {
     "data": {
      "text/plain": [
       "'tcgtaagt'"
      ]
     },
     "execution_count": 7,
     "metadata": {},
     "output_type": "execute_result"
    }
   ],
   "source": [
    "donor_strs[1]"
   ]
  },
  {
   "cell_type": "code",
   "execution_count": 8,
   "id": "b65e01a5",
   "metadata": {},
   "outputs": [],
   "source": [
    "priorP = np.array(priorP)\n",
    "priorN = np.array(priorN)\n",
    "conditionalP = np.array(conditionalP)\n",
    "conditionalN = np.array(conditionalN)"
   ]
  },
  {
   "cell_type": "code",
   "execution_count": 9,
   "id": "f4d43a3c",
   "metadata": {
    "tags": []
   },
   "outputs": [
    {
     "data": {
      "application/vnd.jupyter.widget-view+json": {
       "model_id": "23d8f85ab6e1434e916cd4798df5fc91",
       "version_major": 2,
       "version_minor": 0
      },
      "text/plain": [
       "Calculating Donor signal score::   0%|          | 0/2381 [00:00<?, ?it/s]"
      ]
     },
     "metadata": {},
     "output_type": "display_data"
    },
    {
     "data": {
      "text/plain": [
       "list"
      ]
     },
     "execution_count": 9,
     "metadata": {},
     "output_type": "execute_result"
    }
   ],
   "source": [
    "def log_c(num,ex_mini=10e-9):\n",
    "    if num == 0:\n",
    "        return np.log(ex_mini)\n",
    "    else:\n",
    "        return np.log(num)\n",
    "\n",
    "def process_donors(donors):\n",
    "    char_to_int = {c:i for i, c in enumerate(lower_bases)}\n",
    "    integer_encoded = [char_to_int[char] for char in donors]\n",
    "    return np.array(integer_encoded)\n",
    "\n",
    "# @jit(nopython=True)\n",
    "# def WAM_formula():\n",
    "    \n",
    "def cal_WAM(seq, priorA=priorP[0], priorB=priorN[0], conditionalA=conditionalP, conditionalB=conditionalN):\n",
    "#     print(seq)\n",
    "    # 计算得分\n",
    "    seq = process_donors(seq)\n",
    "    S = np.log(priorA[seq[0]]) - np.log(priorB[seq[0]])\n",
    "    \n",
    "    for i in range(signal_num-1):\n",
    "            S += log_c(conditionalA[i,seq[i]*4+seq[i+1]]) - log_c(conditionalB[i,seq[i]*4+seq[i+1]])\n",
    "    return S\n",
    "\n",
    "\n",
    "donor_strs = tqdm(donor_strs, desc='Calculating Donor signal score:')\n",
    "scores=list(map(cal_WAM,donor_strs))\n",
    "len(scores)\n",
    "type(scores)\n",
    "# scores"
   ]
  },
  {
   "cell_type": "code",
   "execution_count": 10,
   "id": "d24c6ee9-511e-4cb7-b718-8081826da2fd",
   "metadata": {},
   "outputs": [
    {
     "name": "stdout",
     "output_type": "stream",
     "text": [
      "count    2381.000000\n",
      "mean        5.678813\n",
      "std         1.485804\n",
      "min        -2.217162\n",
      "25%         4.663160\n",
      "50%         5.603827\n",
      "75%         6.857882\n",
      "max         8.407037\n",
      "dtype: float64\n"
     ]
    }
   ],
   "source": [
    "s = pd.Series(scores)\n",
    "print(s.describe())"
   ]
  },
  {
   "cell_type": "code",
   "execution_count": 11,
   "id": "eb31fe8e",
   "metadata": {},
   "outputs": [],
   "source": [
    "# sns.set()\n",
    "# ax = sns.distplot(scores)\n",
    "# distplot不能用了。"
   ]
  },
  {
   "cell_type": "code",
   "execution_count": 12,
   "id": "ceb9616d",
   "metadata": {},
   "outputs": [
    {
     "data": {
      "image/png": "[encoded data removed]",
      "text/plain": [
       "<Figure size 432x288 with 2 Axes>"
      ]
     },
     "metadata": {
      "needs_background": "light"
     },
     "output_type": "display_data"
    }
   ],
   "source": [
    "ax = sns.kdeplot(y=scores,shade=True,color=\"g\",bw_adjust=1,cut=3)\n",
    "ax.set_xlabel(\"Density\");\n",
    "ax.set_ylabel(\"Score\");\n",
    "ax2 = plt.twiny()\n",
    "ax2 = sns.histplot(y=scores,ax=ax2,color=\"g\")\n",
    "ax2.set_title('Distribution Probability')\n",
    "ax2.set(xlabel='Count')\n",
    "ax2.set_yticks(np.linspace(-4,10,15))\n",
    "plt.show();\n",
    "fig = ax.get_figure()\n",
    "fig.savefig('output/Distribution_Probability_x-left{left}-right{right}.png',dpi = 400) #路径+文件名\n"
   ]
  },
  {
   "cell_type": "code",
   "execution_count": 13,
   "id": "feb3b2fd",
   "metadata": {},
   "outputs": [
    {
     "data": {
      "image/png": "[encoded data removed]",
      "text/plain": [
       "<Figure size 432x288 with 2 Axes>"
      ]
     },
     "metadata": {
      "needs_background": "light"
     },
     "output_type": "display_data"
    }
   ],
   "source": [
    "ax1 = sns.kdeplot(scores,shade=True,color=\"g\",bw_adjust=1,cut=3)\n",
    "ax1.set_ylabel('Density')\n",
    "ax1.set_xlabel(\"Score\")\n",
    "ax2 = plt.twinx()\n",
    "ax2 = sns.histplot(scores,ax=ax2,color=\"g\")\n",
    "ax2.set_title('Distribution Probability')\n",
    "ax2.set(ylabel='Count', xlabel='Number of Flavors Purchased')\n",
    "ax2.set_xticks(np.linspace(-4,10,15))\n",
    "plt.show();\n",
    "fig = ax1.get_figure()\n",
    "fig.savefig('output/Distribution_Probability_y-left{left}-right{right}.png',dpi = 400) #路径+文件名"
   ]
  },
  {
   "cell_type": "markdown",
   "id": "f884916a",
   "metadata": {},
   "source": [
    "考虑到最后一个外显子没有donor site后，分值明显高了很多\n",
    "下一步目标\n",
    "- 设定阈值分布，然后统计不同阈值的效果，sp，sn曲线？\n",
    "- 如果确定输出的那个值会是donor site呢\n",
    "走起！"
   ]
  },
  {
   "cell_type": "code",
   "execution_count": 14,
   "id": "f0d77149",
   "metadata": {},
   "outputs": [
    {
     "name": "stdout",
     "output_type": "stream",
     "text": [
      "<class 'pandas.core.frame.DataFrame'>\n",
      "RangeIndex: 570 entries, 0 to 569\n",
      "Data columns (total 10 columns):\n",
      " #   Column            Non-Null Count  Dtype \n",
      "---  ------            --------------  ----- \n",
      " 0   Path              570 non-null    object\n",
      " 1   Locus             570 non-null    object\n",
      " 2   Length            570 non-null    int64 \n",
      " 3   Exon Num          570 non-null    int64 \n",
      " 4   Exon Location     570 non-null    object\n",
      " 5   Donor Site        570 non-null    object\n",
      " 6   Acceptor Site     570 non-null    object\n",
      " 7   Donor signals     570 non-null    object\n",
      " 8   Acceptor signals  570 non-null    object\n",
      " 9   Seq               570 non-null    object\n",
      "dtypes: int64(2), object(8)\n",
      "memory usage: 44.7+ KB\n"
     ]
    }
   ],
   "source": [
    "testdf=pd.read_csv(\"output/Test_set_info.csv\")\n",
    "testdf.info()"
   ]
  },
  {
   "cell_type": "code",
   "execution_count": 15,
   "id": "9bbc7f1c-c574-4a15-ab11-bdd3c3c9c9c6",
   "metadata": {},
   "outputs": [
    {
     "data": {
      "text/html": [
       "<div>\n",
       "<style scoped>\n",
       "    .dataframe tbody tr th:only-of-type {\n",
       "        vertical-align: middle;\n",
       "    }\n",
       "\n",
       "    .dataframe tbody tr th {\n",
       "        vertical-align: top;\n",
       "    }\n",
       "\n",
       "    .dataframe thead th {\n",
       "        text-align: right;\n",
       "    }\n",
       "</style>\n",
       "<table border=\"1\" class=\"dataframe\">\n",
       "  <thead>\n",
       "    <tr style=\"text-align: right;\">\n",
       "      <th></th>\n",
       "      <th>Path</th>\n",
       "      <th>Locus</th>\n",
       "      <th>Length</th>\n",
       "      <th>Exon Num</th>\n",
       "      <th>Exon Location</th>\n",
       "      <th>Donor Site</th>\n",
       "      <th>Acceptor Site</th>\n",
       "      <th>Donor signals</th>\n",
       "      <th>Acceptor signals</th>\n",
       "      <th>Seq</th>\n",
       "    </tr>\n",
       "  </thead>\n",
       "  <tbody>\n",
       "    <tr>\n",
       "      <th>0</th>\n",
       "      <td>Testing Set/ACU08131.TXT</td>\n",
       "      <td>ACU08131</td>\n",
       "      <td>5392</td>\n",
       "      <td>6</td>\n",
       "      <td>[('521', '641'), ('1066', '1362'), ('1860', '2...</td>\n",
       "      <td>[642, 1363, 2029, 2803, 3798]</td>\n",
       "      <td>[1065, 1859, 2636, 3557, 4130]</td>\n",
       "      <td>['gggtgagc', 'tggtaaga', 'aggtgagt', 'cggtaggt...</td>\n",
       "      <td>['tggcaggc', 'ccataggt', 'ctctaggt', 'acacaggt...</td>\n",
       "      <td>ctgggctaaaaggtcccttagcctatttagaaaaatgggccattag...</td>\n",
       "    </tr>\n",
       "    <tr>\n",
       "      <th>1</th>\n",
       "      <td>Testing Set/AGGGLINE.TXT</td>\n",
       "      <td>AGGGLINE</td>\n",
       "      <td>7360</td>\n",
       "      <td>3</td>\n",
       "      <td>[('3066', '3157'), ('3281', '3503'), ('4393', ...</td>\n",
       "      <td>[3158, 3504]</td>\n",
       "      <td>[3280, 4392]</td>\n",
       "      <td>['aggtaggc', 'gggtgagt']</td>\n",
       "      <td>['tcacaggc', 'caacagct']</td>\n",
       "      <td>caaggctgctgtcactagcctgtggggcaaggtgaatgtggaagat...</td>\n",
       "    </tr>\n",
       "    <tr>\n",
       "      <th>2</th>\n",
       "      <td>Testing Set/AGU04852.TXT</td>\n",
       "      <td>AGU04852</td>\n",
       "      <td>10984</td>\n",
       "      <td>5</td>\n",
       "      <td>[('3951', '3955'), ('5434', '5516'), ('5810', ...</td>\n",
       "      <td>[3956, 5517, 5912, 6740]</td>\n",
       "      <td>[5433, 5809, 6664, 7636]</td>\n",
       "      <td>['aggtgggt', 'aggtcagt', 'cggtaaga', 'aggtgggt']</td>\n",
       "      <td>['ctgcagtg', 'ttgcagat', 'ttttagga', 'tgacagta']</td>\n",
       "      <td>gaattcaatactccactttccattctgttcaaaggtcacgtatagt...</td>\n",
       "    </tr>\n",
       "    <tr>\n",
       "      <th>3</th>\n",
       "      <td>Testing Set/ALOEGLOBIM.txt</td>\n",
       "      <td>ALOEGLOBIM</td>\n",
       "      <td>1691</td>\n",
       "      <td>3</td>\n",
       "      <td>[('145', '236'), ('360', '582'), ('1392', '152...</td>\n",
       "      <td>[237, 583]</td>\n",
       "      <td>[359, 1391]</td>\n",
       "      <td>['aggtaagc', 'gggtgagt']</td>\n",
       "      <td>['tcataggc', 'taacagct']</td>\n",
       "      <td>ccttgaccaatgactttcaagtaccacggaaaacaggggggcagaa...</td>\n",
       "    </tr>\n",
       "    <tr>\n",
       "      <th>4</th>\n",
       "      <td>Testing Set/ALOEGLOBIN.txt</td>\n",
       "      <td>ALOEGLOBIN</td>\n",
       "      <td>1691</td>\n",
       "      <td>3</td>\n",
       "      <td>[('145', '236'), ('360', '582'), ('1392', '152...</td>\n",
       "      <td>[237, 583]</td>\n",
       "      <td>[359, 1391]</td>\n",
       "      <td>['aggtaagc', 'gggtgagt']</td>\n",
       "      <td>['tcataggc', 'taacagct']</td>\n",
       "      <td>ccttgaccaatgacttttaagtaccacggaaaacaggggggcagaa...</td>\n",
       "    </tr>\n",
       "  </tbody>\n",
       "</table>\n",
       "</div>"
      ],
      "text/plain": [
       "                         Path       Locus  Length  Exon Num  \\\n",
       "0    Testing Set/ACU08131.TXT    ACU08131    5392         6   \n",
       "1    Testing Set/AGGGLINE.TXT    AGGGLINE    7360         3   \n",
       "2    Testing Set/AGU04852.TXT    AGU04852   10984         5   \n",
       "3  Testing Set/ALOEGLOBIM.txt  ALOEGLOBIM    1691         3   \n",
       "4  Testing Set/ALOEGLOBIN.txt  ALOEGLOBIN    1691         3   \n",
       "\n",
       "                                       Exon Location  \\\n",
       "0  [('521', '641'), ('1066', '1362'), ('1860', '2...   \n",
       "1  [('3066', '3157'), ('3281', '3503'), ('4393', ...   \n",
       "2  [('3951', '3955'), ('5434', '5516'), ('5810', ...   \n",
       "3  [('145', '236'), ('360', '582'), ('1392', '152...   \n",
       "4  [('145', '236'), ('360', '582'), ('1392', '152...   \n",
       "\n",
       "                      Donor Site                   Acceptor Site  \\\n",
       "0  [642, 1363, 2029, 2803, 3798]  [1065, 1859, 2636, 3557, 4130]   \n",
       "1                   [3158, 3504]                    [3280, 4392]   \n",
       "2       [3956, 5517, 5912, 6740]        [5433, 5809, 6664, 7636]   \n",
       "3                     [237, 583]                     [359, 1391]   \n",
       "4                     [237, 583]                     [359, 1391]   \n",
       "\n",
       "                                       Donor signals  \\\n",
       "0  ['gggtgagc', 'tggtaaga', 'aggtgagt', 'cggtaggt...   \n",
       "1                           ['aggtaggc', 'gggtgagt']   \n",
       "2   ['aggtgggt', 'aggtcagt', 'cggtaaga', 'aggtgggt']   \n",
       "3                           ['aggtaagc', 'gggtgagt']   \n",
       "4                           ['aggtaagc', 'gggtgagt']   \n",
       "\n",
       "                                    Acceptor signals  \\\n",
       "0  ['tggcaggc', 'ccataggt', 'ctctaggt', 'acacaggt...   \n",
       "1                           ['tcacaggc', 'caacagct']   \n",
       "2   ['ctgcagtg', 'ttgcagat', 'ttttagga', 'tgacagta']   \n",
       "3                           ['tcataggc', 'taacagct']   \n",
       "4                           ['tcataggc', 'taacagct']   \n",
       "\n",
       "                                                 Seq  \n",
       "0  ctgggctaaaaggtcccttagcctatttagaaaaatgggccattag...  \n",
       "1  caaggctgctgtcactagcctgtggggcaaggtgaatgtggaagat...  \n",
       "2  gaattcaatactccactttccattctgttcaaaggtcacgtatagt...  \n",
       "3  ccttgaccaatgactttcaagtaccacggaaaacaggggggcagaa...  \n",
       "4  ccttgaccaatgacttttaagtaccacggaaaacaggggggcagaa...  "
      ]
     },
     "execution_count": 15,
     "metadata": {},
     "output_type": "execute_result"
    }
   ],
   "source": [
    "testdf.head()"
   ]
  },
  {
   "cell_type": "code",
   "execution_count": 16,
   "id": "7868f74f",
   "metadata": {},
   "outputs": [],
   "source": [
    "test_donorSite_strs=testdf.loc[:,\"Donor Site\"] \n",
    "test_donor_list = []\n",
    "for file in test_donorSite_strs:\n",
    "    str_list = re.findall('\\d+',file)\n",
    "    test_donor_list.append([int(pos)for pos in str_list])\n",
    "test_seqLength_list=testdf.loc[:,\"Length\"]\n",
    "test_signal_list=testdf.loc[:,\"Donor signals\"]\n",
    "test_seq_list = testdf.loc[:,\"Seq\"]\n",
    "test_locus_list=testdf.loc[:,\"Locus\"]\n",
    "file_num=len(test_seqLength_list)\n",
    "signal_list = []\n",
    "for file in test_signal_list:\n",
    "    signal_list.append(re.findall('\\'([a-z]+)\\'',file))\n",
    "# type(test_seq_list[0])"
   ]
  },
  {
   "cell_type": "code",
   "execution_count": 1,
   "id": "01ee7247-39ce-4d13-aad5-9d64693a7045",
   "metadata": {},
   "outputs": [
    {
     "ename": "NameError",
     "evalue": "name 'test_donor_list' is not defined",
     "output_type": "error",
     "traceback": [
      "\u001b[1;31m---------------------------------------------------------------------------\u001b[0m",
      "\u001b[1;31mNameError\u001b[0m                                 Traceback (most recent call last)",
      "\u001b[1;32m<ipython-input-1-65fadad4fedd>\u001b[0m in \u001b[0;36m<module>\u001b[1;34m\u001b[0m\n\u001b[1;32m----> 1\u001b[1;33m \u001b[0mtest_donor_list\u001b[0m\u001b[1;33m[\u001b[0m\u001b[1;36m1\u001b[0m\u001b[1;33m]\u001b[0m\u001b[1;33m\u001b[0m\u001b[1;33m\u001b[0m\u001b[0m\n\u001b[0m",
      "\u001b[1;31mNameError\u001b[0m: name 'test_donor_list' is not defined"
     ]
    }
   ],
   "source": [
    "test_donor_list[1]"
   ]
  },
  {
   "cell_type": "code",
   "execution_count": 2,
   "id": "fddf1b59-2d9c-4b93-8e7a-ca5d97b32b37",
   "metadata": {},
   "outputs": [
    {
     "ename": "NameError",
     "evalue": "name 'signal_list' is not defined",
     "output_type": "error",
     "traceback": [
      "\u001b[1;31m---------------------------------------------------------------------------\u001b[0m",
      "\u001b[1;31mNameError\u001b[0m                                 Traceback (most recent call last)",
      "\u001b[1;32m<ipython-input-2-7bc2bcdb27e1>\u001b[0m in \u001b[0;36m<module>\u001b[1;34m\u001b[0m\n\u001b[1;32m----> 1\u001b[1;33m \u001b[0msignal_list\u001b[0m\u001b[1;33m[\u001b[0m\u001b[1;36m1\u001b[0m\u001b[1;33m:\u001b[0m\u001b[1;36m3\u001b[0m\u001b[1;33m:\u001b[0m\u001b[1;36m4\u001b[0m\u001b[1;33m]\u001b[0m\u001b[1;33m\u001b[0m\u001b[1;33m\u001b[0m\u001b[0m\n\u001b[0m",
      "\u001b[1;31mNameError\u001b[0m: name 'signal_list' is not defined"
     ]
    }
   ],
   "source": [
    "signal_list[1:3:4]"
   ]
  },
  {
   "cell_type": "code",
   "execution_count": 3,
   "id": "1357869e",
   "metadata": {},
   "outputs": [
    {
     "ename": "NameError",
     "evalue": "name 'cal_WAM' is not defined",
     "output_type": "error",
     "traceback": [
      "\u001b[1;31m---------------------------------------------------------------------------\u001b[0m",
      "\u001b[1;31mNameError\u001b[0m                                 Traceback (most recent call last)",
      "\u001b[1;32m<ipython-input-3-9a59b04444d0>\u001b[0m in \u001b[0;36m<module>\u001b[1;34m\u001b[0m\n\u001b[1;32m----> 1\u001b[1;33m \u001b[0mlist\u001b[0m\u001b[1;33m(\u001b[0m\u001b[0mmap\u001b[0m\u001b[1;33m(\u001b[0m\u001b[0mcal_WAM\u001b[0m\u001b[1;33m,\u001b[0m\u001b[0msignal_list\u001b[0m\u001b[1;33m[\u001b[0m\u001b[1;36m1\u001b[0m\u001b[1;33m]\u001b[0m\u001b[1;33m)\u001b[0m\u001b[1;33m)\u001b[0m\u001b[1;33m\u001b[0m\u001b[1;33m\u001b[0m\u001b[0m\n\u001b[0m",
      "\u001b[1;31mNameError\u001b[0m: name 'cal_WAM' is not defined"
     ]
    }
   ],
   "source": [
    "\n",
    "list(map(cal_WAM,signal_list[1]))\n"
   ]
  },
  {
   "cell_type": "code",
   "execution_count": 24,
   "id": "ae374c1e-7248-401f-acd3-1468bf32a079",
   "metadata": {},
   "outputs": [
    {
     "data": {
      "text/plain": [
       "['ggggtgagc', 'gtggtaaga', 'taggtgagt', 'gcggtaggt', 'caggtaatt']"
      ]
     },
     "execution_count": 24,
     "metadata": {},
     "output_type": "execute_result"
    }
   ],
   "source": [
    "re.findall('\\'([a-z]+)\\'',\"['ggggtgagc', 'gtggtaaga', 'taggtgagt', 'gcggtaggt', 'caggtaatt']\")"
   ]
  },
  {
   "cell_type": "code",
   "execution_count": 18,
   "id": "2dad1bc7",
   "metadata": {
    "scrolled": true,
    "tags": []
   },
   "outputs": [
    {
     "data": {
      "application/vnd.jupyter.widget-view+json": {
       "model_id": "466cbfd884394d58b620b858badceb7f",
       "version_major": 2,
       "version_minor": 0
      },
      "text/plain": [
       "Threshold Picking::   0%|          | 0/29 [00:00<?, ?it/s]"
      ]
     },
     "metadata": {},
     "output_type": "display_data"
    },
    {
     "data": {
      "application/vnd.jupyter.widget-view+json": {
       "model_id": "33e47f91256541f38b3ec0938375c76d",
       "version_major": 2,
       "version_minor": 0
      },
      "text/plain": [
       "Predicting::   0%|          | 0/570 [00:00<?, ?it/s]"
      ]
     },
     "metadata": {},
     "output_type": "display_data"
    },
    {
     "name": "stdout",
     "output_type": "stream",
     "text": [
      "When threshold is -4.0,Sn is: 1.000,Precision is: 0.014,Sp is 0.949,FPR is 0.051\n"
     ]
    },
    {
     "data": {
      "application/vnd.jupyter.widget-view+json": {
       "model_id": "b7fd784ad8964e19ad6df9bfa55a75cb",
       "version_major": 2,
       "version_minor": 0
      },
      "text/plain": [
       "Predicting::   0%|          | 0/570 [00:00<?, ?it/s]"
      ]
     },
     "metadata": {},
     "output_type": "display_data"
    },
    {
     "name": "stdout",
     "output_type": "stream",
     "text": [
      "When threshold is -3.5,Sn is: 1.000,Precision is: 0.014,Sp is 0.950,FPR is 0.050\n"
     ]
    },
    {
     "data": {
      "application/vnd.jupyter.widget-view+json": {
       "model_id": "d71056f37be042c7ba44e4cfa0e77661",
       "version_major": 2,
       "version_minor": 0
      },
      "text/plain": [
       "Predicting::   0%|          | 0/570 [00:00<?, ?it/s]"
      ]
     },
     "metadata": {},
     "output_type": "display_data"
    },
    {
     "name": "stdout",
     "output_type": "stream",
     "text": [
      "When threshold is -3.0,Sn is: 1.000,Precision is: 0.015,Sp is 0.952,FPR is 0.048\n"
     ]
    },
    {
     "data": {
      "application/vnd.jupyter.widget-view+json": {
       "model_id": "2a54693f0d8342d080549783c86a1b20",
       "version_major": 2,
       "version_minor": 0
      },
      "text/plain": [
       "Predicting::   0%|          | 0/570 [00:00<?, ?it/s]"
      ]
     },
     "metadata": {},
     "output_type": "display_data"
    },
    {
     "name": "stdout",
     "output_type": "stream",
     "text": [
      "When threshold is -2.5,Sn is: 1.000,Precision is: 0.016,Sp is 0.955,FPR is 0.045\n"
     ]
    },
    {
     "data": {
      "application/vnd.jupyter.widget-view+json": {
       "model_id": "21be6b9ebea149989121d94abf0a2c39",
       "version_major": 2,
       "version_minor": 0
      },
      "text/plain": [
       "Predicting::   0%|          | 0/570 [00:00<?, ?it/s]"
      ]
     },
     "metadata": {},
     "output_type": "display_data"
    },
    {
     "name": "stdout",
     "output_type": "stream",
     "text": [
      "When threshold is -2.0,Sn is: 1.000,Precision is: 0.017,Sp is 0.959,FPR is 0.041\n"
     ]
    },
    {
     "data": {
      "application/vnd.jupyter.widget-view+json": {
       "model_id": "5bbc70d9dcb146faa7acf9dee5909a37",
       "version_major": 2,
       "version_minor": 0
      },
      "text/plain": [
       "Predicting::   0%|          | 0/570 [00:00<?, ?it/s]"
      ]
     },
     "metadata": {},
     "output_type": "display_data"
    },
    {
     "name": "stdout",
     "output_type": "stream",
     "text": [
      "When threshold is -1.5,Sn is: 0.999,Precision is: 0.019,Sp is 0.963,FPR is 0.037\n"
     ]
    },
    {
     "data": {
      "application/vnd.jupyter.widget-view+json": {
       "model_id": "d2d03024b7934efaaa5c570c4b699226",
       "version_major": 2,
       "version_minor": 0
      },
      "text/plain": [
       "Predicting::   0%|          | 0/570 [00:00<?, ?it/s]"
      ]
     },
     "metadata": {},
     "output_type": "display_data"
    },
    {
     "name": "stdout",
     "output_type": "stream",
     "text": [
      "When threshold is -1.0,Sn is: 0.999,Precision is: 0.021,Sp is 0.966,FPR is 0.034\n"
     ]
    },
    {
     "data": {
      "application/vnd.jupyter.widget-view+json": {
       "model_id": "8c84b016baad4800ba3c65277d76bb77",
       "version_major": 2,
       "version_minor": 0
      },
      "text/plain": [
       "Predicting::   0%|          | 0/570 [00:00<?, ?it/s]"
      ]
     },
     "metadata": {},
     "output_type": "display_data"
    },
    {
     "name": "stdout",
     "output_type": "stream",
     "text": [
      "When threshold is -0.5,Sn is: 0.999,Precision is: 0.023,Sp is 0.969,FPR is 0.031\n"
     ]
    },
    {
     "data": {
      "application/vnd.jupyter.widget-view+json": {
       "model_id": "f918148242794a8db44b7fb6c43c90d6",
       "version_major": 2,
       "version_minor": 0
      },
      "text/plain": [
       "Predicting::   0%|          | 0/570 [00:00<?, ?it/s]"
      ]
     },
     "metadata": {},
     "output_type": "display_data"
    },
    {
     "name": "stdout",
     "output_type": "stream",
     "text": [
      "When threshold is 0.0,Sn is: 0.999,Precision is: 0.026,Sp is 0.973,FPR is 0.027\n"
     ]
    },
    {
     "data": {
      "application/vnd.jupyter.widget-view+json": {
       "model_id": "c37a53f832964380aa48f37927cbcaad",
       "version_major": 2,
       "version_minor": 0
      },
      "text/plain": [
       "Predicting::   0%|          | 0/570 [00:00<?, ?it/s]"
      ]
     },
     "metadata": {},
     "output_type": "display_data"
    },
    {
     "name": "stdout",
     "output_type": "stream",
     "text": [
      "When threshold is 0.5,Sn is: 0.997,Precision is: 0.031,Sp is 0.977,FPR is 0.023\n"
     ]
    },
    {
     "data": {
      "application/vnd.jupyter.widget-view+json": {
       "model_id": "0bc4dff1c4904db9a3240ca53dc8b23b",
       "version_major": 2,
       "version_minor": 0
      },
      "text/plain": [
       "Predicting::   0%|          | 0/570 [00:00<?, ?it/s]"
      ]
     },
     "metadata": {},
     "output_type": "display_data"
    },
    {
     "name": "stdout",
     "output_type": "stream",
     "text": [
      "When threshold is 1.0,Sn is: 0.996,Precision is: 0.038,Sp is 0.982,FPR is 0.018\n"
     ]
    },
    {
     "data": {
      "application/vnd.jupyter.widget-view+json": {
       "model_id": "45980fd7bce54d749ef611b2f9adc615",
       "version_major": 2,
       "version_minor": 0
      },
      "text/plain": [
       "Predicting::   0%|          | 0/570 [00:00<?, ?it/s]"
      ]
     },
     "metadata": {},
     "output_type": "display_data"
    },
    {
     "name": "stdout",
     "output_type": "stream",
     "text": [
      "When threshold is 1.5,Sn is: 0.993,Precision is: 0.048,Sp is 0.986,FPR is 0.014\n"
     ]
    },
    {
     "data": {
      "application/vnd.jupyter.widget-view+json": {
       "model_id": "59c7a47f4706444583478bfce20ded9a",
       "version_major": 2,
       "version_minor": 0
      },
      "text/plain": [
       "Predicting::   0%|          | 0/570 [00:00<?, ?it/s]"
      ]
     },
     "metadata": {},
     "output_type": "display_data"
    },
    {
     "name": "stdout",
     "output_type": "stream",
     "text": [
      "When threshold is 2.0,Sn is: 0.990,Precision is: 0.065,Sp is 0.990,FPR is 0.010\n"
     ]
    },
    {
     "data": {
      "application/vnd.jupyter.widget-view+json": {
       "model_id": "9e64fca992e4454ea2c9f0ad9c1ffda5",
       "version_major": 2,
       "version_minor": 0
      },
      "text/plain": [
       "Predicting::   0%|          | 0/570 [00:00<?, ?it/s]"
      ]
     },
     "metadata": {},
     "output_type": "display_data"
    },
    {
     "name": "stdout",
     "output_type": "stream",
     "text": [
      "When threshold is 2.5,Sn is: 0.982,Precision is: 0.084,Sp is 0.992,FPR is 0.008\n"
     ]
    },
    {
     "data": {
      "application/vnd.jupyter.widget-view+json": {
       "model_id": "cc8b954060d143299385a1808d105660",
       "version_major": 2,
       "version_minor": 0
      },
      "text/plain": [
       "Predicting::   0%|          | 0/570 [00:00<?, ?it/s]"
      ]
     },
     "metadata": {},
     "output_type": "display_data"
    },
    {
     "name": "stdout",
     "output_type": "stream",
     "text": [
      "When threshold is 3.0,Sn is: 0.964,Precision is: 0.110,Sp is 0.994,FPR is 0.006\n"
     ]
    },
    {
     "data": {
      "application/vnd.jupyter.widget-view+json": {
       "model_id": "1e357366afaa43f4941cee449ee14fcf",
       "version_major": 2,
       "version_minor": 0
      },
      "text/plain": [
       "Predicting::   0%|          | 0/570 [00:00<?, ?it/s]"
      ]
     },
     "metadata": {},
     "output_type": "display_data"
    },
    {
     "name": "stdout",
     "output_type": "stream",
     "text": [
      "When threshold is 3.5,Sn is: 0.932,Precision is: 0.140,Sp is 0.996,FPR is 0.004\n"
     ]
    },
    {
     "data": {
      "application/vnd.jupyter.widget-view+json": {
       "model_id": "d84f618821d2495ca6442d67c31dd05d",
       "version_major": 2,
       "version_minor": 0
      },
      "text/plain": [
       "Predicting::   0%|          | 0/570 [00:00<?, ?it/s]"
      ]
     },
     "metadata": {},
     "output_type": "display_data"
    },
    {
     "name": "stdout",
     "output_type": "stream",
     "text": [
      "When threshold is 4.0,Sn is: 0.894,Precision is: 0.179,Sp is 0.997,FPR is 0.003\n"
     ]
    },
    {
     "data": {
      "application/vnd.jupyter.widget-view+json": {
       "model_id": "8a747a422d7448e29205a86c2462c598",
       "version_major": 2,
       "version_minor": 0
      },
      "text/plain": [
       "Predicting::   0%|          | 0/570 [00:00<?, ?it/s]"
      ]
     },
     "metadata": {},
     "output_type": "display_data"
    },
    {
     "name": "stdout",
     "output_type": "stream",
     "text": [
      "When threshold is 4.5,Sn is: 0.796,Precision is: 0.254,Sp is 0.998,FPR is 0.002\n"
     ]
    },
    {
     "data": {
      "application/vnd.jupyter.widget-view+json": {
       "model_id": "9978a729bfcd47e6a257bfb5fa7c269f",
       "version_major": 2,
       "version_minor": 0
      },
      "text/plain": [
       "Predicting::   0%|          | 0/570 [00:00<?, ?it/s]"
      ]
     },
     "metadata": {},
     "output_type": "display_data"
    },
    {
     "name": "stdout",
     "output_type": "stream",
     "text": [
      "When threshold is 5.0,Sn is: 0.708,Precision is: 0.327,Sp is 0.999,FPR is 0.001\n"
     ]
    },
    {
     "data": {
      "application/vnd.jupyter.widget-view+json": {
       "model_id": "303b8632d5014f53a7d89a3ee39abc82",
       "version_major": 2,
       "version_minor": 0
      },
      "text/plain": [
       "Predicting::   0%|          | 0/570 [00:00<?, ?it/s]"
      ]
     },
     "metadata": {},
     "output_type": "display_data"
    },
    {
     "name": "stdout",
     "output_type": "stream",
     "text": [
      "When threshold is 5.5,Sn is: 0.591,Precision is: 0.410,Sp is 0.999,FPR is 0.001\n"
     ]
    },
    {
     "data": {
      "application/vnd.jupyter.widget-view+json": {
       "model_id": "efa1a6c345184cf2a46aef2da0e51e73",
       "version_major": 2,
       "version_minor": 0
      },
      "text/plain": [
       "Predicting::   0%|          | 0/570 [00:00<?, ?it/s]"
      ]
     },
     "metadata": {},
     "output_type": "display_data"
    },
    {
     "name": "stdout",
     "output_type": "stream",
     "text": [
      "When threshold is 6.0,Sn is: 0.444,Precision is: 0.495,Sp is 1.000,FPR is 0.000\n"
     ]
    },
    {
     "data": {
      "application/vnd.jupyter.widget-view+json": {
       "model_id": "b98846a10bfd450fb0af61363f878d7d",
       "version_major": 2,
       "version_minor": 0
      },
      "text/plain": [
       "Predicting::   0%|          | 0/570 [00:00<?, ?it/s]"
      ]
     },
     "metadata": {},
     "output_type": "display_data"
    },
    {
     "name": "stdout",
     "output_type": "stream",
     "text": [
      "When threshold is 6.5,Sn is: 0.395,Precision is: 0.524,Sp is 1.000,FPR is 0.000\n"
     ]
    },
    {
     "data": {
      "application/vnd.jupyter.widget-view+json": {
       "model_id": "fb073d8855d342618c060ac22195909b",
       "version_major": 2,
       "version_minor": 0
      },
      "text/plain": [
       "Predicting::   0%|          | 0/570 [00:00<?, ?it/s]"
      ]
     },
     "metadata": {},
     "output_type": "display_data"
    },
    {
     "name": "stdout",
     "output_type": "stream",
     "text": [
      "When threshold is 7.0,Sn is: 0.219,Precision is: 0.551,Sp is 1.000,FPR is 0.000\n"
     ]
    },
    {
     "data": {
      "application/vnd.jupyter.widget-view+json": {
       "model_id": "1c03ef1b74324e4aa4407732139f29b1",
       "version_major": 2,
       "version_minor": 0
      },
      "text/plain": [
       "Predicting::   0%|          | 0/570 [00:00<?, ?it/s]"
      ]
     },
     "metadata": {},
     "output_type": "display_data"
    },
    {
     "name": "stdout",
     "output_type": "stream",
     "text": [
      "When threshold is 7.5,Sn is: 0.103,Precision is: 0.682,Sp is 1.000,FPR is 0.000\n"
     ]
    },
    {
     "data": {
      "application/vnd.jupyter.widget-view+json": {
       "model_id": "98a95a04565a463b8d238222395a24d0",
       "version_major": 2,
       "version_minor": 0
      },
      "text/plain": [
       "Predicting::   0%|          | 0/570 [00:00<?, ?it/s]"
      ]
     },
     "metadata": {},
     "output_type": "display_data"
    },
    {
     "name": "stdout",
     "output_type": "stream",
     "text": [
      "When threshold is 8.0,Sn is: 0.068,Precision is: 0.641,Sp is 1.000,FPR is 0.000\n"
     ]
    },
    {
     "data": {
      "application/vnd.jupyter.widget-view+json": {
       "model_id": "7014ec62b9e242e8bd3a9049f31da7df",
       "version_major": 2,
       "version_minor": 0
      },
      "text/plain": [
       "Predicting::   0%|          | 0/570 [00:00<?, ?it/s]"
      ]
     },
     "metadata": {},
     "output_type": "display_data"
    },
    {
     "name": "stdout",
     "output_type": "stream",
     "text": [
      "When threshold is 8.5,Sn is: 0.000,Precision is: None ,Sp is 1.000,FPR is 0.000\n"
     ]
    },
    {
     "data": {
      "application/vnd.jupyter.widget-view+json": {
       "model_id": "cef62530bda84728b950ec8ded951c1d",
       "version_major": 2,
       "version_minor": 0
      },
      "text/plain": [
       "Predicting::   0%|          | 0/570 [00:00<?, ?it/s]"
      ]
     },
     "metadata": {},
     "output_type": "display_data"
    },
    {
     "name": "stdout",
     "output_type": "stream",
     "text": [
      "When threshold is 9.0,Sn is: 0.000,Precision is: None ,Sp is 1.000,FPR is 0.000\n"
     ]
    },
    {
     "data": {
      "application/vnd.jupyter.widget-view+json": {
       "model_id": "11d431e09b06462db1b4986040eacdc9",
       "version_major": 2,
       "version_minor": 0
      },
      "text/plain": [
       "Predicting::   0%|          | 0/570 [00:00<?, ?it/s]"
      ]
     },
     "metadata": {},
     "output_type": "display_data"
    },
    {
     "name": "stdout",
     "output_type": "stream",
     "text": [
      "When threshold is 9.5,Sn is: 0.000,Precision is: None ,Sp is 1.000,FPR is 0.000\n"
     ]
    },
    {
     "data": {
      "application/vnd.jupyter.widget-view+json": {
       "model_id": "0573fcf49e1a4c11a3a7efcb82c1778a",
       "version_major": 2,
       "version_minor": 0
      },
      "text/plain": [
       "Predicting::   0%|          | 0/570 [00:00<?, ?it/s]"
      ]
     },
     "metadata": {},
     "output_type": "display_data"
    },
    {
     "name": "stdout",
     "output_type": "stream",
     "text": [
      "When threshold is 10.0,Sn is: 0.000,Precision is: None ,Sp is 1.000,FPR is 0.000\n"
     ]
    }
   ],
   "source": [
    "Sn_list = []\n",
    "Sp_list = []\n",
    "P_list= []\n",
    "threshold_range = tqdm(np.linspace(-4,10,29), desc='Threshold Picking:')\n",
    "df_all_threshold =pd.DataFrame(columns=[\"Threshold\",\"Predict Sites\",\"Positive Sites\",\\\n",
    "                                \"Negative Sites\",\"Actual Donor Sites\",\"Predict Count\",\"TP\",\"FP\",\"TN\",\"FN\"])\n",
    "TNs =[]\n",
    "TPs =[]\n",
    "FNs =[]\n",
    "FPs =[]\n",
    "pattern = re.compile(\"[^acgt]\")\n",
    "# def predict_file(i):\n",
    "    \n",
    "for threshold in threshold_range:\n",
    "    files_scores = []\n",
    "    files_predict_sites = []\n",
    "    total_count=TP =FP = FN =TN =0\n",
    "    files_negative_sites = []\n",
    "    files_positive_sites = []\n",
    "    TP_counts = []\n",
    "    FP_counts = []\n",
    "    FN_counts = []\n",
    "    TN_counts = []\n",
    "    predict_counts = []\n",
    "    files = tqdm(range(file_num), desc='Predicting:')\n",
    "    for i in files:\n",
    "        TP_count = 0\n",
    "        FP_count = 0\n",
    "        FN_count = 0\n",
    "        predict_count = 0\n",
    "        seq= test_seq_list[i]\n",
    "        seq_length = test_seqLength_list[i]\n",
    "        scores = []\n",
    "        predict_sites = []\n",
    "        positive_sites = []\n",
    "        negative_sites = []\n",
    "        for pos in  range(seq_length-signal_num+1):\n",
    "            signal = seq[pos:pos+signal_num]\n",
    "            no_known =pattern.search(signal)\n",
    "            if no_known:\n",
    "               continue\n",
    "            else:\n",
    "                s=cal_WAM(signal)\n",
    "                predict_count +=1\n",
    "                if s > threshold:\n",
    "                    scores.append(s)\n",
    "                    predict_site= pos+left+1\n",
    "                    predict_sites.append(predict_site)\n",
    "                    if predict_site in test_donor_list[i]:\n",
    "                        TP_count +=1\n",
    "                        positive_sites.append(predict_site)\n",
    "                    else:\n",
    "                        FP_count +=1\n",
    "                        negative_sites.append(predict_site)\n",
    "        TP += TP_count\n",
    "        FP += FP_count\n",
    "        FN_count = len(test_donor_list[i])-TP_count\n",
    "        FN += FN_count\n",
    "        TN_count = predict_count-TP_count-FP_count-FN_count\n",
    "        total_count +=predict_count\n",
    "        files_scores.append(scores)\n",
    "        files_predict_sites.append(predict_sites)\n",
    "        files_positive_sites.append(positive_sites)\n",
    "        files_negative_sites.append(negative_sites)\n",
    "        TP_counts.append(TP_count)\n",
    "        FP_counts.append(FP_count)\n",
    "        FN_counts.append(FN_count)\n",
    "        TN_counts.append(TN_count)\n",
    "        predict_counts.append(predict_count)\n",
    "    df_threshold=pd.DataFrame({\"Threshold\":threshold,\"Locus\":test_locus_list[0:file_num],\"Predict Sites\":files_predict_sites,\\\n",
    "      \"Positive Sites\":files_positive_sites,\"Negative Sites\":files_negative_sites,\"Actual Donor Sites\":test_donor_list[0:file_num],\\\n",
    "                  \"Predict Num\":predict_counts,\"Predict Positive Num\":np.sum([TP_counts,FP_counts], axis=0),\"Predict Negative Num\":np.sum([TN_counts,FN_counts], axis=0),\"TP\":TP_counts,\"FP\":FP_counts,\"TN\":TN_counts,\"FN\":FN_counts})\n",
    "    df_threshold.to_csv(f\"predict/Threshold_{threshold}_file_info.csv\",index=None)\n",
    "    df_all_threshold = pd.concat([df_all_threshold,df_threshold]).reset_index(drop=True)\n",
    "    TN = total_count-TP-FN-FP\n",
    "    TPR = TP/(TP+FN)\n",
    "    TNR = TN / (FP+TN) # 我总算知道为什么sp用的是这个公式，而不是正常的公式了，阈值高于0时，sp会特别大，至少0.9++，所以看不出太大差异\n",
    "    FPR = 1-TNR\n",
    "    try:\n",
    "        P = TP/(TP+FP)\n",
    "        print(f\"When threshold is {threshold:},Sn is: {TPR:.3f},Precision is: {P:.3f},Sp is {TNR:.3f},FPR is {FPR:.3f}\")\n",
    "    except ZeroDivisionError:\n",
    "        P = None\n",
    "        print(f\"When threshold is {threshold:},Sn is: {TPR:.3f},Precision is: None ,Sp is {TNR:.3f},FPR is {FPR:.3f}\") \n",
    "    Sn_list.append(TPR)\n",
    "    Sp_list.append(TNR)\n",
    "    P_list.append(P)\n",
    "    TNs.append(TN)\n",
    "    TPs.append(TP)\n",
    "    FNs.append(FN)\n",
    "    FPs.append(FP)\n",
    "df_threshold.to_csv(\"predict/Threshold_all_file_info.csv\",index=None)\n",
    "df_all_threshold=pd.DataFrame({\"Threshold\":list(threshold_range),\\\n",
    "                  \"TP\":TPs,\"FP\":FPs,\"TN\":TNs,\"FN\":FNs,\"Sn\":Sn_list,\"Sp\":Sp_list,\"Precision\":P_list})\n",
    "\n",
    "df_all_threshold[\"FPR\"] = 1-df_all_threshold[\"Sp\"]\n",
    "df_all_threshold[\"Acc\"] = (df_all_threshold[\"TP\"]+df_all_threshold[\"TN\"])/(df_all_threshold[\"TP\"]+df_all_threshold[\"FP\"]\\df_all_threshold[\"TN\"]+df_all_threshold[\"FN\"])\n",
    "df_all_threshold.to_csv(\"predict/All_Threshold_info.csv\",index=None)"
   ]
  },
  {
   "cell_type": "code",
   "execution_count": 101,
   "id": "8d0e6765-1a48-41d5-9d8c-c9aeaefedd43",
   "metadata": {},
   "outputs": [
    {
     "name": "stdout",
     "output_type": "stream",
     "text": [
      "ctgggaaggtaggctctgg\n",
      "19\n",
      "['ctgggaagg', 'tgggaaggt', 'gggaaggta', 'ggaaggtag', 'gaaggtagg', 'aaggtaggc', 'aggtaggct', 'ggtaggctc', 'gtaggctct', 'taggctctg', 'aggctctgg']\n",
      "['ctgggaagg', 'tgggaaggt', 'gggaaggta', 'ggaaggtag', 'gaaggtagg', 'aaggtaggc', 'aggtaggct', 'ggtaggctc', 'gtaggctct', 'taggctctg', 'aggctctgg']\n",
      "[9]\n",
      "['aaggtaggc']\n"
     ]
    }
   ],
   "source": [
    "# i=1\n",
    "# threshold=-4\n",
    "# TP_count = 0\n",
    "# FP_count = 0\n",
    "# FN_count = 0\n",
    "# predict_count = 0\n",
    "# scores = []\n",
    "# predict_sites = []\n",
    "# positive_sites = []\n",
    "# negative_sites = []\n",
    "# seq = \"CTGGGAAGGTAGGCTCTGG\".lower()\n",
    "# print(seq)\n",
    "# seq_length=len(seq)\n",
    "# print(seq_length)\n",
    "# signals = []\n",
    "# predict_signals = []\n",
    "# for pos in range(seq_length-signal_num+1):\n",
    "#     signal = seq[pos:pos+signal_num]\n",
    "#     no_known =pattern.search(signal)\n",
    "#     if no_known:\n",
    "#         break\n",
    "#     else:\n",
    "#         signals.append(signal)\n",
    "#         s=cal_WAM(signal)\n",
    "#         predict_count +=1\n",
    "#         if s > threshold:\n",
    "#             scores.append(s)\n",
    "#             predict_site= pos+4\n",
    "#             predict_sites.append(predict_site)\n",
    "#             predict_signals.append(signal)\n",
    "            \n",
    "# print(signals)\n",
    "# print(signals)\n",
    "# print(predict_sites)\n",
    "# print(predict_signals)"
   ]
  },
  {
   "cell_type": "code",
   "execution_count": 19,
   "id": "930e1a50-807f-4bd8-b17f-902dd8f38da7",
   "metadata": {},
   "outputs": [
    {
     "data": {
      "text/html": [
       "<div>\n",
       "<style scoped>\n",
       "    .dataframe tbody tr th:only-of-type {\n",
       "        vertical-align: middle;\n",
       "    }\n",
       "\n",
       "    .dataframe tbody tr th {\n",
       "        vertical-align: top;\n",
       "    }\n",
       "\n",
       "    .dataframe thead th {\n",
       "        text-align: right;\n",
       "    }\n",
       "</style>\n",
       "<table border=\"1\" class=\"dataframe\">\n",
       "  <thead>\n",
       "    <tr style=\"text-align: right;\">\n",
       "      <th></th>\n",
       "      <th>Threshold</th>\n",
       "      <th>TP</th>\n",
       "      <th>FP</th>\n",
       "      <th>TN</th>\n",
       "      <th>FN</th>\n",
       "      <th>Sn</th>\n",
       "      <th>Sp</th>\n",
       "      <th>Precision</th>\n",
       "      <th>FPR</th>\n",
       "    </tr>\n",
       "  </thead>\n",
       "  <tbody>\n",
       "    <tr>\n",
       "      <th>0</th>\n",
       "      <td>-4.0</td>\n",
       "      <td>2079</td>\n",
       "      <td>147817</td>\n",
       "      <td>2736500</td>\n",
       "      <td>0</td>\n",
       "      <td>1.000000</td>\n",
       "      <td>0.948751</td>\n",
       "      <td>0.013870</td>\n",
       "      <td>0.051249</td>\n",
       "    </tr>\n",
       "    <tr>\n",
       "      <th>1</th>\n",
       "      <td>-3.5</td>\n",
       "      <td>2079</td>\n",
       "      <td>144079</td>\n",
       "      <td>2740238</td>\n",
       "      <td>0</td>\n",
       "      <td>1.000000</td>\n",
       "      <td>0.950047</td>\n",
       "      <td>0.014224</td>\n",
       "      <td>0.049953</td>\n",
       "    </tr>\n",
       "    <tr>\n",
       "      <th>2</th>\n",
       "      <td>-3.0</td>\n",
       "      <td>2079</td>\n",
       "      <td>137943</td>\n",
       "      <td>2746374</td>\n",
       "      <td>0</td>\n",
       "      <td>1.000000</td>\n",
       "      <td>0.952175</td>\n",
       "      <td>0.014848</td>\n",
       "      <td>0.047825</td>\n",
       "    </tr>\n",
       "    <tr>\n",
       "      <th>3</th>\n",
       "      <td>-2.5</td>\n",
       "      <td>2078</td>\n",
       "      <td>128789</td>\n",
       "      <td>2755528</td>\n",
       "      <td>1</td>\n",
       "      <td>0.999519</td>\n",
       "      <td>0.955349</td>\n",
       "      <td>0.015879</td>\n",
       "      <td>0.044651</td>\n",
       "    </tr>\n",
       "    <tr>\n",
       "      <th>4</th>\n",
       "      <td>-2.0</td>\n",
       "      <td>2078</td>\n",
       "      <td>117933</td>\n",
       "      <td>2766384</td>\n",
       "      <td>1</td>\n",
       "      <td>0.999519</td>\n",
       "      <td>0.959112</td>\n",
       "      <td>0.017315</td>\n",
       "      <td>0.040888</td>\n",
       "    </tr>\n",
       "  </tbody>\n",
       "</table>\n",
       "</div>"
      ],
      "text/plain": [
       "   Threshold    TP      FP       TN  FN        Sn        Sp  Precision  \\\n",
       "0       -4.0  2079  147817  2736500   0  1.000000  0.948751   0.013870   \n",
       "1       -3.5  2079  144079  2740238   0  1.000000  0.950047   0.014224   \n",
       "2       -3.0  2079  137943  2746374   0  1.000000  0.952175   0.014848   \n",
       "3       -2.5  2078  128789  2755528   1  0.999519  0.955349   0.015879   \n",
       "4       -2.0  2078  117933  2766384   1  0.999519  0.959112   0.017315   \n",
       "\n",
       "        FPR  \n",
       "0  0.051249  \n",
       "1  0.049953  \n",
       "2  0.047825  \n",
       "3  0.044651  \n",
       "4  0.040888  "
      ]
     },
     "execution_count": 19,
     "metadata": {},
     "output_type": "execute_result"
    }
   ],
   "source": [
    "df_all_threshold= pd.read_csv(\"predict/All_Threshold_info.csv\")\n",
    "df_all_threshold.head()"
   ]
  },
  {
   "cell_type": "code",
   "execution_count": 20,
   "id": "79c40efc-a2dc-4296-97b1-e73d3f21dd07",
   "metadata": {},
   "outputs": [
    {
     "data": {
      "text/plain": [
       "-31.667484582728992"
      ]
     },
     "execution_count": 20,
     "metadata": {},
     "output_type": "execute_result"
    }
   ],
   "source": [
    "cal_WAM(\"aaggtaggc\")\n",
    "cal_WAM(\"agggtgagt\")"
   ]
  },
  {
   "cell_type": "code",
   "execution_count": 21,
   "id": "5e5a4687",
   "metadata": {},
   "outputs": [],
   "source": [
    "df_all_threshold = df_all_threshold.set_index(\"Threshold\",drop=True)"
   ]
  },
  {
   "cell_type": "code",
   "execution_count": 24,
   "id": "0ca50a67",
   "metadata": {},
   "outputs": [
    {
     "data": {
      "text/plain": [
       "<Figure size 432x288 with 0 Axes>"
      ]
     },
     "metadata": {},
     "output_type": "display_data"
    },
    {
     "data": {
      "image/png": "[encoded data removed]",
      "text/plain": [
       "<Figure size 720x576 with 1 Axes>"
      ]
     },
     "metadata": {},
     "output_type": "display_data"
    }
   ],
   "source": [
    "# plt.plot(list(threshold_range),,label=\"Sn\",color='blue',lw=1.5,)\n",
    "# plt.plot(ldf_all_threshold ist(threshold_range),,label=\"Sp\",color='red',lw=1.5)\n",
    "sns.set_context(\"poster\",font_scale=0.7)\n",
    "# sns.set_style(\"ticks\")\n",
    "sns.despine()\n",
    "f,ax = plt.subplots(figsize=(10,8))\n",
    "sns.set(style=\"darkgrid\") # sns.set(style=\"white\")\n",
    "sns.lineplot(data=[df_all_threshold[\"Sn\"],df_all_threshold[\"Precision\"]],palette=\"tab10\",ax = ax)\n",
    "# ax = sns.lineplot(x=\"Threshold\",y=\"Precision\",data=df_all_threshold,palette=\"tab10\")\n",
    "plt.xticks( np.arange(-4, 10.5,0.5),rotation=45,fontsize=12)\n",
    "ax.set_yticks( np.arange(0, 1.1, 0.1))\n",
    "plt.xlim([-4.3,10.3])\n",
    "ax.grid(True,linestyle = \"-.\",color = 'gray' ,linewidth = '0.5',alpha=0.4)\n",
    "ax.set_ylabel(\"Value\")\n",
    "ax.legend(labels=[\"Sensitivity\",\"Precision\"],fontsize=16)\n",
    "plt.title(\"Sensitivity vs Precision\",fontsize=20)\n",
    "plt.savefig(f\"predict/Sensitivity vs Precision-left{left}-right{right}.png\",dpi=400)"
   ]
  },
  {
   "cell_type": "code",
   "execution_count": 26,
   "id": "ec61c8c2-22cb-4293-8242-e54036200c89",
   "metadata": {},
   "outputs": [
    {
     "data": {
      "text/plain": [
       "<Figure size 432x288 with 0 Axes>"
      ]
     },
     "metadata": {},
     "output_type": "display_data"
    },
    {
     "data": {
      "image/png": "[encoded data removed]",
      "text/plain": [
       "<Figure size 720x576 with 1 Axes>"
      ]
     },
     "metadata": {},
     "output_type": "display_data"
    }
   ],
   "source": [
    "# plt.plot(list(threshold_range),,label=\"Sn\",color='blue',lw=1.5,)\n",
    "# plt.plot(ldf_all_threshold ist(threshold_range),,label=\"Sp\",color='red',lw=1.5)\n",
    "sns.set_context(\"poster\",font_scale=0.7)\n",
    "# sns.set_style(\"ticks\")\n",
    "sns.despine()\n",
    "f,ax = plt.subplots(figsize=(10,8))\n",
    "sns.set(style=\"darkgrid\") # sns.set(style=\"white\")\n",
    "sns.lineplot(data=[df_all_threshold[\"Sn\"],df_all_threshold[\"FPR\"]],palette=\"tab10\",ax = ax)\n",
    "# ax = sns.lineplot(x=\"Threshold\",y=\"Precision\",data=df_all_threshold,palette=\"tab10\")\n",
    "plt.xticks( np.arange(-4, 10.5,0.5),rotation=45,fontsize=12)\n",
    "ax.set_yticks( np.arange(0, 1.1, 0.1))\n",
    "ax.grid(True,linestyle = \"-.\",color = 'gray' ,linewidth = '0.5',alpha=0.4)\n",
    "ax.set_ylabel(\"Value\")\n",
    "ax.legend(labels=[\"Sensitivity\",\"FPR\"],fontsize=16)\n",
    "plt.title(\"Sensitivity VS Precision\",fontsize=20)\n",
    "plt.savefig(f\"predict/Sensitivity VS FPR-left{left}-right{right}.png\",dpi=400)"
   ]
  },
  {
   "cell_type": "code",
   "execution_count": 27,
   "id": "e7cfe71a-82da-406b-9a9a-6233ad40014e",
   "metadata": {},
   "outputs": [],
   "source": [
    "TPR= list(df_all_threshold[\"Sn\"])\n",
    "FPR = list(df_all_threshold[\"FPR\"])"
   ]
  },
  {
   "cell_type": "markdown",
   "id": "a7fc95c8-2b7e-4b82-b295-1ab26c7baab5",
   "metadata": {},
   "source": [
    "阈值1.5的时候，TPR-FPR最大！"
   ]
  },
  {
   "cell_type": "code",
   "execution_count": 28,
   "id": "72cd0b4f-42b2-430a-b719-d8d051502a4a",
   "metadata": {},
   "outputs": [
    {
     "data": {
      "text/plain": [
       "2.0"
      ]
     },
     "execution_count": 28,
     "metadata": {},
     "output_type": "execute_result"
    }
   ],
   "source": [
    "eva=df_all_threshold[\"Sn\"]-df_all_threshold[\"FPR\"]\n",
    "eva.max() # 获取最大值\n",
    "eva.idxmax() # series 获取最大索引"
   ]
  },
  {
   "cell_type": "code",
   "execution_count": 29,
   "id": "3f5fb411-732f-4dbf-ba11-d615c60138b9",
   "metadata": {},
   "outputs": [
    {
     "data": {
      "image/png": "[encoded data removed]",
      "text/plain": [
       "<Figure size 432x288 with 1 Axes>"
      ]
     },
     "metadata": {},
     "output_type": "display_data"
    },
    {
     "data": {
      "text/plain": [
       "<Figure size 432x288 with 0 Axes>"
      ]
     },
     "metadata": {},
     "output_type": "display_data"
    }
   ],
   "source": [
    "from sklearn.metrics import roc_curve,auc\n",
    "#AUC值计算\n",
    "AUC=auc(FPR,TPR)\n",
    "#ROC曲线绘制\n",
    "plt.figure()\n",
    "plt.title('ROC CURVE (AUC={:.2f})'.format(AUC))\n",
    "plt.xlabel('False Positive Rate')\n",
    "plt.ylabel('True Positive Rate')\n",
    "plt.xlim([-0.05,1.0])\n",
    "plt.ylim([0.0,1.05])\n",
    "plt.plot(FPR,TPR,color='g')\n",
    "plt.plot([0, 1], [0, 1], color='m', linestyle='--')\n",
    "plt.show()\n",
    "plt.savefig(\"predict/WAM_ROC-left{left}-right{right}.png\",dpi=400)"
   ]
  },
  {
   "cell_type": "code",
   "execution_count": 87,
   "id": "55eb5034-b0cb-4d02-908b-c20ab5e42dbb",
   "metadata": {},
   "outputs": [
    {
     "name": "stdout",
     "output_type": "stream",
     "text": [
      "0\n",
      "0\n",
      "200\n",
      "[3158, 3504]\n",
      "[]\n",
      "[]\n"
     ]
    }
   ],
   "source": [
    "# i=1\n",
    "# threshold=-4\n",
    "# TP_count = 0\n",
    "# FP_count = 0\n",
    "# FN_count = 0\n",
    "# predict_count = 0\n",
    "# seq= test_seq_list[i][3000:3200]\n",
    "# seq_length = len(seq)\n",
    "# scores = []\n",
    "# predict_sites = []\n",
    "# positive_sites = []\n",
    "# negative_sites = []\n",
    "# for pos in  range(seq_length-signal_num):\n",
    "#     signal = seq[pos:pos+signal_num]\n",
    "#     no_known =pattern.search(signal)\n",
    "#     if no_known:\n",
    "#         break\n",
    "#     else:\n",
    "#         s=cal_WAM(signal)\n",
    "#         predict_count +=1\n",
    "#         print(s)\n",
    "#         if s > threshold:\n",
    "# #             scores.append(s)\n",
    "#             predict_site= pos+4\n",
    "#             predict_sites.append(predict_site)\n",
    "#             if predict_site in test_donor_list[i]:\n",
    "#                 TP_count +=1\n",
    "#                 positive_sites.append(predict_site)\n",
    "#             else:\n",
    "#                 FP_count +=1\n",
    "#                 negative_sites.append(predict_site)\n",
    "# print(TP_count)\n",
    "# print(FP_count)\n",
    "# print(seq_length)\n",
    "# print(test_donor_list[i])\n"
   ]
  },
  {
   "cell_type": "code",
   "execution_count": null,
   "id": "43ba5802-27e4-4c01-89f1-72994334de5d",
   "metadata": {},
   "outputs": [],
   "source": [
    "print()"
   ]
  }
 ],
 "metadata": {
  "kernelspec": {
   "display_name": "Python 3",
   "language": "python",
   "name": "python3"
  },
  "language_info": {
   "codemirror_mode": {
    "name": "ipython",
    "version": 3
   },
   "file_extension": ".py",
   "mimetype": "text/x-python",
   "name": "python",
   "nbconvert_exporter": "python",
   "pygments_lexer": "ipython3",
   "version": "3.8.5"
  }
 },
 "nbformat": 4,
 "nbformat_minor": 5
}
