{
 "cells": [
  {
   "cell_type": "code",
   "execution_count": 13,
   "id": "d2bb321d",
   "metadata": {},
   "outputs": [
    {
     "name": "stdout",
     "output_type": "stream",
     "text": [
      "The watermark extension is already loaded. To reload it, use:\n",
      "  %reload_ext watermark\n",
      "Last updated: 2021-05-04T23:30:21.419754+08:00\n",
      "\n",
      "Python implementation: CPython\n",
      "Python version       : 3.8.5\n",
      "IPython version      : 7.22.0\n",
      "\n",
      "Compiler    : MSC v.1916 64 bit (AMD64)\n",
      "OS          : Windows\n",
      "Release     : 10\n",
      "Machine     : AMD64\n",
      "Processor   : Intel64 Family 6 Model 142 Stepping 11, GenuineIntel\n",
      "CPU cores   : 8\n",
      "Architecture: 64bit\n",
      "\n",
      "watermark : 2.2.0\n",
      "matplotlib: 3.3.4\n",
      "pandas    : 1.2.4\n",
      "re        : 2.2.1\n",
      "numpy     : 1.20.1\n",
      "seaborn   : 0.11.1\n",
      "\n"
     ]
    }
   ],
   "source": [
    "import os\n",
    "import re \n",
    "# !pip install pandas\n",
    "# !pip install watermark\n",
    "# ! pip install seaborn\n",
    "# !pip install numba\n",
    "# !pip install numba\n",
    "from numba import jit\n",
    "import pandas as pd\n",
    "import numpy as np \n",
    "# pip install Cython \n",
    "\n",
    "import seaborn as sns\n",
    "import watermark\n",
    "import random \n",
    "import matplotlib.pyplot as plt\n",
    "from tqdm.notebook import tqdm\n",
    "import math\n",
    "# from IPython.core.interactiveshell import InteractiveShell\n",
    "\n",
    "# InteractiveShell.ast_node_interactivity = 'all'\n",
    "%load_ext watermark\n",
    "%watermark\n",
    "%watermark --iversion"
   ]
  },
  {
   "cell_type": "code",
   "execution_count": 14,
   "id": "009411b5",
   "metadata": {},
   "outputs": [
    {
     "name": "stdout",
     "output_type": "stream",
     "text": [
      "read donors successful!\n",
      "read donors successful!\n",
      "read donors successful!\n"
     ]
    }
   ],
   "source": [
    "left=3\n",
    "right=6 \n",
    "signal_num = left+right\n",
    "bases=\"ACGT\"\n",
    "lower_bases=\"acgt\"\n",
    "noknown_bases=\"nksrywmbv\"\n",
    "\n",
    "priorP=pd.read_csv(\"output/donor_prior_probability_(P+).csv\",index_col=[0])\n",
    "priorN=pd.read_csv(\"output/prior_probability_(P-).csv\",index_col=[0])\n",
    "conditionalP=pd.read_csv(\"output/donor_conditionalDf_probability(P+).csv\",index_col=[0])\n",
    "conditionalN=pd.read_csv(\"output/conditionalDf_probability(P-).csv\",index_col=[0])\n",
    "all_donor_signal=pd.read_csv(\"output/Train_donor_signal_info.csv\")\n",
    "# priorN\n",
    "conditionalP\n",
    "# conditionalN\n",
    "# all_donor_signal\n",
    "# 读取donor片段\n",
    "def read_donors(filename):\n",
    "    donors = []\n",
    "    f = open(filename)\n",
    "    lines = f.readlines()\n",
    "    for line in lines:\n",
    "        donors.append(line.strip('\\n'))\n",
    "    f.close()\n",
    "    print('read donors successful!')\n",
    "    return donors\n",
    "donor_strs=read_donors(\"output/Train_donor_signal_str.txt\")\n",
    "test_donor_strs=read_donors(\"output/Test_donor_signal_str.txt\")\n",
    "test_nondonor_strs=read_donors(\"output/Train_nondonor_signal_str.txt\")"
   ]
  },
  {
   "cell_type": "code",
   "execution_count": 15,
   "id": "039d9ee1",
   "metadata": {},
   "outputs": [
    {
     "data": {
      "text/plain": [
       "0.3637127257454851"
      ]
     },
     "execution_count": 15,
     "metadata": {},
     "output_type": "execute_result"
    }
   ],
   "source": [
    "priorP.iloc[0]\n",
    "priorP.iloc[0][1]\n",
    "priorP.iloc[0,1]"
   ]
  },
  {
   "cell_type": "code",
   "execution_count": 16,
   "id": "4fd68b4e",
   "metadata": {},
   "outputs": [
    {
     "data": {
      "text/plain": [
       "'ttcgtaagt'"
      ]
     },
     "execution_count": 16,
     "metadata": {},
     "output_type": "execute_result"
    }
   ],
   "source": [
    "donor_strs[1]"
   ]
  },
  {
   "cell_type": "code",
   "execution_count": 17,
   "id": "b65e01a5",
   "metadata": {},
   "outputs": [],
   "source": [
    "priorP = np.array(priorP)\n",
    "priorN = np.array(priorN)\n",
    "conditionalP = np.array(conditionalP)\n",
    "conditionalN = np.array(conditionalN)"
   ]
  },
  {
   "cell_type": "code",
   "execution_count": 18,
   "id": "f4d43a3c",
   "metadata": {
    "tags": []
   },
   "outputs": [
    {
     "data": {
      "application/vnd.jupyter.widget-view+json": {
       "model_id": "ae66e74427274cd9854f06679ac301c9",
       "version_major": 2,
       "version_minor": 0
      },
      "text/plain": [
       "Calculating Donor signal score::   0%|          | 0/2381 [00:00<?, ?it/s]"
      ]
     },
     "metadata": {},
     "output_type": "display_data"
    },
    {
     "data": {
      "text/plain": [
       "list"
      ]
     },
     "execution_count": 18,
     "metadata": {},
     "output_type": "execute_result"
    }
   ],
   "source": [
    "def log_c(num,ex_mini=10e-9):\n",
    "    if num == 0:\n",
    "        return np.log(ex_mini)\n",
    "    else:\n",
    "        return np.log(num)\n",
    "\n",
    "def process_donors(donors):\n",
    "    char_to_int = {c:i for i, c in enumerate(lower_bases)}\n",
    "    integer_encoded = [char_to_int[char] for char in donors]\n",
    "    return np.array(integer_encoded)\n",
    "\n",
    "# @jit(nopython=True)\n",
    "# def WAM_formula():\n",
    "    \n",
    "def cal_WAM(seq, priorA=priorP[0], priorB=priorN[0], conditionalA=conditionalP, conditionalB=conditionalN):\n",
    "#     print(seq)\n",
    "    # 计算得分\n",
    "    seq = process_donors(seq)\n",
    "    S = np.log(priorA[seq[0]]) - np.log(priorB[seq[0]])\n",
    "    \n",
    "    for i in range(signal_num-1):\n",
    "            S += log_c(conditionalA[i,seq[i]*4+seq[i+1]]) - log_c(conditionalB[i,seq[i]*4+seq[i+1]])\n",
    "    return S\n",
    "\n",
    "\n",
    "donor_strs = tqdm(donor_strs, desc='Calculating Donor signal score:')\n",
    "scores=list(map(cal_WAM,donor_strs))\n",
    "len(scores)\n",
    "type(scores)\n",
    "# scores"
   ]
  },
  {
   "cell_type": "code",
   "execution_count": 20,
   "id": "d24c6ee9-511e-4cb7-b718-8081826da2fd",
   "metadata": {},
   "outputs": [
    {
     "name": "stdout",
     "output_type": "stream",
     "text": [
      "count    2381.000000\n",
      "mean        5.778167\n",
      "std         1.511147\n",
      "min        -2.048024\n",
      "25%         4.790803\n",
      "50%         5.708973\n",
      "75%         6.988869\n",
      "max         8.844265\n",
      "dtype: float64\n"
     ]
    }
   ],
   "source": [
    "s1 = pd.Series(scores)\n",
    "print(s1.describe())"
   ]
  },
  {
   "cell_type": "code",
   "execution_count": 22,
   "id": "8bb1ef2c-24f8-4a5a-8281-966e7b58b883",
   "metadata": {},
   "outputs": [],
   "source": [
    "s1.describe().to_csv(\"output/donor_score_describe.csv\")"
   ]
  },
  {
   "cell_type": "code",
   "execution_count": 23,
   "id": "5979b360-cf26-46ee-af07-4eb901d95fb2",
   "metadata": {},
   "outputs": [
    {
     "data": {
      "application/vnd.jupyter.widget-view+json": {
       "model_id": "78402ca7c29a479484a4e3035febf0bb",
       "version_major": 2,
       "version_minor": 0
      },
      "text/plain": [
       "Calculating Conditional Probability::   0%|          | 0/4922041 [00:00<?, ?it/s]"
      ]
     },
     "metadata": {},
     "output_type": "display_data"
    }
   ],
   "source": [
    "test_nondonor_strs = tqdm(test_nondonor_strs, desc='Calculating Non scores:')\n",
    "non_scores=list(map(cal_WAM,test_nondonor_strs))"
   ]
  },
  {
   "cell_type": "code",
   "execution_count": 94,
   "id": "66e4cd0e-2680-409c-bc29-86c225bd2c29",
   "metadata": {},
   "outputs": [
    {
     "name": "stdout",
     "output_type": "stream",
     "text": [
      "count    4.922041e+06\n",
      "mean    -4.375146e+01\n",
      "std      1.330738e+01\n",
      "min     -5.865374e+01\n",
      "25%     -5.385907e+01\n",
      "50%     -5.042152e+01\n",
      "75%     -3.609570e+01\n",
      "max      8.844265e+00\n",
      "dtype: float64\n"
     ]
    }
   ],
   "source": [
    "s2 = pd.Series(non_scores)\n",
    "print(s2.describe())\n"
   ]
  },
  {
   "cell_type": "code",
   "execution_count": 95,
   "id": "aa8d7e70-09c6-499b-8e6b-57e0b4bc9b1d",
   "metadata": {},
   "outputs": [],
   "source": [
    "s2.describe().to_csv(\"output/nondonor_score_describe.csv\")"
   ]
  },
  {
   "cell_type": "code",
   "execution_count": 43,
   "id": "eb31fe8e",
   "metadata": {},
   "outputs": [],
   "source": [
    "# sns.set()\n",
    "# ax = sns.distplot(scores)\n",
    "# distplot不能用了。"
   ]
  },
  {
   "cell_type": "code",
   "execution_count": 68,
   "id": "ceb9616d",
   "metadata": {},
   "outputs": [
    {
     "data": {
      "image/png": "[encoded data removed]",
      "text/plain": [
       "<Figure size 432x288 with 2 Axes>"
      ]
     },
     "metadata": {},
     "output_type": "display_data"
    }
   ],
   "source": [
    "ax = sns.kdeplot(y=scores,shade=True,color=\"g\",bw_adjust=1,cut=3)\n",
    "ax.set_xlabel(\"Density\");\n",
    "ax.set_ylabel(\"Score\");\n",
    "ax2 = plt.twiny()\n",
    "ax2 = sns.histplot(y=scores,ax=ax2,color=\"g\")\n",
    "ax2.set_title('Distribution Probability')\n",
    "ax2.set(xlabel='Count')\n",
    "ax2.set_yticks(np.linspace(-4,10,15))\n",
    "plt.show();\n",
    "fig = ax.get_figure()\n",
    "fig.savefig('output/Distribution_Probability_x-left{left}-right{right}.png',dpi = 400) #路径+文件名\n"
   ]
  },
  {
   "cell_type": "code",
   "execution_count": 65,
   "id": "feb3b2fd",
   "metadata": {},
   "outputs": [
    {
     "data": {
      "image/png": "[encoded data removed]",
      "text/plain": [
       "<Figure size 1224x360 with 3 Axes>"
      ]
     },
     "metadata": {},
     "output_type": "display_data"
    }
   ],
   "source": [
    "def draw_distribution(scores,name=\"donor\"):\n",
    "    sns.set(style='darkgrid')\n",
    "    fig,axes = plt.subplots(1,2,figsize=(17,5))\n",
    "    ax1 = sns.kdeplot(scores,shade=True,color=\"g\",bw_adjust=1,cut=3,ax=axes[0])\n",
    "    ax1.set_ylabel('Density')\n",
    "    ax1.set_xlabel(\"Score\")\n",
    "    ax2 = axes[0].twinx()\n",
    "    ax2 = sns.histplot(scores,ax=ax2,color=\"g\",alpha=0.3)\n",
    "    ax2.set_ylabel('Count',rotation=270)\n",
    "    axes[0].set_title('Distribution Probability')\n",
    "\n",
    "\n",
    "    ax3 = sns.kdeplot(scores,shade=True,color=\"g\",bw_adjust=1,cut=3,cumulative=True,ax=axes[1])\n",
    "    ax3.set_ylabel('Percentage')\n",
    "    ax3.set_xlabel(\"Score\")\n",
    "    ax3.set_title('Distribution Probability Cumsumed')\n",
    "    if name == 'donor':\n",
    "        axes[0].set_xticks(np.linspace(-4,10,15))\n",
    "        ax3.set_xticks(np.arange(-4,11,1))\n",
    "        ax3.set_yticks(np.arange(0,1.1,0.1))\n",
    "    else:\n",
    "        pass\n",
    "\n",
    "    fig.savefig(f'output/Distribution_Probability_{name}.png',dpi = 400) #路径+文件名\n",
    "draw_distribution(scores)"
   ]
  },
  {
   "cell_type": "code",
   "execution_count": 66,
   "id": "87a6f58c-fe02-4b34-98e5-d38067967c42",
   "metadata": {},
   "outputs": [
    {
     "data": {
      "image/png": "[encoded data removed]",
      "text/plain": [
       "<Figure size 1224x360 with 3 Axes>"
      ]
     },
     "metadata": {},
     "output_type": "display_data"
    }
   ],
   "source": [
    "draw_distribution(non_scores,name=\"nodonor\")"
   ]
  },
  {
   "cell_type": "markdown",
   "id": "f884916a",
   "metadata": {},
   "source": [
    "考虑到最后一个外显子没有donor site后，分值明显高了很多\n",
    "下一步目标\n",
    "- 设定阈值分布，然后统计不同阈值的效果，sp，sn曲线？\n",
    "- 如果确定输出的那个值会是donor site呢\n",
    "走起！"
   ]
  },
  {
   "cell_type": "code",
   "execution_count": 46,
   "id": "f0d77149",
   "metadata": {},
   "outputs": [
    {
     "name": "stdout",
     "output_type": "stream",
     "text": [
      "<class 'pandas.core.frame.DataFrame'>\n",
      "RangeIndex: 570 entries, 0 to 569\n",
      "Data columns (total 10 columns):\n",
      " #   Column            Non-Null Count  Dtype \n",
      "---  ------            --------------  ----- \n",
      " 0   Path              570 non-null    object\n",
      " 1   Locus             570 non-null    object\n",
      " 2   Length            570 non-null    int64 \n",
      " 3   Exon Num          570 non-null    int64 \n",
      " 4   Exon Location     570 non-null    object\n",
      " 5   Donor Site        570 non-null    object\n",
      " 6   Acceptor Site     570 non-null    object\n",
      " 7   Donor signals     570 non-null    object\n",
      " 8   Acceptor signals  570 non-null    object\n",
      " 9   Seq               570 non-null    object\n",
      "dtypes: int64(2), object(8)\n",
      "memory usage: 44.7+ KB\n"
     ]
    }
   ],
   "source": [
    "testdf=pd.read_csv(\"output/Test_set_info.csv\")\n",
    "testdf.info()"
   ]
  },
  {
   "cell_type": "code",
   "execution_count": 47,
   "id": "9bbc7f1c-c574-4a15-ab11-bdd3c3c9c9c6",
   "metadata": {},
   "outputs": [
    {
     "data": {
      "text/html": [
       "<div>\n",
       "<style scoped>\n",
       "    .dataframe tbody tr th:only-of-type {\n",
       "        vertical-align: middle;\n",
       "    }\n",
       "\n",
       "    .dataframe tbody tr th {\n",
       "        vertical-align: top;\n",
       "    }\n",
       "\n",
       "    .dataframe thead th {\n",
       "        text-align: right;\n",
       "    }\n",
       "</style>\n",
       "<table border=\"1\" class=\"dataframe\">\n",
       "  <thead>\n",
       "    <tr style=\"text-align: right;\">\n",
       "      <th></th>\n",
       "      <th>Path</th>\n",
       "      <th>Locus</th>\n",
       "      <th>Length</th>\n",
       "      <th>Exon Num</th>\n",
       "      <th>Exon Location</th>\n",
       "      <th>Donor Site</th>\n",
       "      <th>Acceptor Site</th>\n",
       "      <th>Donor signals</th>\n",
       "      <th>Acceptor signals</th>\n",
       "      <th>Seq</th>\n",
       "    </tr>\n",
       "  </thead>\n",
       "  <tbody>\n",
       "    <tr>\n",
       "      <th>0</th>\n",
       "      <td>Testing Set/ACU08131.TXT</td>\n",
       "      <td>ACU08131</td>\n",
       "      <td>5392</td>\n",
       "      <td>6</td>\n",
       "      <td>[('521', '641'), ('1066', '1362'), ('1860', '2...</td>\n",
       "      <td>[642, 1363, 2029, 2803, 3798]</td>\n",
       "      <td>[1065, 1859, 2636, 3557, 4130]</td>\n",
       "      <td>['ggggtgagc', 'gtggtaaga', 'taggtgagt', 'gcggt...</td>\n",
       "      <td>['tggcaggcc', 'ccataggta', 'ctctaggta', 'acaca...</td>\n",
       "      <td>ctgggctaaaaggtcccttagcctatttagaaaaatgggccattag...</td>\n",
       "    </tr>\n",
       "    <tr>\n",
       "      <th>1</th>\n",
       "      <td>Testing Set/AGGGLINE.TXT</td>\n",
       "      <td>AGGGLINE</td>\n",
       "      <td>7360</td>\n",
       "      <td>3</td>\n",
       "      <td>[('3066', '3157'), ('3281', '3503'), ('4393', ...</td>\n",
       "      <td>[3158, 3504]</td>\n",
       "      <td>[3280, 4392]</td>\n",
       "      <td>['aaggtaggc', 'agggtgagt']</td>\n",
       "      <td>['tcacaggct', 'caacagctc']</td>\n",
       "      <td>caaggctgctgtcactagcctgtggggcaaggtgaatgtggaagat...</td>\n",
       "    </tr>\n",
       "    <tr>\n",
       "      <th>2</th>\n",
       "      <td>Testing Set/AGU04852.TXT</td>\n",
       "      <td>AGU04852</td>\n",
       "      <td>10984</td>\n",
       "      <td>5</td>\n",
       "      <td>[('3951', '3955'), ('5434', '5516'), ('5810', ...</td>\n",
       "      <td>[3956, 5517, 5912, 6740]</td>\n",
       "      <td>[5433, 5809, 6664, 7636]</td>\n",
       "      <td>['gaggtgggt', 'caggtcagt', 'acggtaaga', 'caggt...</td>\n",
       "      <td>['ctgcagtgc', 'ttgcagatg', 'ttttaggag', 'tgaca...</td>\n",
       "      <td>gaattcaatactccactttccattctgttcaaaggtcacgtatagt...</td>\n",
       "    </tr>\n",
       "    <tr>\n",
       "      <th>3</th>\n",
       "      <td>Testing Set/ALOEGLOBIM.txt</td>\n",
       "      <td>ALOEGLOBIM</td>\n",
       "      <td>1691</td>\n",
       "      <td>3</td>\n",
       "      <td>[('145', '236'), ('360', '582'), ('1392', '152...</td>\n",
       "      <td>[237, 583]</td>\n",
       "      <td>[359, 1391]</td>\n",
       "      <td>['caggtaagc', 'agggtgagt']</td>\n",
       "      <td>['tcataggct', 'taacagctc']</td>\n",
       "      <td>ccttgaccaatgactttcaagtaccacggaaaacaggggggcagaa...</td>\n",
       "    </tr>\n",
       "    <tr>\n",
       "      <th>4</th>\n",
       "      <td>Testing Set/ALOEGLOBIN.txt</td>\n",
       "      <td>ALOEGLOBIN</td>\n",
       "      <td>1691</td>\n",
       "      <td>3</td>\n",
       "      <td>[('145', '236'), ('360', '582'), ('1392', '152...</td>\n",
       "      <td>[237, 583]</td>\n",
       "      <td>[359, 1391]</td>\n",
       "      <td>['caggtaagc', 'agggtgagt']</td>\n",
       "      <td>['tcataggct', 'taacagctc']</td>\n",
       "      <td>ccttgaccaatgacttttaagtaccacggaaaacaggggggcagaa...</td>\n",
       "    </tr>\n",
       "  </tbody>\n",
       "</table>\n",
       "</div>"
      ],
      "text/plain": [
       "                         Path       Locus  Length  Exon Num  \\\n",
       "0    Testing Set/ACU08131.TXT    ACU08131    5392         6   \n",
       "1    Testing Set/AGGGLINE.TXT    AGGGLINE    7360         3   \n",
       "2    Testing Set/AGU04852.TXT    AGU04852   10984         5   \n",
       "3  Testing Set/ALOEGLOBIM.txt  ALOEGLOBIM    1691         3   \n",
       "4  Testing Set/ALOEGLOBIN.txt  ALOEGLOBIN    1691         3   \n",
       "\n",
       "                                       Exon Location  \\\n",
       "0  [('521', '641'), ('1066', '1362'), ('1860', '2...   \n",
       "1  [('3066', '3157'), ('3281', '3503'), ('4393', ...   \n",
       "2  [('3951', '3955'), ('5434', '5516'), ('5810', ...   \n",
       "3  [('145', '236'), ('360', '582'), ('1392', '152...   \n",
       "4  [('145', '236'), ('360', '582'), ('1392', '152...   \n",
       "\n",
       "                      Donor Site                   Acceptor Site  \\\n",
       "0  [642, 1363, 2029, 2803, 3798]  [1065, 1859, 2636, 3557, 4130]   \n",
       "1                   [3158, 3504]                    [3280, 4392]   \n",
       "2       [3956, 5517, 5912, 6740]        [5433, 5809, 6664, 7636]   \n",
       "3                     [237, 583]                     [359, 1391]   \n",
       "4                     [237, 583]                     [359, 1391]   \n",
       "\n",
       "                                       Donor signals  \\\n",
       "0  ['ggggtgagc', 'gtggtaaga', 'taggtgagt', 'gcggt...   \n",
       "1                         ['aaggtaggc', 'agggtgagt']   \n",
       "2  ['gaggtgggt', 'caggtcagt', 'acggtaaga', 'caggt...   \n",
       "3                         ['caggtaagc', 'agggtgagt']   \n",
       "4                         ['caggtaagc', 'agggtgagt']   \n",
       "\n",
       "                                    Acceptor signals  \\\n",
       "0  ['tggcaggcc', 'ccataggta', 'ctctaggta', 'acaca...   \n",
       "1                         ['tcacaggct', 'caacagctc']   \n",
       "2  ['ctgcagtgc', 'ttgcagatg', 'ttttaggag', 'tgaca...   \n",
       "3                         ['tcataggct', 'taacagctc']   \n",
       "4                         ['tcataggct', 'taacagctc']   \n",
       "\n",
       "                                                 Seq  \n",
       "0  ctgggctaaaaggtcccttagcctatttagaaaaatgggccattag...  \n",
       "1  caaggctgctgtcactagcctgtggggcaaggtgaatgtggaagat...  \n",
       "2  gaattcaatactccactttccattctgttcaaaggtcacgtatagt...  \n",
       "3  ccttgaccaatgactttcaagtaccacggaaaacaggggggcagaa...  \n",
       "4  ccttgaccaatgacttttaagtaccacggaaaacaggggggcagaa...  "
      ]
     },
     "execution_count": 47,
     "metadata": {},
     "output_type": "execute_result"
    }
   ],
   "source": [
    "testdf.head()"
   ]
  },
  {
   "cell_type": "code",
   "execution_count": 48,
   "id": "7868f74f",
   "metadata": {},
   "outputs": [],
   "source": [
    "test_donorSite_strs=testdf.loc[:,\"Donor Site\"] \n",
    "test_donor_list = []\n",
    "for file in test_donorSite_strs:\n",
    "    str_list = re.findall('\\d+',file)\n",
    "    test_donor_list.append([int(pos)for pos in str_list])\n",
    "test_seqLength_list=testdf.loc[:,\"Length\"]\n",
    "test_signal_list=testdf.loc[:,\"Donor signals\"]\n",
    "test_seq_list = testdf.loc[:,\"Seq\"]\n",
    "test_locus_list=testdf.loc[:,\"Locus\"]\n",
    "file_num=len(test_seqLength_list)\n",
    "signal_list = []\n",
    "for file in test_signal_list:\n",
    "    signal_list.append(re.findall('\\'([a-z]+)\\'',file))\n",
    "# type(test_seq_list[0])"
   ]
  },
  {
   "cell_type": "code",
   "execution_count": 49,
   "id": "01ee7247-39ce-4d13-aad5-9d64693a7045",
   "metadata": {},
   "outputs": [
    {
     "data": {
      "text/plain": [
       "[3158, 3504]"
      ]
     },
     "execution_count": 49,
     "metadata": {},
     "output_type": "execute_result"
    }
   ],
   "source": [
    "test_donor_list[1]"
   ]
  },
  {
   "cell_type": "code",
   "execution_count": 50,
   "id": "fddf1b59-2d9c-4b93-8e7a-ca5d97b32b37",
   "metadata": {},
   "outputs": [
    {
     "data": {
      "text/plain": [
       "[['aaggtaggc', 'agggtgagt']]"
      ]
     },
     "execution_count": 50,
     "metadata": {},
     "output_type": "execute_result"
    }
   ],
   "source": [
    "signal_list[1:3:4]"
   ]
  },
  {
   "cell_type": "code",
   "execution_count": 51,
   "id": "1357869e",
   "metadata": {},
   "outputs": [
    {
     "data": {
      "text/plain": [
       "[5.65051860294648, 6.8726889762975425]"
      ]
     },
     "execution_count": 51,
     "metadata": {},
     "output_type": "execute_result"
    }
   ],
   "source": [
    "\n",
    "list(map(cal_WAM,signal_list[1]))\n"
   ]
  },
  {
   "cell_type": "code",
   "execution_count": 52,
   "id": "ae374c1e-7248-401f-acd3-1468bf32a079",
   "metadata": {},
   "outputs": [
    {
     "data": {
      "text/plain": [
       "['ggggtgagc', 'gtggtaaga', 'taggtgagt', 'gcggtaggt', 'caggtaatt']"
      ]
     },
     "execution_count": 52,
     "metadata": {},
     "output_type": "execute_result"
    }
   ],
   "source": [
    "re.findall('\\'([a-z]+)\\'',\"['ggggtgagc', 'gtggtaaga', 'taggtgagt', 'gcggtaggt', 'caggtaatt']\")"
   ]
  },
  {
   "cell_type": "code",
   "execution_count": 57,
   "id": "2dad1bc7",
   "metadata": {
    "scrolled": true,
    "tags": []
   },
   "outputs": [
    {
     "data": {
      "application/vnd.jupyter.widget-view+json": {
       "model_id": "d07feaf253704ffc9153085476f31f64",
       "version_major": 2,
       "version_minor": 0
      },
      "text/plain": [
       "Threshold Picking::   0%|          | 0/28 [00:00<?, ?it/s]"
      ]
     },
     "metadata": {},
     "output_type": "display_data"
    },
    {
     "data": {
      "application/vnd.jupyter.widget-view+json": {
       "model_id": "5b8b36c2d4b04d83b70ed0af38969b6b",
       "version_major": 2,
       "version_minor": 0
      },
      "text/plain": [
       "Predicting::   0%|          | 0/570 [00:00<?, ?it/s]"
      ]
     },
     "metadata": {},
     "output_type": "display_data"
    },
    {
     "name": "stdout",
     "output_type": "stream",
     "text": [
      "When threshold is -4.0,Sn is: 1.000,Precision is: 0.014,Sp is 0.949,FPR is 0.051\n"
     ]
    },
    {
     "data": {
      "application/vnd.jupyter.widget-view+json": {
       "model_id": "d808ee69e14a4f299170a7be765000d5",
       "version_major": 2,
       "version_minor": 0
      },
      "text/plain": [
       "Predicting::   0%|          | 0/570 [00:00<?, ?it/s]"
      ]
     },
     "metadata": {},
     "output_type": "display_data"
    },
    {
     "name": "stdout",
     "output_type": "stream",
     "text": [
      "When threshold is -3.5,Sn is: 1.000,Precision is: 0.014,Sp is 0.951,FPR is 0.049\n"
     ]
    },
    {
     "data": {
      "application/vnd.jupyter.widget-view+json": {
       "model_id": "3d3a624e8d1d4909b4cea0178e7b7bcc",
       "version_major": 2,
       "version_minor": 0
      },
      "text/plain": [
       "Predicting::   0%|          | 0/570 [00:00<?, ?it/s]"
      ]
     },
     "metadata": {},
     "output_type": "display_data"
    },
    {
     "name": "stdout",
     "output_type": "stream",
     "text": [
      "When threshold is -3.0,Sn is: 1.000,Precision is: 0.015,Sp is 0.953,FPR is 0.047\n"
     ]
    },
    {
     "data": {
      "application/vnd.jupyter.widget-view+json": {
       "model_id": "de4b65ea671a4994a86a1c23429f532a",
       "version_major": 2,
       "version_minor": 0
      },
      "text/plain": [
       "Predicting::   0%|          | 0/570 [00:00<?, ?it/s]"
      ]
     },
     "metadata": {},
     "output_type": "display_data"
    },
    {
     "name": "stdout",
     "output_type": "stream",
     "text": [
      "When threshold is -2.5,Sn is: 1.000,Precision is: 0.016,Sp is 0.956,FPR is 0.044\n"
     ]
    },
    {
     "data": {
      "application/vnd.jupyter.widget-view+json": {
       "model_id": "72c29afc69db418098b14883abdf861e",
       "version_major": 2,
       "version_minor": 0
      },
      "text/plain": [
       "Predicting::   0%|          | 0/570 [00:00<?, ?it/s]"
      ]
     },
     "metadata": {},
     "output_type": "display_data"
    },
    {
     "name": "stdout",
     "output_type": "stream",
     "text": [
      "When threshold is -2.0,Sn is: 1.000,Precision is: 0.018,Sp is 0.960,FPR is 0.040\n"
     ]
    },
    {
     "data": {
      "application/vnd.jupyter.widget-view+json": {
       "model_id": "01bce10753104fc7bbd82ba6186cf224",
       "version_major": 2,
       "version_minor": 0
      },
      "text/plain": [
       "Predicting::   0%|          | 0/570 [00:00<?, ?it/s]"
      ]
     },
     "metadata": {},
     "output_type": "display_data"
    },
    {
     "name": "stdout",
     "output_type": "stream",
     "text": [
      "When threshold is -1.5,Sn is: 1.000,Precision is: 0.019,Sp is 0.963,FPR is 0.037\n"
     ]
    },
    {
     "data": {
      "application/vnd.jupyter.widget-view+json": {
       "model_id": "0458a502a4d748ff9b5960f3e84ca841",
       "version_major": 2,
       "version_minor": 0
      },
      "text/plain": [
       "Predicting::   0%|          | 0/570 [00:00<?, ?it/s]"
      ]
     },
     "metadata": {},
     "output_type": "display_data"
    },
    {
     "name": "stdout",
     "output_type": "stream",
     "text": [
      "When threshold is -1.0,Sn is: 0.999,Precision is: 0.021,Sp is 0.967,FPR is 0.033\n"
     ]
    },
    {
     "data": {
      "application/vnd.jupyter.widget-view+json": {
       "model_id": "e27c1e2958c24928ac89dd1509d09db2",
       "version_major": 2,
       "version_minor": 0
      },
      "text/plain": [
       "Predicting::   0%|          | 0/570 [00:00<?, ?it/s]"
      ]
     },
     "metadata": {},
     "output_type": "display_data"
    },
    {
     "name": "stdout",
     "output_type": "stream",
     "text": [
      "When threshold is -0.5,Sn is: 0.999,Precision is: 0.024,Sp is 0.970,FPR is 0.030\n"
     ]
    },
    {
     "data": {
      "application/vnd.jupyter.widget-view+json": {
       "model_id": "b634e8e6ddfc47c983e0a8dd3b17632d",
       "version_major": 2,
       "version_minor": 0
      },
      "text/plain": [
       "Predicting::   0%|          | 0/570 [00:00<?, ?it/s]"
      ]
     },
     "metadata": {},
     "output_type": "display_data"
    },
    {
     "name": "stdout",
     "output_type": "stream",
     "text": [
      "When threshold is 0.0,Sn is: 0.999,Precision is: 0.027,Sp is 0.974,FPR is 0.026\n"
     ]
    },
    {
     "data": {
      "application/vnd.jupyter.widget-view+json": {
       "model_id": "98f170cda56d4906aee88219133bf1ca",
       "version_major": 2,
       "version_minor": 0
      },
      "text/plain": [
       "Predicting::   0%|          | 0/570 [00:00<?, ?it/s]"
      ]
     },
     "metadata": {},
     "output_type": "display_data"
    },
    {
     "name": "stdout",
     "output_type": "stream",
     "text": [
      "When threshold is 0.5,Sn is: 0.998,Precision is: 0.032,Sp is 0.978,FPR is 0.022\n"
     ]
    },
    {
     "data": {
      "application/vnd.jupyter.widget-view+json": {
       "model_id": "8e660d8cc7a34735aaba0c9ba9fdfb3a",
       "version_major": 2,
       "version_minor": 0
      },
      "text/plain": [
       "Predicting::   0%|          | 0/570 [00:00<?, ?it/s]"
      ]
     },
     "metadata": {},
     "output_type": "display_data"
    },
    {
     "name": "stdout",
     "output_type": "stream",
     "text": [
      "When threshold is 1.0,Sn is: 0.996,Precision is: 0.039,Sp is 0.982,FPR is 0.018\n"
     ]
    },
    {
     "data": {
      "application/vnd.jupyter.widget-view+json": {
       "model_id": "d3d361753254420da3295312b7854b3d",
       "version_major": 2,
       "version_minor": 0
      },
      "text/plain": [
       "Predicting::   0%|          | 0/570 [00:00<?, ?it/s]"
      ]
     },
     "metadata": {},
     "output_type": "display_data"
    },
    {
     "name": "stdout",
     "output_type": "stream",
     "text": [
      "When threshold is 1.5,Sn is: 0.994,Precision is: 0.049,Sp is 0.986,FPR is 0.014\n"
     ]
    },
    {
     "data": {
      "application/vnd.jupyter.widget-view+json": {
       "model_id": "eafc2118e41d4090885b1ea417bc1ec8",
       "version_major": 2,
       "version_minor": 0
      },
      "text/plain": [
       "Predicting::   0%|          | 0/570 [00:00<?, ?it/s]"
      ]
     },
     "metadata": {},
     "output_type": "display_data"
    },
    {
     "name": "stdout",
     "output_type": "stream",
     "text": [
      "When threshold is 2.0,Sn is: 0.990,Precision is: 0.066,Sp is 0.990,FPR is 0.010\n"
     ]
    },
    {
     "data": {
      "application/vnd.jupyter.widget-view+json": {
       "model_id": "43d6348e51a64146ba93f24763ee7841",
       "version_major": 2,
       "version_minor": 0
      },
      "text/plain": [
       "Predicting::   0%|          | 0/570 [00:00<?, ?it/s]"
      ]
     },
     "metadata": {},
     "output_type": "display_data"
    },
    {
     "name": "stdout",
     "output_type": "stream",
     "text": [
      "When threshold is 2.5,Sn is: 0.983,Precision is: 0.087,Sp is 0.993,FPR is 0.007\n"
     ]
    },
    {
     "data": {
      "application/vnd.jupyter.widget-view+json": {
       "model_id": "ded8a3c4d53344bfa220fc0b2bdb2c8f",
       "version_major": 2,
       "version_minor": 0
      },
      "text/plain": [
       "Predicting::   0%|          | 0/570 [00:00<?, ?it/s]"
      ]
     },
     "metadata": {},
     "output_type": "display_data"
    },
    {
     "name": "stdout",
     "output_type": "stream",
     "text": [
      "When threshold is 3.0,Sn is: 0.961,Precision is: 0.114,Sp is 0.995,FPR is 0.005\n"
     ]
    },
    {
     "data": {
      "application/vnd.jupyter.widget-view+json": {
       "model_id": "8b57feb9a27b413ca12147f73c3d2fbf",
       "version_major": 2,
       "version_minor": 0
      },
      "text/plain": [
       "Predicting::   0%|          | 0/570 [00:00<?, ?it/s]"
      ]
     },
     "metadata": {},
     "output_type": "display_data"
    },
    {
     "name": "stdout",
     "output_type": "stream",
     "text": [
      "When threshold is 3.5,Sn is: 0.939,Precision is: 0.149,Sp is 0.996,FPR is 0.004\n"
     ]
    },
    {
     "data": {
      "application/vnd.jupyter.widget-view+json": {
       "model_id": "0cfea5897fd84f54a9e4c76f875df6e9",
       "version_major": 2,
       "version_minor": 0
      },
      "text/plain": [
       "Predicting::   0%|          | 0/570 [00:00<?, ?it/s]"
      ]
     },
     "metadata": {},
     "output_type": "display_data"
    },
    {
     "name": "stdout",
     "output_type": "stream",
     "text": [
      "When threshold is 4.0,Sn is: 0.907,Precision is: 0.189,Sp is 0.997,FPR is 0.003\n"
     ]
    },
    {
     "data": {
      "application/vnd.jupyter.widget-view+json": {
       "model_id": "099c9a8942ed4df0afe6df630419f5d2",
       "version_major": 2,
       "version_minor": 0
      },
      "text/plain": [
       "Predicting::   0%|          | 0/570 [00:00<?, ?it/s]"
      ]
     },
     "metadata": {},
     "output_type": "display_data"
    },
    {
     "name": "stdout",
     "output_type": "stream",
     "text": [
      "When threshold is 4.5,Sn is: 0.827,Precision is: 0.260,Sp is 0.998,FPR is 0.002\n"
     ]
    },
    {
     "data": {
      "application/vnd.jupyter.widget-view+json": {
       "model_id": "e4ca0def3225400485d00a7818c671c6",
       "version_major": 2,
       "version_minor": 0
      },
      "text/plain": [
       "Predicting::   0%|          | 0/570 [00:00<?, ?it/s]"
      ]
     },
     "metadata": {},
     "output_type": "display_data"
    },
    {
     "name": "stdout",
     "output_type": "stream",
     "text": [
      "When threshold is 5.0,Sn is: 0.715,Precision is: 0.332,Sp is 0.999,FPR is 0.001\n"
     ]
    },
    {
     "data": {
      "application/vnd.jupyter.widget-view+json": {
       "model_id": "7ec5bf478fe8411899fcc6218ddeee54",
       "version_major": 2,
       "version_minor": 0
      },
      "text/plain": [
       "Predicting::   0%|          | 0/570 [00:00<?, ?it/s]"
      ]
     },
     "metadata": {},
     "output_type": "display_data"
    },
    {
     "name": "stdout",
     "output_type": "stream",
     "text": [
      "When threshold is 5.5,Sn is: 0.625,Precision is: 0.425,Sp is 0.999,FPR is 0.001\n"
     ]
    },
    {
     "data": {
      "application/vnd.jupyter.widget-view+json": {
       "model_id": "ca51b7e2e42c4006bedd19c192ebe971",
       "version_major": 2,
       "version_minor": 0
      },
      "text/plain": [
       "Predicting::   0%|          | 0/570 [00:00<?, ?it/s]"
      ]
     },
     "metadata": {},
     "output_type": "display_data"
    },
    {
     "name": "stdout",
     "output_type": "stream",
     "text": [
      "When threshold is 6.0,Sn is: 0.468,Precision is: 0.507,Sp is 1.000,FPR is 0.000\n"
     ]
    },
    {
     "data": {
      "application/vnd.jupyter.widget-view+json": {
       "model_id": "e46b846c32a44635aaf78dbd7935aa4d",
       "version_major": 2,
       "version_minor": 0
      },
      "text/plain": [
       "Predicting::   0%|          | 0/570 [00:00<?, ?it/s]"
      ]
     },
     "metadata": {},
     "output_type": "display_data"
    },
    {
     "name": "stdout",
     "output_type": "stream",
     "text": [
      "When threshold is 6.5,Sn is: 0.382,Precision is: 0.539,Sp is 1.000,FPR is 0.000\n"
     ]
    },
    {
     "data": {
      "application/vnd.jupyter.widget-view+json": {
       "model_id": "6739a94f8d4d41c289d66c7b7f9c5de4",
       "version_major": 2,
       "version_minor": 0
      },
      "text/plain": [
       "Predicting::   0%|          | 0/570 [00:00<?, ?it/s]"
      ]
     },
     "metadata": {},
     "output_type": "display_data"
    },
    {
     "name": "stdout",
     "output_type": "stream",
     "text": [
      "When threshold is 7.0,Sn is: 0.267,Precision is: 0.601,Sp is 1.000,FPR is 0.000\n"
     ]
    },
    {
     "data": {
      "application/vnd.jupyter.widget-view+json": {
       "model_id": "b52e61ff7e8d4bda944d95925c58e52b",
       "version_major": 2,
       "version_minor": 0
      },
      "text/plain": [
       "Predicting::   0%|          | 0/570 [00:00<?, ?it/s]"
      ]
     },
     "metadata": {},
     "output_type": "display_data"
    },
    {
     "name": "stdout",
     "output_type": "stream",
     "text": [
      "When threshold is 7.5,Sn is: 0.133,Precision is: 0.689,Sp is 1.000,FPR is 0.000\n"
     ]
    },
    {
     "data": {
      "application/vnd.jupyter.widget-view+json": {
       "model_id": "f945858ed4bb46009a7e1583b8cba3b7",
       "version_major": 2,
       "version_minor": 0
      },
      "text/plain": [
       "Predicting::   0%|          | 0/570 [00:00<?, ?it/s]"
      ]
     },
     "metadata": {},
     "output_type": "display_data"
    },
    {
     "name": "stdout",
     "output_type": "stream",
     "text": [
      "When threshold is 8.0,Sn is: 0.067,Precision is: 0.659,Sp is 1.000,FPR is 0.000\n"
     ]
    },
    {
     "data": {
      "application/vnd.jupyter.widget-view+json": {
       "model_id": "10d1b2d56448476092bbb3891053a7d6",
       "version_major": 2,
       "version_minor": 0
      },
      "text/plain": [
       "Predicting::   0%|          | 0/570 [00:00<?, ?it/s]"
      ]
     },
     "metadata": {},
     "output_type": "display_data"
    },
    {
     "name": "stdout",
     "output_type": "stream",
     "text": [
      "When threshold is 8.5,Sn is: 0.026,Precision is: 0.579,Sp is 1.000,FPR is 0.000\n"
     ]
    },
    {
     "data": {
      "application/vnd.jupyter.widget-view+json": {
       "model_id": "3da34daede7e49448aaf4296d4ae007d",
       "version_major": 2,
       "version_minor": 0
      },
      "text/plain": [
       "Predicting::   0%|          | 0/570 [00:00<?, ?it/s]"
      ]
     },
     "metadata": {},
     "output_type": "display_data"
    },
    {
     "name": "stdout",
     "output_type": "stream",
     "text": [
      "When threshold is 9.0,Sn is: 0.000,Precision is: None ,Sp is 1.000,FPR is 0.000\n"
     ]
    },
    {
     "data": {
      "application/vnd.jupyter.widget-view+json": {
       "model_id": "b1aeb4bca6f24657ab520e9d30dd0162",
       "version_major": 2,
       "version_minor": 0
      },
      "text/plain": [
       "Predicting::   0%|          | 0/570 [00:00<?, ?it/s]"
      ]
     },
     "metadata": {},
     "output_type": "display_data"
    },
    {
     "name": "stdout",
     "output_type": "stream",
     "text": [
      "When threshold is 9.5,Sn is: 0.000,Precision is: None ,Sp is 1.000,FPR is 0.000\n"
     ]
    }
   ],
   "source": [
    "Sn_list = []\n",
    "Sp_list = []\n",
    "P_list= []\n",
    "threshold_range = tqdm(np.arange(-4,10,0.5), desc='Threshold Picking:')\n",
    "df_all_threshold =pd.DataFrame(columns=[\"Threshold\",\"Predict Sites\",\"Positive Sites\",\\\n",
    "                                \"Negative Sites\",\"Actual Donor Sites\",\"Predict Count\",\"TP\",\"FP\",\"TN\",\"FN\"])\n",
    "TNs =[]\n",
    "TPs =[]\n",
    "FNs =[]\n",
    "FPs =[]\n",
    "pattern = re.compile(\"[^acgt]\")\n",
    "# def predict_file(i):\n",
    "\n",
    "for threshold in threshold_range:\n",
    "    files_scores = []\n",
    "    files_predict_sites = []\n",
    "    total_count=TP =FP = FN =TN =0\n",
    "    files_negative_sites = []\n",
    "    files_positive_sites = []\n",
    "    TP_counts = []\n",
    "    FP_counts = []\n",
    "    FN_counts = []\n",
    "    TN_counts = []\n",
    "    predict_counts = []\n",
    "    files = tqdm(range(file_num), desc='Predicting:')\n",
    "    for i in files:\n",
    "        TP_count = 0\n",
    "        FP_count = 0\n",
    "        FN_count = 0\n",
    "        predict_count = 0\n",
    "        seq= test_seq_list[i]\n",
    "        seq_length = test_seqLength_list[i]\n",
    "        scores = []\n",
    "        predict_sites = []\n",
    "        positive_sites = []\n",
    "        negative_sites = []\n",
    "        for pos in  range(seq_length-signal_num+1):\n",
    "            signal = seq[pos:pos+signal_num]\n",
    "            no_known =pattern.search(signal)\n",
    "            if no_known:\n",
    "               continue\n",
    "            else:\n",
    "                s=cal_WAM(signal)\n",
    "                predict_count +=1\n",
    "                if s > threshold:\n",
    "                    scores.append(s)\n",
    "                    predict_site= pos+left+1\n",
    "                    predict_sites.append(predict_site)\n",
    "                    if predict_site in test_donor_list[i]:\n",
    "                        TP_count +=1\n",
    "                        positive_sites.append(predict_site)\n",
    "                    else:\n",
    "                        FP_count +=1\n",
    "                        negative_sites.append(predict_site)\n",
    "        TP += TP_count\n",
    "        FP += FP_count\n",
    "        FN_count = len(test_donor_list[i])-TP_count\n",
    "        FN += FN_count\n",
    "        TN_count = predict_count-TP_count-FP_count-FN_count\n",
    "        total_count +=predict_count\n",
    "        files_scores.append(scores)\n",
    "        files_predict_sites.append(predict_sites)\n",
    "        files_positive_sites.append(positive_sites)\n",
    "        files_negative_sites.append(negative_sites)\n",
    "        TP_counts.append(TP_count)\n",
    "        FP_counts.append(FP_count)\n",
    "        FN_counts.append(FN_count)\n",
    "        TN_counts.append(TN_count)\n",
    "        predict_counts.append(predict_count)\n",
    "    df_threshold=pd.DataFrame({\"Threshold\":threshold,\"Locus\":test_locus_list[0:file_num],\"Predict Sites\":files_predict_sites,\\\n",
    "      \"Positive Sites\":files_positive_sites,\"Negative Sites\":files_negative_sites,\"Actual Donor Sites\":test_donor_list[0:file_num],\\\n",
    "                  \"Predict Num\":predict_counts,\"Predict Positive Num\":np.sum([TP_counts,FP_counts], axis=0),\"Predict Negative Num\":np.sum([TN_counts,FN_counts], axis=0),\"TP\":TP_counts,\"FP\":FP_counts,\"TN\":TN_counts,\"FN\":FN_counts})\n",
    "    df_threshold.to_csv(f\"predict/Threshold_{threshold}_file_info.csv\",index=None)\n",
    "    df_all_threshold = pd.concat([df_all_threshold,df_threshold]).reset_index(drop=True)\n",
    "    TN = total_count-TP-FN-FP\n",
    "    TPR = TP/(TP+FN)\n",
    "    TNR = TN / (FP+TN) # 我总算知道为什么sp用的是这个公式，而不是正常的公式了，阈值高于0时，sp会特别大，至少0.9++，所以看不出太大差异\n",
    "    FPR = 1-TNR\n",
    "    try:\n",
    "        P = TP/(TP+FP)\n",
    "        print(f\"When threshold is {threshold:},Sn is: {TPR:.3f},Precision is: {P:.3f},Sp is {TNR:.3f},FPR is {FPR:.3f}\")\n",
    "    except ZeroDivisionError:\n",
    "        P = None\n",
    "        print(f\"When threshold is {threshold:},Sn is: {TPR:.3f},Precision is: None ,Sp is {TNR:.3f},FPR is {FPR:.3f}\") \n",
    "    Sn_list.append(TPR)\n",
    "    Sp_list.append(TNR)\n",
    "    P_list.append(P)\n",
    "    TNs.append(TN)\n",
    "    TPs.append(TP)\n",
    "    FNs.append(FN)\n",
    "    FPs.append(FP)\n",
    "df_threshold.to_csv(\"predict/Threshold_all_file_info.csv\",index=None)\n",
    "df_all_threshold=pd.DataFrame({\"Threshold\":list(threshold_range),\\\n",
    "                  \"TP\":TPs,\"FP\":FPs,\"TN\":TNs,\"FN\":FNs,\"Sn\":Sn_list,\"Sp\":Sp_list,\"Precision\":P_list})\n",
    "\n",
    "df_all_threshold[\"FPR\"] = 1-df_all_threshold[\"Sp\"]\n",
    "df_all_threshold[\"Acc\"] = (df_all_threshold[\"TP\"]+df_all_threshold[\"TN\"])/(df_all_threshold[\"TP\"]+df_all_threshold[\"FP\"]+df_all_threshold[\"TN\"]+df_all_threshold[\"FN\"])\n",
    "df_all_threshold.to_csv(\"predict/All_Threshold_info.csv\",index=None)"
   ]
  },
  {
   "cell_type": "code",
   "execution_count": 101,
   "id": "8d0e6765-1a48-41d5-9d8c-c9aeaefedd43",
   "metadata": {},
   "outputs": [
    {
     "name": "stdout",
     "output_type": "stream",
     "text": [
      "ctgggaaggtaggctctgg\n",
      "19\n",
      "['ctgggaagg', 'tgggaaggt', 'gggaaggta', 'ggaaggtag', 'gaaggtagg', 'aaggtaggc', 'aggtaggct', 'ggtaggctc', 'gtaggctct', 'taggctctg', 'aggctctgg']\n",
      "['ctgggaagg', 'tgggaaggt', 'gggaaggta', 'ggaaggtag', 'gaaggtagg', 'aaggtaggc', 'aggtaggct', 'ggtaggctc', 'gtaggctct', 'taggctctg', 'aggctctgg']\n",
      "[9]\n",
      "['aaggtaggc']\n"
     ]
    }
   ],
   "source": [
    "# i=1\n",
    "# threshold=-4\n",
    "# TP_count = 0\n",
    "# FP_count = 0\n",
    "# FN_count = 0\n",
    "# predict_count = 0\n",
    "# scores = []\n",
    "# predict_sites = []\n",
    "# positive_sites = []\n",
    "# negative_sites = []\n",
    "# seq = \"CTGGGAAGGTAGGCTCTGG\".lower()\n",
    "# print(seq)\n",
    "# seq_length=len(seq)\n",
    "# print(seq_length)\n",
    "# signals = []\n",
    "# predict_signals = []\n",
    "# for pos in range(seq_length-signal_num+1):\n",
    "#     signal = seq[pos:pos+signal_num]\n",
    "#     no_known =pattern.search(signal)\n",
    "#     if no_known:\n",
    "#         break\n",
    "#     else:\n",
    "#         signals.append(signal)\n",
    "#         s=cal_WAM(signal)\n",
    "#         predict_count +=1\n",
    "#         if s > threshold:\n",
    "#             scores.append(s)\n",
    "#             predict_site= pos+4\n",
    "#             predict_sites.append(predict_site)\n",
    "#             predict_signals.append(signal)\n",
    "            \n",
    "# print(signals)\n",
    "# print(signals)\n",
    "# print(predict_sites)\n",
    "# print(predict_signals)"
   ]
  },
  {
   "cell_type": "code",
   "execution_count": 68,
   "id": "930e1a50-807f-4bd8-b17f-902dd8f38da7",
   "metadata": {},
   "outputs": [
    {
     "data": {
      "text/html": [
       "<div>\n",
       "<style scoped>\n",
       "    .dataframe tbody tr th:only-of-type {\n",
       "        vertical-align: middle;\n",
       "    }\n",
       "\n",
       "    .dataframe tbody tr th {\n",
       "        vertical-align: top;\n",
       "    }\n",
       "\n",
       "    .dataframe thead th {\n",
       "        text-align: right;\n",
       "    }\n",
       "</style>\n",
       "<table border=\"1\" class=\"dataframe\">\n",
       "  <thead>\n",
       "    <tr style=\"text-align: right;\">\n",
       "      <th></th>\n",
       "      <th>Threshold</th>\n",
       "      <th>TP</th>\n",
       "      <th>FP</th>\n",
       "      <th>TN</th>\n",
       "      <th>FN</th>\n",
       "      <th>Sn</th>\n",
       "      <th>Sp</th>\n",
       "      <th>Precision</th>\n",
       "      <th>FPR</th>\n",
       "      <th>Acc</th>\n",
       "    </tr>\n",
       "  </thead>\n",
       "  <tbody>\n",
       "    <tr>\n",
       "      <th>0</th>\n",
       "      <td>-4.0</td>\n",
       "      <td>2079</td>\n",
       "      <td>145984</td>\n",
       "      <td>2737641</td>\n",
       "      <td>0</td>\n",
       "      <td>1.000000</td>\n",
       "      <td>0.949375</td>\n",
       "      <td>0.014041</td>\n",
       "      <td>0.050625</td>\n",
       "      <td>0.949411</td>\n",
       "    </tr>\n",
       "    <tr>\n",
       "      <th>1</th>\n",
       "      <td>-3.5</td>\n",
       "      <td>2079</td>\n",
       "      <td>141873</td>\n",
       "      <td>2741752</td>\n",
       "      <td>0</td>\n",
       "      <td>1.000000</td>\n",
       "      <td>0.950800</td>\n",
       "      <td>0.014442</td>\n",
       "      <td>0.049200</td>\n",
       "      <td>0.950836</td>\n",
       "    </tr>\n",
       "    <tr>\n",
       "      <th>2</th>\n",
       "      <td>-3.0</td>\n",
       "      <td>2079</td>\n",
       "      <td>136033</td>\n",
       "      <td>2747592</td>\n",
       "      <td>0</td>\n",
       "      <td>1.000000</td>\n",
       "      <td>0.952826</td>\n",
       "      <td>0.015053</td>\n",
       "      <td>0.047174</td>\n",
       "      <td>0.952860</td>\n",
       "    </tr>\n",
       "    <tr>\n",
       "      <th>3</th>\n",
       "      <td>-2.5</td>\n",
       "      <td>2078</td>\n",
       "      <td>126295</td>\n",
       "      <td>2757330</td>\n",
       "      <td>1</td>\n",
       "      <td>0.999519</td>\n",
       "      <td>0.956203</td>\n",
       "      <td>0.016187</td>\n",
       "      <td>0.043797</td>\n",
       "      <td>0.956234</td>\n",
       "    </tr>\n",
       "    <tr>\n",
       "      <th>4</th>\n",
       "      <td>-2.0</td>\n",
       "      <td>2078</td>\n",
       "      <td>116543</td>\n",
       "      <td>2767082</td>\n",
       "      <td>1</td>\n",
       "      <td>0.999519</td>\n",
       "      <td>0.959585</td>\n",
       "      <td>0.017518</td>\n",
       "      <td>0.040415</td>\n",
       "      <td>0.959613</td>\n",
       "    </tr>\n",
       "  </tbody>\n",
       "</table>\n",
       "</div>"
      ],
      "text/plain": [
       "   Threshold    TP      FP       TN  FN        Sn        Sp  Precision  \\\n",
       "0       -4.0  2079  145984  2737641   0  1.000000  0.949375   0.014041   \n",
       "1       -3.5  2079  141873  2741752   0  1.000000  0.950800   0.014442   \n",
       "2       -3.0  2079  136033  2747592   0  1.000000  0.952826   0.015053   \n",
       "3       -2.5  2078  126295  2757330   1  0.999519  0.956203   0.016187   \n",
       "4       -2.0  2078  116543  2767082   1  0.999519  0.959585   0.017518   \n",
       "\n",
       "        FPR       Acc  \n",
       "0  0.050625  0.949411  \n",
       "1  0.049200  0.950836  \n",
       "2  0.047174  0.952860  \n",
       "3  0.043797  0.956234  \n",
       "4  0.040415  0.959613  "
      ]
     },
     "execution_count": 68,
     "metadata": {},
     "output_type": "execute_result"
    }
   ],
   "source": [
    "df_all_threshold= pd.read_csv(\"predict/All_Threshold_info.csv\")\n",
    "df_all_threshold.head()"
   ]
  },
  {
   "cell_type": "code",
   "execution_count": 69,
   "id": "cb8c82a0-9876-4d7e-ae89-a24db723d1ec",
   "metadata": {},
   "outputs": [
    {
     "data": {
      "text/html": [
       "<style  type=\"text/css\" >\n",
       "#T_c7e98_row0_col5,#T_c7e98_row1_col5,#T_c7e98_row2_col5,#T_c7e98_row3_col5,#T_c7e98_row4_col5,#T_c7e98_row5_col5,#T_c7e98_row6_col5,#T_c7e98_row7_col5{\n",
       "            width:  10em;\n",
       "             height:  80%;\n",
       "            background:  linear-gradient(90deg, transparent 50.0%, #FFA07A 50.0%, #FFA07A 100.0%, transparent 100.0%);\n",
       "        }#T_c7e98_row0_col6,#T_c7e98_row1_col6{\n",
       "            width:  10em;\n",
       "             height:  80%;\n",
       "            background:  linear-gradient(90deg, transparent 50.0%, #2196f3 50.0%, #2196f3 97.5%, transparent 97.5%);\n",
       "        }#T_c7e98_row0_col7,#T_c7e98_row1_col7{\n",
       "            width:  10em;\n",
       "             height:  80%;\n",
       "            background:  linear-gradient(90deg, transparent 50.0%, lightgreen 50.0%, lightgreen 51.0%, transparent 51.0%);\n",
       "        }#T_c7e98_row0_col8{\n",
       "            width:  10em;\n",
       "             height:  80%;\n",
       "            background:  linear-gradient(90deg, transparent 50.0%, #375c7c 50.0%, #375c7c 100.0%, transparent 100.0%);\n",
       "        }#T_c7e98_row0_col9{\n",
       "            width:  10em;\n",
       "             height:  80%;\n",
       "            background:  linear-gradient(90deg, transparent 50.0%, #ffcdd2 50.0%, #ffcdd2 97.5%, transparent 97.5%);\n",
       "        }#T_c7e98_row1_col8{\n",
       "            width:  10em;\n",
       "             height:  80%;\n",
       "            background:  linear-gradient(90deg, transparent 50.0%, #375c7c 50.0%, #375c7c 98.6%, transparent 98.6%);\n",
       "        }#T_c7e98_row1_col9{\n",
       "            width:  10em;\n",
       "             height:  80%;\n",
       "            background:  linear-gradient(90deg, transparent 50.0%, #ffcdd2 50.0%, #ffcdd2 97.6%, transparent 97.6%);\n",
       "        }#T_c7e98_row2_col6{\n",
       "            width:  10em;\n",
       "             height:  80%;\n",
       "            background:  linear-gradient(90deg, transparent 50.0%, #2196f3 50.0%, #2196f3 97.6%, transparent 97.6%);\n",
       "        }#T_c7e98_row2_col7{\n",
       "            width:  10em;\n",
       "             height:  80%;\n",
       "            background:  linear-gradient(90deg, transparent 50.0%, lightgreen 50.0%, lightgreen 51.1%, transparent 51.1%);\n",
       "        }#T_c7e98_row2_col8{\n",
       "            width:  10em;\n",
       "             height:  80%;\n",
       "            background:  linear-gradient(90deg, transparent 50.0%, #375c7c 50.0%, #375c7c 96.6%, transparent 96.6%);\n",
       "        }#T_c7e98_row2_col9{\n",
       "            width:  10em;\n",
       "             height:  80%;\n",
       "            background:  linear-gradient(90deg, transparent 50.0%, #ffcdd2 50.0%, #ffcdd2 97.7%, transparent 97.7%);\n",
       "        }#T_c7e98_row3_col6{\n",
       "            width:  10em;\n",
       "             height:  80%;\n",
       "            background:  linear-gradient(90deg, transparent 50.0%, #2196f3 50.0%, #2196f3 97.8%, transparent 97.8%);\n",
       "        }#T_c7e98_row3_col7{\n",
       "            width:  10em;\n",
       "             height:  80%;\n",
       "            background:  linear-gradient(90deg, transparent 50.0%, lightgreen 50.0%, lightgreen 51.2%, transparent 51.2%);\n",
       "        }#T_c7e98_row3_col8{\n",
       "            width:  10em;\n",
       "             height:  80%;\n",
       "            background:  linear-gradient(90deg, transparent 50.0%, #375c7c 50.0%, #375c7c 93.3%, transparent 93.3%);\n",
       "        }#T_c7e98_row3_col9{\n",
       "            width:  10em;\n",
       "             height:  80%;\n",
       "            background:  linear-gradient(90deg, transparent 50.0%, #ffcdd2 50.0%, #ffcdd2 97.8%, transparent 97.8%);\n",
       "        }#T_c7e98_row4_col6{\n",
       "            width:  10em;\n",
       "             height:  80%;\n",
       "            background:  linear-gradient(90deg, transparent 50.0%, #2196f3 50.0%, #2196f3 98.0%, transparent 98.0%);\n",
       "        }#T_c7e98_row4_col7{\n",
       "            width:  10em;\n",
       "             height:  80%;\n",
       "            background:  linear-gradient(90deg, transparent 50.0%, lightgreen 50.0%, lightgreen 51.3%, transparent 51.3%);\n",
       "        }#T_c7e98_row4_col8{\n",
       "            width:  10em;\n",
       "             height:  80%;\n",
       "            background:  linear-gradient(90deg, transparent 50.0%, #375c7c 50.0%, #375c7c 89.9%, transparent 89.9%);\n",
       "        }#T_c7e98_row4_col9{\n",
       "            width:  10em;\n",
       "             height:  80%;\n",
       "            background:  linear-gradient(90deg, transparent 50.0%, #ffcdd2 50.0%, #ffcdd2 98.0%, transparent 98.0%);\n",
       "        }#T_c7e98_row5_col6{\n",
       "            width:  10em;\n",
       "             height:  80%;\n",
       "            background:  linear-gradient(90deg, transparent 50.0%, #2196f3 50.0%, #2196f3 98.2%, transparent 98.2%);\n",
       "        }#T_c7e98_row5_col7{\n",
       "            width:  10em;\n",
       "             height:  80%;\n",
       "            background:  linear-gradient(90deg, transparent 50.0%, lightgreen 50.0%, lightgreen 51.4%, transparent 51.4%);\n",
       "        }#T_c7e98_row5_col8{\n",
       "            width:  10em;\n",
       "             height:  80%;\n",
       "            background:  linear-gradient(90deg, transparent 50.0%, #375c7c 50.0%, #375c7c 86.4%, transparent 86.4%);\n",
       "        }#T_c7e98_row5_col9{\n",
       "            width:  10em;\n",
       "             height:  80%;\n",
       "            background:  linear-gradient(90deg, transparent 50.0%, #ffcdd2 50.0%, #ffcdd2 98.2%, transparent 98.2%);\n",
       "        }#T_c7e98_row6_col6{\n",
       "            width:  10em;\n",
       "             height:  80%;\n",
       "            background:  linear-gradient(90deg, transparent 50.0%, #2196f3 50.0%, #2196f3 98.3%, transparent 98.3%);\n",
       "        }#T_c7e98_row6_col7{\n",
       "            width:  10em;\n",
       "             height:  80%;\n",
       "            background:  linear-gradient(90deg, transparent 50.0%, lightgreen 50.0%, lightgreen 51.5%, transparent 51.5%);\n",
       "        }#T_c7e98_row6_col8{\n",
       "            width:  10em;\n",
       "             height:  80%;\n",
       "            background:  linear-gradient(90deg, transparent 50.0%, #375c7c 50.0%, #375c7c 82.8%, transparent 82.8%);\n",
       "        }#T_c7e98_row6_col9{\n",
       "            width:  10em;\n",
       "             height:  80%;\n",
       "            background:  linear-gradient(90deg, transparent 50.0%, #ffcdd2 50.0%, #ffcdd2 98.4%, transparent 98.4%);\n",
       "        }#T_c7e98_row7_col6{\n",
       "            width:  10em;\n",
       "             height:  80%;\n",
       "            background:  linear-gradient(90deg, transparent 50.0%, #2196f3 50.0%, #2196f3 98.5%, transparent 98.5%);\n",
       "        }#T_c7e98_row7_col7{\n",
       "            width:  10em;\n",
       "             height:  80%;\n",
       "            background:  linear-gradient(90deg, transparent 50.0%, lightgreen 50.0%, lightgreen 51.7%, transparent 51.7%);\n",
       "        }#T_c7e98_row7_col8{\n",
       "            width:  10em;\n",
       "             height:  80%;\n",
       "            background:  linear-gradient(90deg, transparent 50.0%, #375c7c 50.0%, #375c7c 79.4%, transparent 79.4%);\n",
       "        }#T_c7e98_row7_col9{\n",
       "            width:  10em;\n",
       "             height:  80%;\n",
       "            background:  linear-gradient(90deg, transparent 50.0%, #ffcdd2 50.0%, #ffcdd2 98.5%, transparent 98.5%);\n",
       "        }#T_c7e98_row8_col5,#T_c7e98_row9_col5{\n",
       "            width:  10em;\n",
       "             height:  80%;\n",
       "            background:  linear-gradient(90deg, transparent 50.0%, #FFA07A 50.0%, #FFA07A 99.9%, transparent 99.9%);\n",
       "        }#T_c7e98_row8_col6{\n",
       "            width:  10em;\n",
       "             height:  80%;\n",
       "            background:  linear-gradient(90deg, transparent 50.0%, #2196f3 50.0%, #2196f3 98.7%, transparent 98.7%);\n",
       "        }#T_c7e98_row8_col7{\n",
       "            width:  10em;\n",
       "             height:  80%;\n",
       "            background:  linear-gradient(90deg, transparent 50.0%, lightgreen 50.0%, lightgreen 52.0%, transparent 52.0%);\n",
       "        }#T_c7e98_row8_col8{\n",
       "            width:  10em;\n",
       "             height:  80%;\n",
       "            background:  linear-gradient(90deg, transparent 50.0%, #375c7c 50.0%, #375c7c 75.6%, transparent 75.6%);\n",
       "        }#T_c7e98_row8_col9{\n",
       "            width:  10em;\n",
       "             height:  80%;\n",
       "            background:  linear-gradient(90deg, transparent 50.0%, #ffcdd2 50.0%, #ffcdd2 98.7%, transparent 98.7%);\n",
       "        }#T_c7e98_row9_col6{\n",
       "            width:  10em;\n",
       "             height:  80%;\n",
       "            background:  linear-gradient(90deg, transparent 50.0%, #2196f3 50.0%, #2196f3 98.9%, transparent 98.9%);\n",
       "        }#T_c7e98_row9_col7{\n",
       "            width:  10em;\n",
       "             height:  80%;\n",
       "            background:  linear-gradient(90deg, transparent 50.0%, lightgreen 50.0%, lightgreen 52.3%, transparent 52.3%);\n",
       "        }#T_c7e98_row9_col8{\n",
       "            width:  10em;\n",
       "             height:  80%;\n",
       "            background:  linear-gradient(90deg, transparent 50.0%, #375c7c 50.0%, #375c7c 71.6%, transparent 71.6%);\n",
       "        }#T_c7e98_row9_col9{\n",
       "            width:  10em;\n",
       "             height:  80%;\n",
       "            background:  linear-gradient(90deg, transparent 50.0%, #ffcdd2 50.0%, #ffcdd2 98.9%, transparent 98.9%);\n",
       "        }#T_c7e98_row10_col5{\n",
       "            width:  10em;\n",
       "             height:  80%;\n",
       "            background:  linear-gradient(90deg, transparent 50.0%, #FFA07A 50.0%, #FFA07A 99.8%, transparent 99.8%);\n",
       "        }#T_c7e98_row10_col6{\n",
       "            width:  10em;\n",
       "             height:  80%;\n",
       "            background:  linear-gradient(90deg, transparent 50.0%, #2196f3 50.0%, #2196f3 99.1%, transparent 99.1%);\n",
       "        }#T_c7e98_row10_col7{\n",
       "            width:  10em;\n",
       "             height:  80%;\n",
       "            background:  linear-gradient(90deg, transparent 50.0%, lightgreen 50.0%, lightgreen 52.8%, transparent 52.8%);\n",
       "        }#T_c7e98_row10_col8{\n",
       "            width:  10em;\n",
       "             height:  80%;\n",
       "            background:  linear-gradient(90deg, transparent 50.0%, #375c7c 50.0%, #375c7c 67.5%, transparent 67.5%);\n",
       "        }#T_c7e98_row10_col9{\n",
       "            width:  10em;\n",
       "             height:  80%;\n",
       "            background:  linear-gradient(90deg, transparent 50.0%, #ffcdd2 50.0%, #ffcdd2 99.1%, transparent 99.1%);\n",
       "        }#T_c7e98_row11_col5{\n",
       "            width:  10em;\n",
       "             height:  80%;\n",
       "            background:  linear-gradient(90deg, transparent 50.0%, #FFA07A 50.0%, #FFA07A 99.7%, transparent 99.7%);\n",
       "        }#T_c7e98_row11_col6{\n",
       "            width:  10em;\n",
       "             height:  80%;\n",
       "            background:  linear-gradient(90deg, transparent 50.0%, #2196f3 50.0%, #2196f3 99.3%, transparent 99.3%);\n",
       "        }#T_c7e98_row11_col7{\n",
       "            width:  10em;\n",
       "             height:  80%;\n",
       "            background:  linear-gradient(90deg, transparent 50.0%, lightgreen 50.0%, lightgreen 53.6%, transparent 53.6%);\n",
       "        }#T_c7e98_row11_col8{\n",
       "            width:  10em;\n",
       "             height:  80%;\n",
       "            background:  linear-gradient(90deg, transparent 50.0%, #375c7c 50.0%, #375c7c 63.7%, transparent 63.7%);\n",
       "        }#T_c7e98_row11_col9{\n",
       "            width:  10em;\n",
       "             height:  80%;\n",
       "            background:  linear-gradient(90deg, transparent 50.0%, #ffcdd2 50.0%, #ffcdd2 99.3%, transparent 99.3%);\n",
       "        }#T_c7e98_row12_col5{\n",
       "            width:  10em;\n",
       "             height:  80%;\n",
       "            background:  linear-gradient(90deg, transparent 50.0%, #FFA07A 50.0%, #FFA07A 99.5%, transparent 99.5%);\n",
       "        }#T_c7e98_row12_col6{\n",
       "            width:  10em;\n",
       "             height:  80%;\n",
       "            background:  linear-gradient(90deg, transparent 50.0%, #2196f3 50.0%, #2196f3 99.5%, transparent 99.5%);\n",
       "        }#T_c7e98_row12_col7{\n",
       "            width:  10em;\n",
       "             height:  80%;\n",
       "            background:  linear-gradient(90deg, transparent 50.0%, lightgreen 50.0%, lightgreen 54.8%, transparent 54.8%);\n",
       "        }#T_c7e98_row12_col8{\n",
       "            width:  10em;\n",
       "             height:  80%;\n",
       "            background:  linear-gradient(90deg, transparent 50.0%, #375c7c 50.0%, #375c7c 60.0%, transparent 60.0%);\n",
       "        }#T_c7e98_row12_col9{\n",
       "            width:  10em;\n",
       "             height:  80%;\n",
       "            background:  linear-gradient(90deg, transparent 50.0%, #ffcdd2 50.0%, #ffcdd2 99.5%, transparent 99.5%);\n",
       "        }#T_c7e98_row13_col5{\n",
       "            width:  10em;\n",
       "             height:  80%;\n",
       "            background:  linear-gradient(90deg, transparent 50.0%, #FFA07A 50.0%, #FFA07A 99.2%, transparent 99.2%);\n",
       "        }#T_c7e98_row13_col6{\n",
       "            width:  10em;\n",
       "             height:  80%;\n",
       "            background:  linear-gradient(90deg, transparent 50.0%, #2196f3 50.0%, #2196f3 99.6%, transparent 99.6%);\n",
       "        }#T_c7e98_row13_col7{\n",
       "            width:  10em;\n",
       "             height:  80%;\n",
       "            background:  linear-gradient(90deg, transparent 50.0%, lightgreen 50.0%, lightgreen 56.3%, transparent 56.3%);\n",
       "        }#T_c7e98_row13_col8{\n",
       "            width:  10em;\n",
       "             height:  80%;\n",
       "            background:  linear-gradient(90deg, transparent 50.0%, #375c7c 50.0%, #375c7c 57.3%, transparent 57.3%);\n",
       "        }#T_c7e98_row13_col9{\n",
       "            width:  10em;\n",
       "             height:  80%;\n",
       "            background:  linear-gradient(90deg, transparent 50.0%, #ffcdd2 50.0%, #ffcdd2 99.7%, transparent 99.7%);\n",
       "        }#T_c7e98_row14_col5{\n",
       "            width:  10em;\n",
       "             height:  80%;\n",
       "            background:  linear-gradient(90deg, transparent 50.0%, #FFA07A 50.0%, #FFA07A 98.1%, transparent 98.1%);\n",
       "        }#T_c7e98_row14_col6{\n",
       "            width:  10em;\n",
       "             height:  80%;\n",
       "            background:  linear-gradient(90deg, transparent 50.0%, #2196f3 50.0%, #2196f3 99.7%, transparent 99.7%);\n",
       "        }#T_c7e98_row14_col7{\n",
       "            width:  10em;\n",
       "             height:  80%;\n",
       "            background:  linear-gradient(90deg, transparent 50.0%, lightgreen 50.0%, lightgreen 58.3%, transparent 58.3%);\n",
       "        }#T_c7e98_row14_col8{\n",
       "            width:  10em;\n",
       "             height:  80%;\n",
       "            background:  linear-gradient(90deg, transparent 50.0%, #375c7c 50.0%, #375c7c 55.3%, transparent 55.3%);\n",
       "        }#T_c7e98_row14_col9,#T_c7e98_row15_col9{\n",
       "            width:  10em;\n",
       "             height:  80%;\n",
       "            background:  linear-gradient(90deg, transparent 50.0%, #ffcdd2 50.0%, #ffcdd2 99.8%, transparent 99.8%);\n",
       "        }#T_c7e98_row15_col5{\n",
       "            width:  10em;\n",
       "             height:  80%;\n",
       "            background:  linear-gradient(90deg, transparent 50.0%, #FFA07A 50.0%, #FFA07A 97.0%, transparent 97.0%);\n",
       "        }#T_c7e98_row15_col6{\n",
       "            width:  10em;\n",
       "             height:  80%;\n",
       "            background:  linear-gradient(90deg, transparent 50.0%, #2196f3 50.0%, #2196f3 99.8%, transparent 99.8%);\n",
       "        }#T_c7e98_row15_col7{\n",
       "            width:  10em;\n",
       "             height:  80%;\n",
       "            background:  linear-gradient(90deg, transparent 50.0%, lightgreen 50.0%, lightgreen 60.8%, transparent 60.8%);\n",
       "        }#T_c7e98_row15_col8{\n",
       "            width:  10em;\n",
       "             height:  80%;\n",
       "            background:  linear-gradient(90deg, transparent 50.0%, #375c7c 50.0%, #375c7c 53.8%, transparent 53.8%);\n",
       "        }#T_c7e98_row16_col5{\n",
       "            width:  10em;\n",
       "             height:  80%;\n",
       "            background:  linear-gradient(90deg, transparent 50.0%, #FFA07A 50.0%, #FFA07A 95.3%, transparent 95.3%);\n",
       "        }#T_c7e98_row16_col6,#T_c7e98_row17_col6,#T_c7e98_row18_col6{\n",
       "            width:  10em;\n",
       "             height:  80%;\n",
       "            background:  linear-gradient(90deg, transparent 50.0%, #2196f3 50.0%, #2196f3 99.9%, transparent 99.9%);\n",
       "        }#T_c7e98_row16_col7{\n",
       "            width:  10em;\n",
       "             height:  80%;\n",
       "            background:  linear-gradient(90deg, transparent 50.0%, lightgreen 50.0%, lightgreen 63.7%, transparent 63.7%);\n",
       "        }#T_c7e98_row16_col8{\n",
       "            width:  10em;\n",
       "             height:  80%;\n",
       "            background:  linear-gradient(90deg, transparent 50.0%, #375c7c 50.0%, #375c7c 52.8%, transparent 52.8%);\n",
       "        }#T_c7e98_row16_col9,#T_c7e98_row17_col9{\n",
       "            width:  10em;\n",
       "             height:  80%;\n",
       "            background:  linear-gradient(90deg, transparent 50.0%, #ffcdd2 50.0%, #ffcdd2 99.9%, transparent 99.9%);\n",
       "        }#T_c7e98_row17_col5{\n",
       "            width:  10em;\n",
       "             height:  80%;\n",
       "            background:  linear-gradient(90deg, transparent 50.0%, #FFA07A 50.0%, #FFA07A 91.3%, transparent 91.3%);\n",
       "        }#T_c7e98_row17_col7{\n",
       "            width:  10em;\n",
       "             height:  80%;\n",
       "            background:  linear-gradient(90deg, transparent 50.0%, lightgreen 50.0%, lightgreen 68.9%, transparent 68.9%);\n",
       "        }#T_c7e98_row17_col8{\n",
       "            width:  10em;\n",
       "             height:  80%;\n",
       "            background:  linear-gradient(90deg, transparent 50.0%, #375c7c 50.0%, #375c7c 51.7%, transparent 51.7%);\n",
       "        }#T_c7e98_row18_col5{\n",
       "            width:  10em;\n",
       "             height:  80%;\n",
       "            background:  linear-gradient(90deg, transparent 50.0%, #FFA07A 50.0%, #FFA07A 85.8%, transparent 85.8%);\n",
       "        }#T_c7e98_row18_col7{\n",
       "            width:  10em;\n",
       "             height:  80%;\n",
       "            background:  linear-gradient(90deg, transparent 50.0%, lightgreen 50.0%, lightgreen 74.1%, transparent 74.1%);\n",
       "        }#T_c7e98_row18_col8{\n",
       "            width:  10em;\n",
       "             height:  80%;\n",
       "            background:  linear-gradient(90deg, transparent 50.0%, #375c7c 50.0%, #375c7c 51.0%, transparent 51.0%);\n",
       "        }#T_c7e98_row18_col9,#T_c7e98_row19_col9,#T_c7e98_row20_col9,#T_c7e98_row21_col9,#T_c7e98_row22_col9,#T_c7e98_row23_col9,#T_c7e98_row24_col9,#T_c7e98_row25_col9,#T_c7e98_row26_col9,#T_c7e98_row27_col9{\n",
       "            width:  10em;\n",
       "             height:  80%;\n",
       "            background:  linear-gradient(90deg, transparent 50.0%, #ffcdd2 50.0%, #ffcdd2 100.0%, transparent 100.0%);\n",
       "        }#T_c7e98_row19_col5{\n",
       "            width:  10em;\n",
       "             height:  80%;\n",
       "            background:  linear-gradient(90deg, transparent 50.0%, #FFA07A 50.0%, #FFA07A 81.2%, transparent 81.2%);\n",
       "        }#T_c7e98_row19_col6,#T_c7e98_row20_col6,#T_c7e98_row21_col6,#T_c7e98_row22_col6,#T_c7e98_row23_col6,#T_c7e98_row24_col6,#T_c7e98_row25_col6,#T_c7e98_row26_col6,#T_c7e98_row27_col6{\n",
       "            width:  10em;\n",
       "             height:  80%;\n",
       "            background:  linear-gradient(90deg, transparent 50.0%, #2196f3 50.0%, #2196f3 100.0%, transparent 100.0%);\n",
       "        }#T_c7e98_row19_col7{\n",
       "            width:  10em;\n",
       "             height:  80%;\n",
       "            background:  linear-gradient(90deg, transparent 50.0%, lightgreen 50.0%, lightgreen 80.8%, transparent 80.8%);\n",
       "        }#T_c7e98_row19_col8{\n",
       "            width:  10em;\n",
       "             height:  80%;\n",
       "            background:  linear-gradient(90deg, transparent 50.0%, #375c7c 50.0%, #375c7c 50.6%, transparent 50.6%);\n",
       "        }#T_c7e98_row20_col5{\n",
       "            width:  10em;\n",
       "             height:  80%;\n",
       "            background:  linear-gradient(90deg, transparent 50.0%, #FFA07A 50.0%, #FFA07A 73.4%, transparent 73.4%);\n",
       "        }#T_c7e98_row20_col7{\n",
       "            width:  10em;\n",
       "             height:  80%;\n",
       "            background:  linear-gradient(90deg, transparent 50.0%, lightgreen 50.0%, lightgreen 86.8%, transparent 86.8%);\n",
       "        }#T_c7e98_row20_col8{\n",
       "            width:  10em;\n",
       "             height:  80%;\n",
       "            background:  linear-gradient(90deg, transparent 50.0%, #375c7c 50.0%, #375c7c 50.3%, transparent 50.3%);\n",
       "        }#T_c7e98_row21_col5{\n",
       "            width:  10em;\n",
       "             height:  80%;\n",
       "            background:  linear-gradient(90deg, transparent 50.0%, #FFA07A 50.0%, #FFA07A 69.1%, transparent 69.1%);\n",
       "        }#T_c7e98_row21_col7{\n",
       "            width:  10em;\n",
       "             height:  80%;\n",
       "            background:  linear-gradient(90deg, transparent 50.0%, lightgreen 50.0%, lightgreen 89.1%, transparent 89.1%);\n",
       "        }#T_c7e98_row21_col8{\n",
       "            width:  10em;\n",
       "             height:  80%;\n",
       "            background:  linear-gradient(90deg, transparent 50.0%, #375c7c 50.0%, #375c7c 50.2%, transparent 50.2%);\n",
       "        }#T_c7e98_row22_col5{\n",
       "            width:  10em;\n",
       "             height:  80%;\n",
       "            background:  linear-gradient(90deg, transparent 50.0%, #FFA07A 50.0%, #FFA07A 63.3%, transparent 63.3%);\n",
       "        }#T_c7e98_row22_col7{\n",
       "            width:  10em;\n",
       "             height:  80%;\n",
       "            background:  linear-gradient(90deg, transparent 50.0%, lightgreen 50.0%, lightgreen 93.6%, transparent 93.6%);\n",
       "        }#T_c7e98_row22_col8{\n",
       "            width:  10em;\n",
       "             height:  80%;\n",
       "            background:  linear-gradient(90deg, transparent 50.0%, #375c7c 50.0%, #375c7c 50.1%, transparent 50.1%);\n",
       "        }#T_c7e98_row23_col5{\n",
       "            width:  10em;\n",
       "             height:  80%;\n",
       "            background:  linear-gradient(90deg, transparent 50.0%, #FFA07A 50.0%, #FFA07A 56.7%, transparent 56.7%);\n",
       "        }#T_c7e98_row23_col7{\n",
       "            width:  10em;\n",
       "             height:  80%;\n",
       "            background:  linear-gradient(90deg, transparent 50.0%, lightgreen 50.0%, lightgreen 100.0%, transparent 100.0%);\n",
       "        }#T_c7e98_row23_col8,#T_c7e98_row24_col8,#T_c7e98_row25_col8{\n",
       "            width:  10em;\n",
       "             height:  80%;\n",
       "            background:  linear-gradient(90deg, transparent 50.0%, #375c7c 50.0%, #375c7c 50.0%, transparent 50.0%);\n",
       "        }#T_c7e98_row24_col5{\n",
       "            width:  10em;\n",
       "             height:  80%;\n",
       "            background:  linear-gradient(90deg, transparent 50.0%, #FFA07A 50.0%, #FFA07A 53.3%, transparent 53.3%);\n",
       "        }#T_c7e98_row24_col7{\n",
       "            width:  10em;\n",
       "             height:  80%;\n",
       "            background:  linear-gradient(90deg, transparent 50.0%, lightgreen 50.0%, lightgreen 97.8%, transparent 97.8%);\n",
       "        }#T_c7e98_row25_col5{\n",
       "            width:  10em;\n",
       "             height:  80%;\n",
       "            background:  linear-gradient(90deg, transparent 50.0%, #FFA07A 50.0%, #FFA07A 51.3%, transparent 51.3%);\n",
       "        }#T_c7e98_row25_col7{\n",
       "            width:  10em;\n",
       "             height:  80%;\n",
       "            background:  linear-gradient(90deg, transparent 50.0%, lightgreen 50.0%, lightgreen 92.0%, transparent 92.0%);\n",
       "        }#T_c7e98_row26_col5,#T_c7e98_row26_col8,#T_c7e98_row27_col5,#T_c7e98_row27_col8{\n",
       "            width:  10em;\n",
       "             height:  80%;\n",
       "        }</style><table id=\"T_c7e98_\" ><thead>    <tr>        <th class=\"blank level0\" ></th>        <th class=\"col_heading level0 col0\" >Threshold</th>        <th class=\"col_heading level0 col1\" >TP</th>        <th class=\"col_heading level0 col2\" >FP</th>        <th class=\"col_heading level0 col3\" >TN</th>        <th class=\"col_heading level0 col4\" >FN</th>        <th class=\"col_heading level0 col5\" >Sn</th>        <th class=\"col_heading level0 col6\" >Sp</th>        <th class=\"col_heading level0 col7\" >Precision</th>        <th class=\"col_heading level0 col8\" >FPR</th>        <th class=\"col_heading level0 col9\" >Acc</th>    </tr></thead><tbody>\n",
       "                <tr>\n",
       "                        <th id=\"T_c7e98_level0_row0\" class=\"row_heading level0 row0\" >0</th>\n",
       "                        <td id=\"T_c7e98_row0_col0\" class=\"data row0 col0\" >-4.000000</td>\n",
       "                        <td id=\"T_c7e98_row0_col1\" class=\"data row0 col1\" >2079</td>\n",
       "                        <td id=\"T_c7e98_row0_col2\" class=\"data row0 col2\" >145984</td>\n",
       "                        <td id=\"T_c7e98_row0_col3\" class=\"data row0 col3\" >2737641</td>\n",
       "                        <td id=\"T_c7e98_row0_col4\" class=\"data row0 col4\" >0</td>\n",
       "                        <td id=\"T_c7e98_row0_col5\" class=\"data row0 col5\" >100.00%</td>\n",
       "                        <td id=\"T_c7e98_row0_col6\" class=\"data row0 col6\" >94.94%</td>\n",
       "                        <td id=\"T_c7e98_row0_col7\" class=\"data row0 col7\" >1.40%</td>\n",
       "                        <td id=\"T_c7e98_row0_col8\" class=\"data row0 col8\" >5.06%</td>\n",
       "                        <td id=\"T_c7e98_row0_col9\" class=\"data row0 col9\" >94.94%</td>\n",
       "            </tr>\n",
       "            <tr>\n",
       "                        <th id=\"T_c7e98_level0_row1\" class=\"row_heading level0 row1\" >1</th>\n",
       "                        <td id=\"T_c7e98_row1_col0\" class=\"data row1 col0\" >-3.500000</td>\n",
       "                        <td id=\"T_c7e98_row1_col1\" class=\"data row1 col1\" >2079</td>\n",
       "                        <td id=\"T_c7e98_row1_col2\" class=\"data row1 col2\" >141873</td>\n",
       "                        <td id=\"T_c7e98_row1_col3\" class=\"data row1 col3\" >2741752</td>\n",
       "                        <td id=\"T_c7e98_row1_col4\" class=\"data row1 col4\" >0</td>\n",
       "                        <td id=\"T_c7e98_row1_col5\" class=\"data row1 col5\" >100.00%</td>\n",
       "                        <td id=\"T_c7e98_row1_col6\" class=\"data row1 col6\" >95.08%</td>\n",
       "                        <td id=\"T_c7e98_row1_col7\" class=\"data row1 col7\" >1.44%</td>\n",
       "                        <td id=\"T_c7e98_row1_col8\" class=\"data row1 col8\" >4.92%</td>\n",
       "                        <td id=\"T_c7e98_row1_col9\" class=\"data row1 col9\" >95.08%</td>\n",
       "            </tr>\n",
       "            <tr>\n",
       "                        <th id=\"T_c7e98_level0_row2\" class=\"row_heading level0 row2\" >2</th>\n",
       "                        <td id=\"T_c7e98_row2_col0\" class=\"data row2 col0\" >-3.000000</td>\n",
       "                        <td id=\"T_c7e98_row2_col1\" class=\"data row2 col1\" >2079</td>\n",
       "                        <td id=\"T_c7e98_row2_col2\" class=\"data row2 col2\" >136033</td>\n",
       "                        <td id=\"T_c7e98_row2_col3\" class=\"data row2 col3\" >2747592</td>\n",
       "                        <td id=\"T_c7e98_row2_col4\" class=\"data row2 col4\" >0</td>\n",
       "                        <td id=\"T_c7e98_row2_col5\" class=\"data row2 col5\" >100.00%</td>\n",
       "                        <td id=\"T_c7e98_row2_col6\" class=\"data row2 col6\" >95.28%</td>\n",
       "                        <td id=\"T_c7e98_row2_col7\" class=\"data row2 col7\" >1.51%</td>\n",
       "                        <td id=\"T_c7e98_row2_col8\" class=\"data row2 col8\" >4.72%</td>\n",
       "                        <td id=\"T_c7e98_row2_col9\" class=\"data row2 col9\" >95.29%</td>\n",
       "            </tr>\n",
       "            <tr>\n",
       "                        <th id=\"T_c7e98_level0_row3\" class=\"row_heading level0 row3\" >3</th>\n",
       "                        <td id=\"T_c7e98_row3_col0\" class=\"data row3 col0\" >-2.500000</td>\n",
       "                        <td id=\"T_c7e98_row3_col1\" class=\"data row3 col1\" >2078</td>\n",
       "                        <td id=\"T_c7e98_row3_col2\" class=\"data row3 col2\" >126295</td>\n",
       "                        <td id=\"T_c7e98_row3_col3\" class=\"data row3 col3\" >2757330</td>\n",
       "                        <td id=\"T_c7e98_row3_col4\" class=\"data row3 col4\" >1</td>\n",
       "                        <td id=\"T_c7e98_row3_col5\" class=\"data row3 col5\" >99.95%</td>\n",
       "                        <td id=\"T_c7e98_row3_col6\" class=\"data row3 col6\" >95.62%</td>\n",
       "                        <td id=\"T_c7e98_row3_col7\" class=\"data row3 col7\" >1.62%</td>\n",
       "                        <td id=\"T_c7e98_row3_col8\" class=\"data row3 col8\" >4.38%</td>\n",
       "                        <td id=\"T_c7e98_row3_col9\" class=\"data row3 col9\" >95.62%</td>\n",
       "            </tr>\n",
       "            <tr>\n",
       "                        <th id=\"T_c7e98_level0_row4\" class=\"row_heading level0 row4\" >4</th>\n",
       "                        <td id=\"T_c7e98_row4_col0\" class=\"data row4 col0\" >-2.000000</td>\n",
       "                        <td id=\"T_c7e98_row4_col1\" class=\"data row4 col1\" >2078</td>\n",
       "                        <td id=\"T_c7e98_row4_col2\" class=\"data row4 col2\" >116543</td>\n",
       "                        <td id=\"T_c7e98_row4_col3\" class=\"data row4 col3\" >2767082</td>\n",
       "                        <td id=\"T_c7e98_row4_col4\" class=\"data row4 col4\" >1</td>\n",
       "                        <td id=\"T_c7e98_row4_col5\" class=\"data row4 col5\" >99.95%</td>\n",
       "                        <td id=\"T_c7e98_row4_col6\" class=\"data row4 col6\" >95.96%</td>\n",
       "                        <td id=\"T_c7e98_row4_col7\" class=\"data row4 col7\" >1.75%</td>\n",
       "                        <td id=\"T_c7e98_row4_col8\" class=\"data row4 col8\" >4.04%</td>\n",
       "                        <td id=\"T_c7e98_row4_col9\" class=\"data row4 col9\" >95.96%</td>\n",
       "            </tr>\n",
       "            <tr>\n",
       "                        <th id=\"T_c7e98_level0_row5\" class=\"row_heading level0 row5\" >5</th>\n",
       "                        <td id=\"T_c7e98_row5_col0\" class=\"data row5 col0\" >-1.500000</td>\n",
       "                        <td id=\"T_c7e98_row5_col1\" class=\"data row5 col1\" >2078</td>\n",
       "                        <td id=\"T_c7e98_row5_col2\" class=\"data row5 col2\" >106313</td>\n",
       "                        <td id=\"T_c7e98_row5_col3\" class=\"data row5 col3\" >2777312</td>\n",
       "                        <td id=\"T_c7e98_row5_col4\" class=\"data row5 col4\" >1</td>\n",
       "                        <td id=\"T_c7e98_row5_col5\" class=\"data row5 col5\" >99.95%</td>\n",
       "                        <td id=\"T_c7e98_row5_col6\" class=\"data row5 col6\" >96.31%</td>\n",
       "                        <td id=\"T_c7e98_row5_col7\" class=\"data row5 col7\" >1.92%</td>\n",
       "                        <td id=\"T_c7e98_row5_col8\" class=\"data row5 col8\" >3.69%</td>\n",
       "                        <td id=\"T_c7e98_row5_col9\" class=\"data row5 col9\" >96.32%</td>\n",
       "            </tr>\n",
       "            <tr>\n",
       "                        <th id=\"T_c7e98_level0_row6\" class=\"row_heading level0 row6\" >6</th>\n",
       "                        <td id=\"T_c7e98_row6_col0\" class=\"data row6 col0\" >-1.000000</td>\n",
       "                        <td id=\"T_c7e98_row6_col1\" class=\"data row6 col1\" >2077</td>\n",
       "                        <td id=\"T_c7e98_row6_col2\" class=\"data row6 col2\" >95651</td>\n",
       "                        <td id=\"T_c7e98_row6_col3\" class=\"data row6 col3\" >2787974</td>\n",
       "                        <td id=\"T_c7e98_row6_col4\" class=\"data row6 col4\" >2</td>\n",
       "                        <td id=\"T_c7e98_row6_col5\" class=\"data row6 col5\" >99.90%</td>\n",
       "                        <td id=\"T_c7e98_row6_col6\" class=\"data row6 col6\" >96.68%</td>\n",
       "                        <td id=\"T_c7e98_row6_col7\" class=\"data row6 col7\" >2.13%</td>\n",
       "                        <td id=\"T_c7e98_row6_col8\" class=\"data row6 col8\" >3.32%</td>\n",
       "                        <td id=\"T_c7e98_row6_col9\" class=\"data row6 col9\" >96.69%</td>\n",
       "            </tr>\n",
       "            <tr>\n",
       "                        <th id=\"T_c7e98_level0_row7\" class=\"row_heading level0 row7\" >7</th>\n",
       "                        <td id=\"T_c7e98_row7_col0\" class=\"data row7 col0\" >-0.500000</td>\n",
       "                        <td id=\"T_c7e98_row7_col1\" class=\"data row7 col1\" >2077</td>\n",
       "                        <td id=\"T_c7e98_row7_col2\" class=\"data row7 col2\" >85901</td>\n",
       "                        <td id=\"T_c7e98_row7_col3\" class=\"data row7 col3\" >2797724</td>\n",
       "                        <td id=\"T_c7e98_row7_col4\" class=\"data row7 col4\" >2</td>\n",
       "                        <td id=\"T_c7e98_row7_col5\" class=\"data row7 col5\" >99.90%</td>\n",
       "                        <td id=\"T_c7e98_row7_col6\" class=\"data row7 col6\" >97.02%</td>\n",
       "                        <td id=\"T_c7e98_row7_col7\" class=\"data row7 col7\" >2.36%</td>\n",
       "                        <td id=\"T_c7e98_row7_col8\" class=\"data row7 col8\" >2.98%</td>\n",
       "                        <td id=\"T_c7e98_row7_col9\" class=\"data row7 col9\" >97.02%</td>\n",
       "            </tr>\n",
       "            <tr>\n",
       "                        <th id=\"T_c7e98_level0_row8\" class=\"row_heading level0 row8\" >8</th>\n",
       "                        <td id=\"T_c7e98_row8_col0\" class=\"data row8 col0\" >0.000000</td>\n",
       "                        <td id=\"T_c7e98_row8_col1\" class=\"data row8 col1\" >2076</td>\n",
       "                        <td id=\"T_c7e98_row8_col2\" class=\"data row8 col2\" >74755</td>\n",
       "                        <td id=\"T_c7e98_row8_col3\" class=\"data row8 col3\" >2808870</td>\n",
       "                        <td id=\"T_c7e98_row8_col4\" class=\"data row8 col4\" >3</td>\n",
       "                        <td id=\"T_c7e98_row8_col5\" class=\"data row8 col5\" >99.86%</td>\n",
       "                        <td id=\"T_c7e98_row8_col6\" class=\"data row8 col6\" >97.41%</td>\n",
       "                        <td id=\"T_c7e98_row8_col7\" class=\"data row8 col7\" >2.70%</td>\n",
       "                        <td id=\"T_c7e98_row8_col8\" class=\"data row8 col8\" >2.59%</td>\n",
       "                        <td id=\"T_c7e98_row8_col9\" class=\"data row8 col9\" >97.41%</td>\n",
       "            </tr>\n",
       "            <tr>\n",
       "                        <th id=\"T_c7e98_level0_row9\" class=\"row_heading level0 row9\" >9</th>\n",
       "                        <td id=\"T_c7e98_row9_col0\" class=\"data row9 col0\" >0.500000</td>\n",
       "                        <td id=\"T_c7e98_row9_col1\" class=\"data row9 col1\" >2075</td>\n",
       "                        <td id=\"T_c7e98_row9_col2\" class=\"data row9 col2\" >63086</td>\n",
       "                        <td id=\"T_c7e98_row9_col3\" class=\"data row9 col3\" >2820539</td>\n",
       "                        <td id=\"T_c7e98_row9_col4\" class=\"data row9 col4\" >4</td>\n",
       "                        <td id=\"T_c7e98_row9_col5\" class=\"data row9 col5\" >99.81%</td>\n",
       "                        <td id=\"T_c7e98_row9_col6\" class=\"data row9 col6\" >97.81%</td>\n",
       "                        <td id=\"T_c7e98_row9_col7\" class=\"data row9 col7\" >3.18%</td>\n",
       "                        <td id=\"T_c7e98_row9_col8\" class=\"data row9 col8\" >2.19%</td>\n",
       "                        <td id=\"T_c7e98_row9_col9\" class=\"data row9 col9\" >97.81%</td>\n",
       "            </tr>\n",
       "            <tr>\n",
       "                        <th id=\"T_c7e98_level0_row10\" class=\"row_heading level0 row10\" >10</th>\n",
       "                        <td id=\"T_c7e98_row10_col0\" class=\"data row10 col0\" >1.000000</td>\n",
       "                        <td id=\"T_c7e98_row10_col1\" class=\"data row10 col1\" >2071</td>\n",
       "                        <td id=\"T_c7e98_row10_col2\" class=\"data row10 col2\" >51156</td>\n",
       "                        <td id=\"T_c7e98_row10_col3\" class=\"data row10 col3\" >2832469</td>\n",
       "                        <td id=\"T_c7e98_row10_col4\" class=\"data row10 col4\" >8</td>\n",
       "                        <td id=\"T_c7e98_row10_col5\" class=\"data row10 col5\" >99.62%</td>\n",
       "                        <td id=\"T_c7e98_row10_col6\" class=\"data row10 col6\" >98.23%</td>\n",
       "                        <td id=\"T_c7e98_row10_col7\" class=\"data row10 col7\" >3.89%</td>\n",
       "                        <td id=\"T_c7e98_row10_col8\" class=\"data row10 col8\" >1.77%</td>\n",
       "                        <td id=\"T_c7e98_row10_col9\" class=\"data row10 col9\" >98.23%</td>\n",
       "            </tr>\n",
       "            <tr>\n",
       "                        <th id=\"T_c7e98_level0_row11\" class=\"row_heading level0 row11\" >11</th>\n",
       "                        <td id=\"T_c7e98_row11_col0\" class=\"data row11 col0\" >1.500000</td>\n",
       "                        <td id=\"T_c7e98_row11_col1\" class=\"data row11 col1\" >2067</td>\n",
       "                        <td id=\"T_c7e98_row11_col2\" class=\"data row11 col2\" >40031</td>\n",
       "                        <td id=\"T_c7e98_row11_col3\" class=\"data row11 col3\" >2843594</td>\n",
       "                        <td id=\"T_c7e98_row11_col4\" class=\"data row11 col4\" >12</td>\n",
       "                        <td id=\"T_c7e98_row11_col5\" class=\"data row11 col5\" >99.42%</td>\n",
       "                        <td id=\"T_c7e98_row11_col6\" class=\"data row11 col6\" >98.61%</td>\n",
       "                        <td id=\"T_c7e98_row11_col7\" class=\"data row11 col7\" >4.91%</td>\n",
       "                        <td id=\"T_c7e98_row11_col8\" class=\"data row11 col8\" >1.39%</td>\n",
       "                        <td id=\"T_c7e98_row11_col9\" class=\"data row11 col9\" >98.61%</td>\n",
       "            </tr>\n",
       "            <tr>\n",
       "                        <th id=\"T_c7e98_level0_row12\" class=\"row_heading level0 row12\" >12</th>\n",
       "                        <td id=\"T_c7e98_row12_col0\" class=\"data row12 col0\" >2.000000</td>\n",
       "                        <td id=\"T_c7e98_row12_col1\" class=\"data row12 col1\" >2058</td>\n",
       "                        <td id=\"T_c7e98_row12_col2\" class=\"data row12 col2\" >29109</td>\n",
       "                        <td id=\"T_c7e98_row12_col3\" class=\"data row12 col3\" >2854516</td>\n",
       "                        <td id=\"T_c7e98_row12_col4\" class=\"data row12 col4\" >21</td>\n",
       "                        <td id=\"T_c7e98_row12_col5\" class=\"data row12 col5\" >98.99%</td>\n",
       "                        <td id=\"T_c7e98_row12_col6\" class=\"data row12 col6\" >98.99%</td>\n",
       "                        <td id=\"T_c7e98_row12_col7\" class=\"data row12 col7\" >6.60%</td>\n",
       "                        <td id=\"T_c7e98_row12_col8\" class=\"data row12 col8\" >1.01%</td>\n",
       "                        <td id=\"T_c7e98_row12_col9\" class=\"data row12 col9\" >98.99%</td>\n",
       "            </tr>\n",
       "            <tr>\n",
       "                        <th id=\"T_c7e98_level0_row13\" class=\"row_heading level0 row13\" >13</th>\n",
       "                        <td id=\"T_c7e98_row13_col0\" class=\"data row13 col0\" >2.500000</td>\n",
       "                        <td id=\"T_c7e98_row13_col1\" class=\"data row13 col1\" >2044</td>\n",
       "                        <td id=\"T_c7e98_row13_col2\" class=\"data row13 col2\" >21434</td>\n",
       "                        <td id=\"T_c7e98_row13_col3\" class=\"data row13 col3\" >2862191</td>\n",
       "                        <td id=\"T_c7e98_row13_col4\" class=\"data row13 col4\" >35</td>\n",
       "                        <td id=\"T_c7e98_row13_col5\" class=\"data row13 col5\" >98.32%</td>\n",
       "                        <td id=\"T_c7e98_row13_col6\" class=\"data row13 col6\" >99.26%</td>\n",
       "                        <td id=\"T_c7e98_row13_col7\" class=\"data row13 col7\" >8.71%</td>\n",
       "                        <td id=\"T_c7e98_row13_col8\" class=\"data row13 col8\" >0.74%</td>\n",
       "                        <td id=\"T_c7e98_row13_col9\" class=\"data row13 col9\" >99.26%</td>\n",
       "            </tr>\n",
       "            <tr>\n",
       "                        <th id=\"T_c7e98_level0_row14\" class=\"row_heading level0 row14\" >14</th>\n",
       "                        <td id=\"T_c7e98_row14_col0\" class=\"data row14 col0\" >3.000000</td>\n",
       "                        <td id=\"T_c7e98_row14_col1\" class=\"data row14 col1\" >1998</td>\n",
       "                        <td id=\"T_c7e98_row14_col2\" class=\"data row14 col2\" >15499</td>\n",
       "                        <td id=\"T_c7e98_row14_col3\" class=\"data row14 col3\" >2868126</td>\n",
       "                        <td id=\"T_c7e98_row14_col4\" class=\"data row14 col4\" >81</td>\n",
       "                        <td id=\"T_c7e98_row14_col5\" class=\"data row14 col5\" >96.10%</td>\n",
       "                        <td id=\"T_c7e98_row14_col6\" class=\"data row14 col6\" >99.46%</td>\n",
       "                        <td id=\"T_c7e98_row14_col7\" class=\"data row14 col7\" >11.42%</td>\n",
       "                        <td id=\"T_c7e98_row14_col8\" class=\"data row14 col8\" >0.54%</td>\n",
       "                        <td id=\"T_c7e98_row14_col9\" class=\"data row14 col9\" >99.46%</td>\n",
       "            </tr>\n",
       "            <tr>\n",
       "                        <th id=\"T_c7e98_level0_row15\" class=\"row_heading level0 row15\" >15</th>\n",
       "                        <td id=\"T_c7e98_row15_col0\" class=\"data row15 col0\" >3.500000</td>\n",
       "                        <td id=\"T_c7e98_row15_col1\" class=\"data row15 col1\" >1953</td>\n",
       "                        <td id=\"T_c7e98_row15_col2\" class=\"data row15 col2\" >11127</td>\n",
       "                        <td id=\"T_c7e98_row15_col3\" class=\"data row15 col3\" >2872498</td>\n",
       "                        <td id=\"T_c7e98_row15_col4\" class=\"data row15 col4\" >126</td>\n",
       "                        <td id=\"T_c7e98_row15_col5\" class=\"data row15 col5\" >93.94%</td>\n",
       "                        <td id=\"T_c7e98_row15_col6\" class=\"data row15 col6\" >99.61%</td>\n",
       "                        <td id=\"T_c7e98_row15_col7\" class=\"data row15 col7\" >14.93%</td>\n",
       "                        <td id=\"T_c7e98_row15_col8\" class=\"data row15 col8\" >0.39%</td>\n",
       "                        <td id=\"T_c7e98_row15_col9\" class=\"data row15 col9\" >99.61%</td>\n",
       "            </tr>\n",
       "            <tr>\n",
       "                        <th id=\"T_c7e98_level0_row16\" class=\"row_heading level0 row16\" >16</th>\n",
       "                        <td id=\"T_c7e98_row16_col0\" class=\"data row16 col0\" >4.000000</td>\n",
       "                        <td id=\"T_c7e98_row16_col1\" class=\"data row16 col1\" >1885</td>\n",
       "                        <td id=\"T_c7e98_row16_col2\" class=\"data row16 col2\" >8080</td>\n",
       "                        <td id=\"T_c7e98_row16_col3\" class=\"data row16 col3\" >2875545</td>\n",
       "                        <td id=\"T_c7e98_row16_col4\" class=\"data row16 col4\" >194</td>\n",
       "                        <td id=\"T_c7e98_row16_col5\" class=\"data row16 col5\" >90.67%</td>\n",
       "                        <td id=\"T_c7e98_row16_col6\" class=\"data row16 col6\" >99.72%</td>\n",
       "                        <td id=\"T_c7e98_row16_col7\" class=\"data row16 col7\" >18.92%</td>\n",
       "                        <td id=\"T_c7e98_row16_col8\" class=\"data row16 col8\" >0.28%</td>\n",
       "                        <td id=\"T_c7e98_row16_col9\" class=\"data row16 col9\" >99.71%</td>\n",
       "            </tr>\n",
       "            <tr>\n",
       "                        <th id=\"T_c7e98_level0_row17\" class=\"row_heading level0 row17\" >17</th>\n",
       "                        <td id=\"T_c7e98_row17_col0\" class=\"data row17 col0\" >4.500000</td>\n",
       "                        <td id=\"T_c7e98_row17_col1\" class=\"data row17 col1\" >1719</td>\n",
       "                        <td id=\"T_c7e98_row17_col2\" class=\"data row17 col2\" >4880</td>\n",
       "                        <td id=\"T_c7e98_row17_col3\" class=\"data row17 col3\" >2878745</td>\n",
       "                        <td id=\"T_c7e98_row17_col4\" class=\"data row17 col4\" >360</td>\n",
       "                        <td id=\"T_c7e98_row17_col5\" class=\"data row17 col5\" >82.68%</td>\n",
       "                        <td id=\"T_c7e98_row17_col6\" class=\"data row17 col6\" >99.83%</td>\n",
       "                        <td id=\"T_c7e98_row17_col7\" class=\"data row17 col7\" >26.05%</td>\n",
       "                        <td id=\"T_c7e98_row17_col8\" class=\"data row17 col8\" >0.17%</td>\n",
       "                        <td id=\"T_c7e98_row17_col9\" class=\"data row17 col9\" >99.82%</td>\n",
       "            </tr>\n",
       "            <tr>\n",
       "                        <th id=\"T_c7e98_level0_row18\" class=\"row_heading level0 row18\" >18</th>\n",
       "                        <td id=\"T_c7e98_row18_col0\" class=\"data row18 col0\" >5.000000</td>\n",
       "                        <td id=\"T_c7e98_row18_col1\" class=\"data row18 col1\" >1487</td>\n",
       "                        <td id=\"T_c7e98_row18_col2\" class=\"data row18 col2\" >2986</td>\n",
       "                        <td id=\"T_c7e98_row18_col3\" class=\"data row18 col3\" >2880639</td>\n",
       "                        <td id=\"T_c7e98_row18_col4\" class=\"data row18 col4\" >592</td>\n",
       "                        <td id=\"T_c7e98_row18_col5\" class=\"data row18 col5\" >71.52%</td>\n",
       "                        <td id=\"T_c7e98_row18_col6\" class=\"data row18 col6\" >99.90%</td>\n",
       "                        <td id=\"T_c7e98_row18_col7\" class=\"data row18 col7\" >33.24%</td>\n",
       "                        <td id=\"T_c7e98_row18_col8\" class=\"data row18 col8\" >0.10%</td>\n",
       "                        <td id=\"T_c7e98_row18_col9\" class=\"data row18 col9\" >99.88%</td>\n",
       "            </tr>\n",
       "            <tr>\n",
       "                        <th id=\"T_c7e98_level0_row19\" class=\"row_heading level0 row19\" >19</th>\n",
       "                        <td id=\"T_c7e98_row19_col0\" class=\"data row19 col0\" >5.500000</td>\n",
       "                        <td id=\"T_c7e98_row19_col1\" class=\"data row19 col1\" >1299</td>\n",
       "                        <td id=\"T_c7e98_row19_col2\" class=\"data row19 col2\" >1759</td>\n",
       "                        <td id=\"T_c7e98_row19_col3\" class=\"data row19 col3\" >2881866</td>\n",
       "                        <td id=\"T_c7e98_row19_col4\" class=\"data row19 col4\" >780</td>\n",
       "                        <td id=\"T_c7e98_row19_col5\" class=\"data row19 col5\" >62.48%</td>\n",
       "                        <td id=\"T_c7e98_row19_col6\" class=\"data row19 col6\" >99.94%</td>\n",
       "                        <td id=\"T_c7e98_row19_col7\" class=\"data row19 col7\" >42.48%</td>\n",
       "                        <td id=\"T_c7e98_row19_col8\" class=\"data row19 col8\" >0.06%</td>\n",
       "                        <td id=\"T_c7e98_row19_col9\" class=\"data row19 col9\" >99.91%</td>\n",
       "            </tr>\n",
       "            <tr>\n",
       "                        <th id=\"T_c7e98_level0_row20\" class=\"row_heading level0 row20\" >20</th>\n",
       "                        <td id=\"T_c7e98_row20_col0\" class=\"data row20 col0\" >6.000000</td>\n",
       "                        <td id=\"T_c7e98_row20_col1\" class=\"data row20 col1\" >974</td>\n",
       "                        <td id=\"T_c7e98_row20_col2\" class=\"data row20 col2\" >946</td>\n",
       "                        <td id=\"T_c7e98_row20_col3\" class=\"data row20 col3\" >2882679</td>\n",
       "                        <td id=\"T_c7e98_row20_col4\" class=\"data row20 col4\" >1105</td>\n",
       "                        <td id=\"T_c7e98_row20_col5\" class=\"data row20 col5\" >46.85%</td>\n",
       "                        <td id=\"T_c7e98_row20_col6\" class=\"data row20 col6\" >99.97%</td>\n",
       "                        <td id=\"T_c7e98_row20_col7\" class=\"data row20 col7\" >50.73%</td>\n",
       "                        <td id=\"T_c7e98_row20_col8\" class=\"data row20 col8\" >0.03%</td>\n",
       "                        <td id=\"T_c7e98_row20_col9\" class=\"data row20 col9\" >99.93%</td>\n",
       "            </tr>\n",
       "            <tr>\n",
       "                        <th id=\"T_c7e98_level0_row21\" class=\"row_heading level0 row21\" >21</th>\n",
       "                        <td id=\"T_c7e98_row21_col0\" class=\"data row21 col0\" >6.500000</td>\n",
       "                        <td id=\"T_c7e98_row21_col1\" class=\"data row21 col1\" >794</td>\n",
       "                        <td id=\"T_c7e98_row21_col2\" class=\"data row21 col2\" >680</td>\n",
       "                        <td id=\"T_c7e98_row21_col3\" class=\"data row21 col3\" >2882945</td>\n",
       "                        <td id=\"T_c7e98_row21_col4\" class=\"data row21 col4\" >1285</td>\n",
       "                        <td id=\"T_c7e98_row21_col5\" class=\"data row21 col5\" >38.19%</td>\n",
       "                        <td id=\"T_c7e98_row21_col6\" class=\"data row21 col6\" >99.98%</td>\n",
       "                        <td id=\"T_c7e98_row21_col7\" class=\"data row21 col7\" >53.87%</td>\n",
       "                        <td id=\"T_c7e98_row21_col8\" class=\"data row21 col8\" >0.02%</td>\n",
       "                        <td id=\"T_c7e98_row21_col9\" class=\"data row21 col9\" >99.93%</td>\n",
       "            </tr>\n",
       "            <tr>\n",
       "                        <th id=\"T_c7e98_level0_row22\" class=\"row_heading level0 row22\" >22</th>\n",
       "                        <td id=\"T_c7e98_row22_col0\" class=\"data row22 col0\" >7.000000</td>\n",
       "                        <td id=\"T_c7e98_row22_col1\" class=\"data row22 col1\" >555</td>\n",
       "                        <td id=\"T_c7e98_row22_col2\" class=\"data row22 col2\" >368</td>\n",
       "                        <td id=\"T_c7e98_row22_col3\" class=\"data row22 col3\" >2883257</td>\n",
       "                        <td id=\"T_c7e98_row22_col4\" class=\"data row22 col4\" >1524</td>\n",
       "                        <td id=\"T_c7e98_row22_col5\" class=\"data row22 col5\" >26.70%</td>\n",
       "                        <td id=\"T_c7e98_row22_col6\" class=\"data row22 col6\" >99.99%</td>\n",
       "                        <td id=\"T_c7e98_row22_col7\" class=\"data row22 col7\" >60.13%</td>\n",
       "                        <td id=\"T_c7e98_row22_col8\" class=\"data row22 col8\" >0.01%</td>\n",
       "                        <td id=\"T_c7e98_row22_col9\" class=\"data row22 col9\" >99.93%</td>\n",
       "            </tr>\n",
       "            <tr>\n",
       "                        <th id=\"T_c7e98_level0_row23\" class=\"row_heading level0 row23\" >23</th>\n",
       "                        <td id=\"T_c7e98_row23_col0\" class=\"data row23 col0\" >7.500000</td>\n",
       "                        <td id=\"T_c7e98_row23_col1\" class=\"data row23 col1\" >277</td>\n",
       "                        <td id=\"T_c7e98_row23_col2\" class=\"data row23 col2\" >125</td>\n",
       "                        <td id=\"T_c7e98_row23_col3\" class=\"data row23 col3\" >2883500</td>\n",
       "                        <td id=\"T_c7e98_row23_col4\" class=\"data row23 col4\" >1802</td>\n",
       "                        <td id=\"T_c7e98_row23_col5\" class=\"data row23 col5\" >13.32%</td>\n",
       "                        <td id=\"T_c7e98_row23_col6\" class=\"data row23 col6\" >100.00%</td>\n",
       "                        <td id=\"T_c7e98_row23_col7\" class=\"data row23 col7\" >68.91%</td>\n",
       "                        <td id=\"T_c7e98_row23_col8\" class=\"data row23 col8\" >0.00%</td>\n",
       "                        <td id=\"T_c7e98_row23_col9\" class=\"data row23 col9\" >99.93%</td>\n",
       "            </tr>\n",
       "            <tr>\n",
       "                        <th id=\"T_c7e98_level0_row24\" class=\"row_heading level0 row24\" >24</th>\n",
       "                        <td id=\"T_c7e98_row24_col0\" class=\"data row24 col0\" >8.000000</td>\n",
       "                        <td id=\"T_c7e98_row24_col1\" class=\"data row24 col1\" >139</td>\n",
       "                        <td id=\"T_c7e98_row24_col2\" class=\"data row24 col2\" >72</td>\n",
       "                        <td id=\"T_c7e98_row24_col3\" class=\"data row24 col3\" >2883553</td>\n",
       "                        <td id=\"T_c7e98_row24_col4\" class=\"data row24 col4\" >1940</td>\n",
       "                        <td id=\"T_c7e98_row24_col5\" class=\"data row24 col5\" >6.69%</td>\n",
       "                        <td id=\"T_c7e98_row24_col6\" class=\"data row24 col6\" >100.00%</td>\n",
       "                        <td id=\"T_c7e98_row24_col7\" class=\"data row24 col7\" >65.88%</td>\n",
       "                        <td id=\"T_c7e98_row24_col8\" class=\"data row24 col8\" >0.00%</td>\n",
       "                        <td id=\"T_c7e98_row24_col9\" class=\"data row24 col9\" >99.93%</td>\n",
       "            </tr>\n",
       "            <tr>\n",
       "                        <th id=\"T_c7e98_level0_row25\" class=\"row_heading level0 row25\" >25</th>\n",
       "                        <td id=\"T_c7e98_row25_col0\" class=\"data row25 col0\" >8.500000</td>\n",
       "                        <td id=\"T_c7e98_row25_col1\" class=\"data row25 col1\" >55</td>\n",
       "                        <td id=\"T_c7e98_row25_col2\" class=\"data row25 col2\" >40</td>\n",
       "                        <td id=\"T_c7e98_row25_col3\" class=\"data row25 col3\" >2883585</td>\n",
       "                        <td id=\"T_c7e98_row25_col4\" class=\"data row25 col4\" >2024</td>\n",
       "                        <td id=\"T_c7e98_row25_col5\" class=\"data row25 col5\" >2.65%</td>\n",
       "                        <td id=\"T_c7e98_row25_col6\" class=\"data row25 col6\" >100.00%</td>\n",
       "                        <td id=\"T_c7e98_row25_col7\" class=\"data row25 col7\" >57.89%</td>\n",
       "                        <td id=\"T_c7e98_row25_col8\" class=\"data row25 col8\" >0.00%</td>\n",
       "                        <td id=\"T_c7e98_row25_col9\" class=\"data row25 col9\" >99.93%</td>\n",
       "            </tr>\n",
       "            <tr>\n",
       "                        <th id=\"T_c7e98_level0_row26\" class=\"row_heading level0 row26\" >26</th>\n",
       "                        <td id=\"T_c7e98_row26_col0\" class=\"data row26 col0\" >9.000000</td>\n",
       "                        <td id=\"T_c7e98_row26_col1\" class=\"data row26 col1\" >0</td>\n",
       "                        <td id=\"T_c7e98_row26_col2\" class=\"data row26 col2\" >0</td>\n",
       "                        <td id=\"T_c7e98_row26_col3\" class=\"data row26 col3\" >2883625</td>\n",
       "                        <td id=\"T_c7e98_row26_col4\" class=\"data row26 col4\" >2079</td>\n",
       "                        <td id=\"T_c7e98_row26_col5\" class=\"data row26 col5\" >0.00%</td>\n",
       "                        <td id=\"T_c7e98_row26_col6\" class=\"data row26 col6\" >100.00%</td>\n",
       "                        <td id=\"T_c7e98_row26_col7\" class=\"data row26 col7\" >nan%</td>\n",
       "                        <td id=\"T_c7e98_row26_col8\" class=\"data row26 col8\" >0.00%</td>\n",
       "                        <td id=\"T_c7e98_row26_col9\" class=\"data row26 col9\" >99.93%</td>\n",
       "            </tr>\n",
       "            <tr>\n",
       "                        <th id=\"T_c7e98_level0_row27\" class=\"row_heading level0 row27\" >27</th>\n",
       "                        <td id=\"T_c7e98_row27_col0\" class=\"data row27 col0\" >9.500000</td>\n",
       "                        <td id=\"T_c7e98_row27_col1\" class=\"data row27 col1\" >0</td>\n",
       "                        <td id=\"T_c7e98_row27_col2\" class=\"data row27 col2\" >0</td>\n",
       "                        <td id=\"T_c7e98_row27_col3\" class=\"data row27 col3\" >2883625</td>\n",
       "                        <td id=\"T_c7e98_row27_col4\" class=\"data row27 col4\" >2079</td>\n",
       "                        <td id=\"T_c7e98_row27_col5\" class=\"data row27 col5\" >0.00%</td>\n",
       "                        <td id=\"T_c7e98_row27_col6\" class=\"data row27 col6\" >100.00%</td>\n",
       "                        <td id=\"T_c7e98_row27_col7\" class=\"data row27 col7\" >nan%</td>\n",
       "                        <td id=\"T_c7e98_row27_col8\" class=\"data row27 col8\" >0.00%</td>\n",
       "                        <td id=\"T_c7e98_row27_col9\" class=\"data row27 col9\" >99.93%</td>\n",
       "            </tr>\n",
       "    </tbody></table>"
      ],
      "text/plain": [
       "<pandas.io.formats.style.Styler at 0x1cb802b1790>"
      ]
     },
     "execution_count": 69,
     "metadata": {},
     "output_type": "execute_result"
    }
   ],
   "source": [
    "format_dict = {'Sn':'{:.2%}', 'Sp':'{:.2%}', 'Precision':'{:.2%}','FPR':'{:.2%}','Acc':'{:.2%}'}\n",
    "(df_all_threshold.style\n",
    "              .format(format_dict)\n",
    "              .bar(color='#FFA07A', vmin=0,subset=['Sn'], align='zero')\n",
    "              .bar(color='lightgreen', vmin=0, subset=['Precision'], align='zero')\n",
    "            .bar(color='#2196f3', vmin=0, subset=['Sp'], align='zero')\n",
    " .bar(color='#375c7c', vmin=0, subset=['FPR'], align='zero')\n",
    "  .bar(color='#ffcdd2', vmin=0, subset=['Acc'], align='zero')\n",
    ")\n"
   ]
  },
  {
   "cell_type": "code",
   "execution_count": 70,
   "id": "79c40efc-a2dc-4296-97b1-e73d3f21dd07",
   "metadata": {},
   "outputs": [
    {
     "data": {
      "text/plain": [
       "6.8726889762975425"
      ]
     },
     "execution_count": 70,
     "metadata": {},
     "output_type": "execute_result"
    }
   ],
   "source": [
    "cal_WAM(\"aaggtaggc\")\n",
    "cal_WAM(\"agggtgagt\")"
   ]
  },
  {
   "cell_type": "code",
   "execution_count": 71,
   "id": "5e5a4687",
   "metadata": {},
   "outputs": [],
   "source": [
    "df_all_threshold = df_all_threshold.set_index(\"Threshold\",drop=True)"
   ]
  },
  {
   "cell_type": "code",
   "execution_count": 73,
   "id": "0ca50a67",
   "metadata": {},
   "outputs": [
    {
     "data": {
      "text/plain": [
       "<Figure size 432x288 with 0 Axes>"
      ]
     },
     "metadata": {},
     "output_type": "display_data"
    },
    {
     "data": {
      "image/png": "[encoded data removed]",
      "text/plain": [
       "<Figure size 720x576 with 1 Axes>"
      ]
     },
     "metadata": {},
     "output_type": "display_data"
    }
   ],
   "source": [
    "# plt.plot(list(threshold_range),,label=\"Sn\",color='blue',lw=1.5,)\n",
    "# plt.plot(ldf_all_threshold ist(threshold_range),,label=\"Sp\",color='red',lw=1.5)\n",
    "\n",
    "def draw_tendancy(df_all_threshold,cols=[]):\n",
    "    sns.set_context(\"poster\",font_scale=0.7)\n",
    "    # sns.set_style(\"ticks\")\n",
    "    sns.despine()\n",
    "    f,ax = plt.subplots(figsize=(10,8))\n",
    "    sns.set(style=\"darkgrid\") # sns.set(style=\"white\")\n",
    "    sns.lineplot(data=[df_all_threshold[col] for col in cols],palette=\"tab10\",ax = ax)\n",
    "    # ax = sns.lineplot(x=\"Threshold\",y=\"Precision\",data=df_all_threshold,palette=\"tab10\")\n",
    "    plt.xticks( np.arange(-4, 10,0.5),rotation=45,fontsize=12)\n",
    "    ax.set_yticks( np.arange(0, 1.1, 0.1))\n",
    "    plt.xlim([-4.3,10.3])\n",
    "    ax.grid(True,linestyle = \"-.\",color = 'gray' ,linewidth = '0.5',alpha=0.4)\n",
    "    ax.set_ylabel(\"Value\")\n",
    "    ax.legend(labels=cols,fontsize=16)\n",
    "    if len(cols) == 2:\n",
    "        plt.title(f\"{cols[0]} vs {cols[1]}\",fontsize=20)\n",
    "        plt.savefig(f\"predict/{cols[0]} vs {cols[1]}.png\",dpi=400)\n",
    "    elif len(cols) == 1:\n",
    "        plt.title(f\"{cols[0]}\",fontsize=20)\n",
    "        plt.savefig(f\"predict/{cols[0]}.png\",dpi=400)  \n",
    "draw_tendancy(df_all_threshold,cols=[\"Sn\",\"Precision\"])"
   ]
  },
  {
   "cell_type": "code",
   "execution_count": 81,
   "id": "ec61c8c2-22cb-4293-8242-e54036200c89",
   "metadata": {},
   "outputs": [
    {
     "data": {
      "text/plain": [
       "<Figure size 432x288 with 0 Axes>"
      ]
     },
     "metadata": {},
     "output_type": "display_data"
    },
    {
     "data": {
      "image/png": "[encoded data removed]",
      "text/plain": [
       "<Figure size 720x576 with 1 Axes>"
      ]
     },
     "metadata": {},
     "output_type": "display_data"
    }
   ],
   "source": [
    "draw_tendancy(df_all_threshold,cols=[\"Sn\",\"Precision\"])"
   ]
  },
  {
   "cell_type": "code",
   "execution_count": 75,
   "id": "3c30bc6d-6632-41ed-ad6a-472d9a5d17cb",
   "metadata": {},
   "outputs": [
    {
     "data": {
      "text/plain": [
       "1.5"
      ]
     },
     "execution_count": 75,
     "metadata": {},
     "output_type": "execute_result"
    }
   ],
   "source": [
    "df_TPR_FPR=df_all_threshold[\"Sn\"]-df_all_threshold[\"FPR\"]\n",
    "df_TPR_FPR.idxmax()"
   ]
  },
  {
   "cell_type": "code",
   "execution_count": 79,
   "id": "30623325-9401-49a9-a735-409e06a95609",
   "metadata": {},
   "outputs": [
    {
     "data": {
      "text/plain": [
       "0.97263303132825"
      ]
     },
     "execution_count": 79,
     "metadata": {},
     "output_type": "execute_result"
    }
   ],
   "source": [
    "df_TPR_FPR"
   ]
  },
  {
   "cell_type": "code",
   "execution_count": 82,
   "id": "7c7e4d39-f9b1-4d4a-a9cd-836599b5e2cf",
   "metadata": {},
   "outputs": [
    {
     "data": {
      "text/plain": [
       "<Figure size 432x288 with 0 Axes>"
      ]
     },
     "metadata": {},
     "output_type": "display_data"
    },
    {
     "data": {
      "image/png": "[encoded data removed]",
      "text/plain": [
       "<Figure size 720x576 with 1 Axes>"
      ]
     },
     "metadata": {},
     "output_type": "display_data"
    }
   ],
   "source": [
    "\n",
    "sns.set_context(\"poster\",font_scale=0.7)\n",
    "# sns.set_style(\"ticks\")\n",
    "sns.despine()\n",
    "f,ax = plt.subplots(figsize=(10,8))\n",
    "sns.set(style=\"darkgrid\") # sns.set(style=\"white\")\n",
    "sns.lineplot(data=df_TPR_FPR,color=\"#57d3db\",ax = ax)\n",
    "# ax = sns.lineplot(x=\"Threshold\",y=\"Precision\",data=df_all_threshold,palette=\"tab10\")\n",
    "plt.xticks( np.arange(-4, 10,0.5),rotation=45,fontsize=12)\n",
    "ax.set_yticks( np.arange(0, 1.2, 0.1))\n",
    "ax.grid(True,linestyle = \"-.\",color = 'gray' ,linewidth = '0.5',alpha=0.4)\n",
    "ax.set_ylabel(\"Value\")\n",
    "# ax.legend(labels=[\"Sn+Precision\"],fontsize=16)\n",
    "plt.title(\"Sn - FPR\",fontsize=20)\n",
    "plt.savefig(f\"predict/Sn -FPR-left{left}-right{right}.png\",dpi=400)"
   ]
  },
  {
   "cell_type": "code",
   "execution_count": 83,
   "id": "a139bc8f-b417-45bb-b5e7-04c8211ed9b7",
   "metadata": {},
   "outputs": [],
   "source": [
    "df_eval=df_all_threshold[\"Sn\"]+df_all_threshold[\"Precision\"]"
   ]
  },
  {
   "cell_type": "code",
   "execution_count": 85,
   "id": "89a403b0-f46e-4fd4-922f-30496e8b7609",
   "metadata": {},
   "outputs": [
    {
     "data": {
      "text/plain": [
       "<Figure size 432x288 with 0 Axes>"
      ]
     },
     "metadata": {},
     "output_type": "display_data"
    },
    {
     "data": {
      "image/png": "[encoded data removed]",
      "text/plain": [
       "<Figure size 720x576 with 1 Axes>"
      ]
     },
     "metadata": {},
     "output_type": "display_data"
    }
   ],
   "source": [
    "sns.set_context(\"poster\",font_scale=0.7)\n",
    "# sns.set_style(\"ticks\")\n",
    "sns.despine()\n",
    "f,ax = plt.subplots(figsize=(10,8))\n",
    "sns.set(style=\"darkgrid\") # sns.set(style=\"white\")\n",
    "sns.lineplot(data=df_all_threshold[\"Acc\"],color=\"g\",ax = ax)\n",
    "# ax = sns.lineplot(x=\"Threshold\",y=\"Precision\",data=df_all_threshold,palette=\"tab10\")\n",
    "plt.xticks( np.arange(-4, 10,0.5),rotation=45,fontsize=12)\n",
    "ax.set_yticks( np.arange(0, 1.2, 0.1))\n",
    "ax.grid(True,linestyle = \"-.\",color = 'gray' ,linewidth = '0.5',alpha=0.4)\n",
    "ax.set_ylabel(\"Value\")\n",
    "# ax.legend(labels=[\"Sn+Precision\"],fontsize=16)\n",
    "plt.title(\"Accuracy\",fontsize=20)\n",
    "plt.savefig(f\"predict/Acc-left{left}-right{right}.png\",dpi=400)"
   ]
  },
  {
   "cell_type": "code",
   "execution_count": 86,
   "id": "27b155d3-e483-48ca-a49d-a527e19198ae",
   "metadata": {},
   "outputs": [
    {
     "data": {
      "text/plain": [
       "<Figure size 432x288 with 0 Axes>"
      ]
     },
     "metadata": {},
     "output_type": "display_data"
    },
    {
     "data": {
      "image/png": "[encoded data removed]",
      "text/plain": [
       "<Figure size 720x576 with 1 Axes>"
      ]
     },
     "metadata": {},
     "output_type": "display_data"
    }
   ],
   "source": [
    "sns.set_context(\"poster\",font_scale=0.7)\n",
    "# sns.set_style(\"ticks\")\n",
    "sns.despine()\n",
    "f,ax = plt.subplots(figsize=(10,8))\n",
    "sns.set(style=\"darkgrid\") # sns.set(style=\"white\")\n",
    "sns.lineplot(data=df_eval,color=\"r\",ax = ax)\n",
    "# ax = sns.lineplot(x=\"Threshold\",y=\"Precision\",data=df_all_threshold,palette=\"tab10\")\n",
    "plt.xticks( np.arange(-4, 10,0.5),rotation=45,fontsize=12)\n",
    "ax.set_yticks( np.arange(0, 1.1, 0.1))\n",
    "ax.grid(True,linestyle = \"-.\",color = 'gray' ,linewidth = '0.5',alpha=0.4)\n",
    "ax.set_ylabel(\"Value\")\n",
    "# ax.legend(labels=[\"Sn+Precision\"],fontsize=16)\n",
    "plt.title(\"Sn+Precision\",fontsize=20)\n",
    "plt.savefig(f\"predict/Sn+Precision-left{left}-right{right}.png\",dpi=400)"
   ]
  },
  {
   "cell_type": "code",
   "execution_count": 87,
   "id": "e7cfe71a-82da-406b-9a9a-6233ad40014e",
   "metadata": {},
   "outputs": [],
   "source": [
    "TPR= list(df_all_threshold[\"Sn\"])\n",
    "FPR = list(df_all_threshold[\"FPR\"])"
   ]
  },
  {
   "cell_type": "markdown",
   "id": "a7fc95c8-2b7e-4b82-b295-1ab26c7baab5",
   "metadata": {},
   "source": [
    "阈值1.5的时候，TPR-FPR最大！"
   ]
  },
  {
   "cell_type": "code",
   "execution_count": null,
   "id": "bfcfdef8-ad44-4a51-a4b9-2acd883566c8",
   "metadata": {},
   "outputs": [],
   "source": []
  },
  {
   "cell_type": "code",
   "execution_count": 88,
   "id": "72cd0b4f-42b2-430a-b719-d8d051502a4a",
   "metadata": {},
   "outputs": [
    {
     "data": {
      "text/plain": [
       "1.5"
      ]
     },
     "execution_count": 88,
     "metadata": {},
     "output_type": "execute_result"
    }
   ],
   "source": [
    "eva=df_all_threshold[\"Sn\"]-df_all_threshold[\"FPR\"]\n",
    "eva.max() # 获取最大值\n",
    "eva.idxmax() # series 获取最大索引"
   ]
  },
  {
   "cell_type": "code",
   "execution_count": 89,
   "id": "3f5fb411-732f-4dbf-ba11-d615c60138b9",
   "metadata": {},
   "outputs": [
    {
     "data": {
      "image/png": "[encoded data removed]",
      "text/plain": [
       "<Figure size 432x288 with 1 Axes>"
      ]
     },
     "metadata": {},
     "output_type": "display_data"
    }
   ],
   "source": [
    "from sklearn.metrics import roc_curve,auc\n",
    "#AUC值计算\n",
    "AUC=auc(FPR,TPR)\n",
    "#ROC曲线绘制\n",
    "plt.figure()\n",
    "plt.title('ROC CURVE (AUC={:.2f})'.format(AUC))\n",
    "plt.xlabel('False Positive Rate')\n",
    "plt.ylabel('True Positive Rate')\n",
    "plt.xlim([-0.05,1.0])\n",
    "plt.ylim([0.0,1.05])\n",
    "plt.plot(FPR,TPR,color='g')\n",
    "plt.plot([0, 1], [0, 1], color='m', linestyle='--')\n",
    "# plt.show()\n",
    "plt.savefig(f\"predict/WAM_ROC-left{left}-right{right}.png\",dpi=400)"
   ]
  },
  {
   "cell_type": "code",
   "execution_count": 90,
   "id": "d947d76d-7a38-48e3-9876-708dcc2caf47",
   "metadata": {},
   "outputs": [],
   "source": [
    "\n",
    "df_all_threshold[\"Sn\"] =df_all_threshold[\"Sn\"] .apply(lambda x: format(x, '.2%')) \n",
    "df_all_threshold[\"Sp\"] =df_all_threshold[\"Sp\"] .apply(lambda x: format(x, '.2%')) \n",
    "df_all_threshold[\"Precision\"] =df_all_threshold[\"Precision\"] .apply(lambda x: format(x, '.2%')) \n",
    "df_all_threshold[\"FPR\"] =df_all_threshold[\"FPR\"] .apply(lambda x: format(x, '.2%')) \n",
    "df_all_threshold[\"Acc\"] =df_all_threshold[\"Acc\"] .apply(lambda x: format(x, '.2%')) \n"
   ]
  },
  {
   "cell_type": "code",
   "execution_count": 91,
   "id": "a08ed0f2-b387-49cc-b6b8-9c63858fd8d3",
   "metadata": {},
   "outputs": [],
   "source": [
    "df_all_threshold.to_csv(\"predict/All_Threshold_info(%).csv\")"
   ]
  },
  {
   "cell_type": "code",
   "execution_count": 92,
   "id": "55eb5034-b0cb-4d02-908b-c20ab5e42dbb",
   "metadata": {},
   "outputs": [],
   "source": [
    "# i=1\n",
    "# threshold=-4\n",
    "# TP_count = 0\n",
    "# FP_count = 0\n",
    "# FN_count = 0\n",
    "# predict_count = 0\n",
    "# seq= test_seq_list[i][3000:3200]\n",
    "# seq_length = len(seq)\n",
    "# scores = []\n",
    "# predict_sites = []\n",
    "# positive_sites = []\n",
    "# negative_sites = []\n",
    "# for pos in  range(seq_length-signal_num):\n",
    "#     signal = seq[pos:pos+signal_num]\n",
    "#     no_known =pattern.search(signal)\n",
    "#     if no_known:\n",
    "#         break\n",
    "#     else:\n",
    "#         s=cal_WAM(signal)\n",
    "#         predict_count +=1\n",
    "#         print(s)\n",
    "#         if s > threshold:\n",
    "# #             scores.append(s)\n",
    "#             predict_site= pos+4\n",
    "#             predict_sites.append(predict_site)\n",
    "#             if predict_site in test_donor_list[i]:\n",
    "#                 TP_count +=1\n",
    "#                 positive_sites.append(predict_site)\n",
    "#             else:\n",
    "#                 FP_count +=1\n",
    "#                 negative_sites.append(predict_site)\n",
    "# print(TP_count)\n",
    "# print(FP_count)\n",
    "# print(seq_length)\n",
    "# print(test_donor_list[i])\n"
   ]
  },
  {
   "cell_type": "code",
   "execution_count": null,
   "id": "43ba5802-27e4-4c01-89f1-72994334de5d",
   "metadata": {},
   "outputs": [],
   "source": [
    "print()"
   ]
  }
 ],
 "metadata": {
  "kernelspec": {
   "display_name": "Python 3",
   "language": "python",
   "name": "python3"
  },
  "language_info": {
   "codemirror_mode": {
    "name": "ipython",
    "version": 3
   },
   "file_extension": ".py",
   "mimetype": "text/x-python",
   "name": "python",
   "nbconvert_exporter": "python",
   "pygments_lexer": "ipython3",
   "version": "3.8.5"
  }
 },
 "nbformat": 4,
 "nbformat_minor": 5
}
